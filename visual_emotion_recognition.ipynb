{
 "cells": [
  {
   "cell_type": "code",
   "execution_count": 2,
   "id": "7452a112-b2b7-4b64-b3d6-5e517405d86d",
   "metadata": {},
   "outputs": [
    {
     "name": "stderr",
     "output_type": "stream",
     "text": [
      "2022-10-12 11:34:26.218976: I tensorflow/core/platform/cpu_feature_guard.cc:193] This TensorFlow binary is optimized with oneAPI Deep Neural Network Library (oneDNN) to use the following CPU instructions in performance-critical operations:  AVX2 AVX_VNNI FMA\n",
      "To enable them in other operations, rebuild TensorFlow with the appropriate compiler flags.\n",
      "2022-10-12 11:34:26.305417: I tensorflow/core/util/util.cc:169] oneDNN custom operations are on. You may see slightly different numerical results due to floating-point round-off errors from different computation orders. To turn them off, set the environment variable `TF_ENABLE_ONEDNN_OPTS=0`.\n",
      "2022-10-12 11:34:26.325928: E tensorflow/stream_executor/cuda/cuda_blas.cc:2981] Unable to register cuBLAS factory: Attempting to register factory for plugin cuBLAS when one has already been registered\n",
      "2022-10-12 11:34:26.715101: W tensorflow/stream_executor/platform/default/dso_loader.cc:64] Could not load dynamic library 'libnvinfer.so.7'; dlerror: libnvinfer.so.7: cannot open shared object file: No such file or directory\n",
      "2022-10-12 11:34:26.715139: W tensorflow/stream_executor/platform/default/dso_loader.cc:64] Could not load dynamic library 'libnvinfer_plugin.so.7'; dlerror: libnvinfer_plugin.so.7: cannot open shared object file: No such file or directory\n",
      "2022-10-12 11:34:26.715142: W tensorflow/compiler/tf2tensorrt/utils/py_utils.cc:38] TF-TRT Warning: Cannot dlopen some TensorRT libraries. If you would like to use Nvidia GPU with TensorRT, please make sure the missing libraries mentioned above are installed properly.\n"
     ]
    }
   ],
   "source": [
    "import tensorflow as tf\n",
    "from tensorflow.keras import Model\n",
    "from tensorflow.keras.callbacks import ModelCheckpoint\n",
    "from tensorflow.keras.layers import Input, Bidirectional, Dense, Conv1D, Conv3D, LSTM, ConvLSTM1D, ConvLSTM2D, Flatten, Concatenate, TimeDistributed\n",
    "from utilz import *\n",
    "import numpy as np\n",
    "from sklearn.metrics import classification_report, confusion_matrix"
   ]
  },
  {
   "cell_type": "code",
   "execution_count": 3,
   "id": "0263d40b-f732-4e7d-a9c3-f7939744525b",
   "metadata": {},
   "outputs": [],
   "source": [
    "visual_ori = load_features('./data/visual_mpori.pkl')\n",
    "visual_of = load_features('./data/visual_OFfts.pkl')\n",
    "visual_clip = load_features('./data/visual_clip.pkl')\n",
    "label = load_features('./data/labels.pkl')"
   ]
  },
  {
   "cell_type": "code",
   "execution_count": 22,
   "id": "a3ac446f-3d69-4aed-86aa-6fc70528cfb8",
   "metadata": {},
   "outputs": [
    {
     "name": "stdout",
     "output_type": "stream",
     "text": [
      "(1368, 10, 64, 64) (1368, 30, 49) (1368, 10, 512)\n"
     ]
    }
   ],
   "source": [
    "print(np.shape(visual_ori['train']),\n",
    "      np.shape(visual_of['train']),\n",
    "      np.shape(visual_clip['train']))"
   ]
  },
  {
   "cell_type": "markdown",
   "id": "dd9a6a62-7829-47e0-8269-f182b4b90ad9",
   "metadata": {},
   "source": [
    "# Model 1"
   ]
  },
  {
   "cell_type": "code",
   "execution_count": 4,
   "id": "40bdca6f-8b12-4f4e-b80e-7ad95e119fd1",
   "metadata": {
    "scrolled": true,
    "tags": []
   },
   "outputs": [
    {
     "name": "stdout",
     "output_type": "stream",
     "text": [
      "Model: \"model\"\n",
      "_________________________________________________________________\n",
      " Layer (type)                Output Shape              Param #   \n",
      "=================================================================\n",
      " input_1 (InputLayer)        [(None, 10, 64, 64, 1)]   0         \n",
      "                                                                 \n",
      " conv3d (Conv3D)             (None, 5, 32, 32, 16)     448       \n",
      "                                                                 \n",
      " conv3d_1 (Conv3D)           (None, 3, 16, 16, 32)     544       \n",
      "                                                                 \n",
      " conv3d_2 (Conv3D)           (None, 2, 8, 8, 8)        6920      \n",
      "                                                                 \n",
      " flatten (Flatten)           (None, 1024)              0         \n",
      "                                                                 \n",
      " dense (Dense)               (None, 3)                 3075      \n",
      "                                                                 \n",
      "=================================================================\n",
      "Total params: 10,987\n",
      "Trainable params: 10,987\n",
      "Non-trainable params: 0\n",
      "_________________________________________________________________\n"
     ]
    },
    {
     "name": "stderr",
     "output_type": "stream",
     "text": [
      "2022-10-06 12:19:45.335570: I tensorflow/stream_executor/cuda/cuda_gpu_executor.cc:980] successful NUMA node read from SysFS had negative value (-1), but there must be at least one NUMA node, so returning NUMA node zero\n",
      "2022-10-06 12:19:45.363957: I tensorflow/stream_executor/cuda/cuda_gpu_executor.cc:980] successful NUMA node read from SysFS had negative value (-1), but there must be at least one NUMA node, so returning NUMA node zero\n",
      "2022-10-06 12:19:45.364100: I tensorflow/stream_executor/cuda/cuda_gpu_executor.cc:980] successful NUMA node read from SysFS had negative value (-1), but there must be at least one NUMA node, so returning NUMA node zero\n",
      "2022-10-06 12:19:45.364439: I tensorflow/core/platform/cpu_feature_guard.cc:193] This TensorFlow binary is optimized with oneAPI Deep Neural Network Library (oneDNN) to use the following CPU instructions in performance-critical operations:  AVX2 AVX_VNNI FMA\n",
      "To enable them in other operations, rebuild TensorFlow with the appropriate compiler flags.\n",
      "2022-10-06 12:19:45.365943: I tensorflow/stream_executor/cuda/cuda_gpu_executor.cc:980] successful NUMA node read from SysFS had negative value (-1), but there must be at least one NUMA node, so returning NUMA node zero\n",
      "2022-10-06 12:19:45.366143: I tensorflow/stream_executor/cuda/cuda_gpu_executor.cc:980] successful NUMA node read from SysFS had negative value (-1), but there must be at least one NUMA node, so returning NUMA node zero\n",
      "2022-10-06 12:19:45.366293: I tensorflow/stream_executor/cuda/cuda_gpu_executor.cc:980] successful NUMA node read from SysFS had negative value (-1), but there must be at least one NUMA node, so returning NUMA node zero\n",
      "2022-10-06 12:19:45.733496: I tensorflow/stream_executor/cuda/cuda_gpu_executor.cc:980] successful NUMA node read from SysFS had negative value (-1), but there must be at least one NUMA node, so returning NUMA node zero\n",
      "2022-10-06 12:19:45.733637: I tensorflow/stream_executor/cuda/cuda_gpu_executor.cc:980] successful NUMA node read from SysFS had negative value (-1), but there must be at least one NUMA node, so returning NUMA node zero\n",
      "2022-10-06 12:19:45.733716: I tensorflow/stream_executor/cuda/cuda_gpu_executor.cc:980] successful NUMA node read from SysFS had negative value (-1), but there must be at least one NUMA node, so returning NUMA node zero\n",
      "2022-10-06 12:19:45.733790: I tensorflow/core/common_runtime/gpu/gpu_device.cc:1616] Created device /job:localhost/replica:0/task:0/device:GPU:0 with 12622 MB memory:  -> device: 0, name: NVIDIA GeForce RTX 3080 Ti Laptop GPU, pci bus id: 0000:01:00.0, compute capability: 8.6\n"
     ]
    }
   ],
   "source": [
    "x = Input((10, 64, 64, 1))\n",
    "h = Conv3D(16, [3,3,3], [2,2,2], 'same')(x)\n",
    "h = Conv3D(32, [1,1,1], [2,2,2], 'same')(h)\n",
    "h = Conv3D(8, [3,3,3], [2,2,2], 'same')(h)\n",
    "\n",
    "h = Flatten()(h)\n",
    "res = Dense(3, 'softmax')(h)\n",
    "\n",
    "model = Model(inputs=x, outputs=res)\n",
    "model.compile(optimizer='Adam', loss=tf.keras.losses.SparseCategoricalCrossentropy(), metrics='acc')\n",
    "model.summary()"
   ]
  },
  {
   "cell_type": "code",
   "execution_count": 5,
   "id": "5498d771-5403-4b3e-bfe0-fcb35b884094",
   "metadata": {
    "scrolled": true,
    "tags": []
   },
   "outputs": [
    {
     "name": "stdout",
     "output_type": "stream",
     "text": [
      "Epoch 1/30\n"
     ]
    },
    {
     "name": "stderr",
     "output_type": "stream",
     "text": [
      "2022-10-06 12:19:50.158569: I tensorflow/stream_executor/cuda/cuda_dnn.cc:384] Loaded cuDNN version 8500\n"
     ]
    },
    {
     "name": "stdout",
     "output_type": "stream",
     "text": [
      " 1/86 [..............................] - ETA: 2:10 - loss: 29.3258 - acc: 0.1875"
     ]
    },
    {
     "name": "stderr",
     "output_type": "stream",
     "text": [
      "2022-10-06 12:19:50.585265: I tensorflow/stream_executor/cuda/cuda_blas.cc:1614] TensorFloat-32 will be used for the matrix multiplication. This will only be logged once.\n"
     ]
    },
    {
     "name": "stdout",
     "output_type": "stream",
     "text": [
      "71/86 [=======================>......] - ETA: 0s - loss: 8.6513 - acc: 0.4085"
     ]
    },
    {
     "name": "stderr",
     "output_type": "stream",
     "text": [
      "WARNING:absl:Found untraced functions such as _jit_compiled_convolution_op, _jit_compiled_convolution_op, _jit_compiled_convolution_op while saving (showing 3 of 3). These functions will not be directly callable after loading.\n"
     ]
    },
    {
     "name": "stdout",
     "output_type": "stream",
     "text": [
      "INFO:tensorflow:Assets written to: ./res/V_model_CNN_mpori.tf/assets\n"
     ]
    },
    {
     "name": "stderr",
     "output_type": "stream",
     "text": [
      "INFO:tensorflow:Assets written to: ./res/V_model_CNN_mpori.tf/assets\n"
     ]
    },
    {
     "name": "stdout",
     "output_type": "stream",
     "text": [
      "86/86 [==============================] - 2s 11ms/step - loss: 8.0662 - acc: 0.4072 - val_loss: 4.0373 - val_acc: 0.4781\n",
      "Epoch 2/30\n",
      "76/86 [=========================>....] - ETA: 0s - loss: 2.7394 - acc: 0.5173"
     ]
    },
    {
     "name": "stderr",
     "output_type": "stream",
     "text": [
      "WARNING:absl:Found untraced functions such as _jit_compiled_convolution_op, _jit_compiled_convolution_op, _jit_compiled_convolution_op while saving (showing 3 of 3). These functions will not be directly callable after loading.\n"
     ]
    },
    {
     "name": "stdout",
     "output_type": "stream",
     "text": [
      "INFO:tensorflow:Assets written to: ./res/V_model_CNN_mpori.tf/assets\n"
     ]
    },
    {
     "name": "stderr",
     "output_type": "stream",
     "text": [
      "INFO:tensorflow:Assets written to: ./res/V_model_CNN_mpori.tf/assets\n"
     ]
    },
    {
     "name": "stdout",
     "output_type": "stream",
     "text": [
      "86/86 [==============================] - 1s 7ms/step - loss: 2.7064 - acc: 0.5132 - val_loss: 3.2474 - val_acc: 0.4342\n",
      "Epoch 3/30\n",
      "76/86 [=========================>....] - ETA: 0s - loss: 1.5347 - acc: 0.6127"
     ]
    },
    {
     "name": "stderr",
     "output_type": "stream",
     "text": [
      "WARNING:absl:Found untraced functions such as _jit_compiled_convolution_op, _jit_compiled_convolution_op, _jit_compiled_convolution_op while saving (showing 3 of 3). These functions will not be directly callable after loading.\n"
     ]
    },
    {
     "name": "stdout",
     "output_type": "stream",
     "text": [
      "INFO:tensorflow:Assets written to: ./res/V_model_CNN_mpori.tf/assets\n"
     ]
    },
    {
     "name": "stderr",
     "output_type": "stream",
     "text": [
      "INFO:tensorflow:Assets written to: ./res/V_model_CNN_mpori.tf/assets\n"
     ]
    },
    {
     "name": "stdout",
     "output_type": "stream",
     "text": [
      "86/86 [==============================] - 1s 7ms/step - loss: 1.5546 - acc: 0.6111 - val_loss: 2.8864 - val_acc: 0.4781\n",
      "Epoch 4/30\n",
      "81/86 [===========================>..] - ETA: 0s - loss: 0.9711 - acc: 0.6952"
     ]
    },
    {
     "name": "stderr",
     "output_type": "stream",
     "text": [
      "WARNING:absl:Found untraced functions such as _jit_compiled_convolution_op, _jit_compiled_convolution_op, _jit_compiled_convolution_op while saving (showing 3 of 3). These functions will not be directly callable after loading.\n"
     ]
    },
    {
     "name": "stdout",
     "output_type": "stream",
     "text": [
      "INFO:tensorflow:Assets written to: ./res/V_model_CNN_mpori.tf/assets\n"
     ]
    },
    {
     "name": "stderr",
     "output_type": "stream",
     "text": [
      "INFO:tensorflow:Assets written to: ./res/V_model_CNN_mpori.tf/assets\n"
     ]
    },
    {
     "name": "stdout",
     "output_type": "stream",
     "text": [
      "86/86 [==============================] - 1s 7ms/step - loss: 0.9960 - acc: 0.6908 - val_loss: 2.7931 - val_acc: 0.4189\n",
      "Epoch 5/30\n",
      "71/86 [=======================>......] - ETA: 0s - loss: 0.6678 - acc: 0.7623"
     ]
    },
    {
     "name": "stderr",
     "output_type": "stream",
     "text": [
      "WARNING:absl:Found untraced functions such as _jit_compiled_convolution_op, _jit_compiled_convolution_op, _jit_compiled_convolution_op while saving (showing 3 of 3). These functions will not be directly callable after loading.\n"
     ]
    },
    {
     "name": "stdout",
     "output_type": "stream",
     "text": [
      "INFO:tensorflow:Assets written to: ./res/V_model_CNN_mpori.tf/assets\n"
     ]
    },
    {
     "name": "stderr",
     "output_type": "stream",
     "text": [
      "INFO:tensorflow:Assets written to: ./res/V_model_CNN_mpori.tf/assets\n"
     ]
    },
    {
     "name": "stdout",
     "output_type": "stream",
     "text": [
      "86/86 [==============================] - 1s 8ms/step - loss: 0.6754 - acc: 0.7610 - val_loss: 2.6713 - val_acc: 0.4320\n",
      "Epoch 6/30\n",
      "86/86 [==============================] - 0s 3ms/step - loss: 0.4920 - acc: 0.8077 - val_loss: 2.8357 - val_acc: 0.4649\n",
      "Epoch 7/30\n",
      "86/86 [==============================] - 0s 3ms/step - loss: 0.3632 - acc: 0.8662 - val_loss: 2.7742 - val_acc: 0.4276\n",
      "Epoch 8/30\n",
      "86/86 [==============================] - 0s 3ms/step - loss: 0.2591 - acc: 0.9057 - val_loss: 2.7736 - val_acc: 0.4320\n",
      "Epoch 9/30\n",
      "86/86 [==============================] - 0s 3ms/step - loss: 0.2105 - acc: 0.9247 - val_loss: 2.8930 - val_acc: 0.4496\n",
      "Epoch 10/30\n",
      "86/86 [==============================] - 0s 3ms/step - loss: 0.1716 - acc: 0.9459 - val_loss: 2.9733 - val_acc: 0.4408\n",
      "Epoch 11/30\n",
      "86/86 [==============================] - 0s 3ms/step - loss: 0.1184 - acc: 0.9722 - val_loss: 3.2057 - val_acc: 0.4232\n",
      "Epoch 12/30\n",
      "86/86 [==============================] - 0s 3ms/step - loss: 0.0917 - acc: 0.9817 - val_loss: 3.0894 - val_acc: 0.4583\n",
      "Epoch 13/30\n",
      "86/86 [==============================] - 0s 3ms/step - loss: 0.0611 - acc: 0.9942 - val_loss: 3.2058 - val_acc: 0.4364\n",
      "Epoch 14/30\n",
      "86/86 [==============================] - 0s 3ms/step - loss: 0.0430 - acc: 0.9978 - val_loss: 3.2760 - val_acc: 0.4539\n",
      "Epoch 15/30\n",
      "86/86 [==============================] - 0s 3ms/step - loss: 0.0335 - acc: 0.9993 - val_loss: 3.3920 - val_acc: 0.4452\n",
      "Epoch 16/30\n",
      "86/86 [==============================] - 0s 3ms/step - loss: 0.0276 - acc: 1.0000 - val_loss: 3.4732 - val_acc: 0.4474\n",
      "Epoch 17/30\n",
      "86/86 [==============================] - 0s 4ms/step - loss: 0.0226 - acc: 1.0000 - val_loss: 3.5405 - val_acc: 0.4539\n",
      "Epoch 18/30\n",
      "86/86 [==============================] - 0s 4ms/step - loss: 0.0190 - acc: 1.0000 - val_loss: 3.6114 - val_acc: 0.4452\n",
      "Epoch 19/30\n",
      "86/86 [==============================] - 0s 4ms/step - loss: 0.0161 - acc: 1.0000 - val_loss: 3.6811 - val_acc: 0.4605\n",
      "Epoch 20/30\n",
      "86/86 [==============================] - 0s 3ms/step - loss: 0.0142 - acc: 1.0000 - val_loss: 3.7343 - val_acc: 0.4452\n",
      "Epoch 21/30\n",
      "86/86 [==============================] - 0s 3ms/step - loss: 0.0124 - acc: 1.0000 - val_loss: 3.8164 - val_acc: 0.4518\n",
      "Epoch 22/30\n",
      "86/86 [==============================] - 0s 4ms/step - loss: 0.0107 - acc: 1.0000 - val_loss: 3.8719 - val_acc: 0.4583\n",
      "Epoch 23/30\n",
      "86/86 [==============================] - 0s 4ms/step - loss: 0.0096 - acc: 1.0000 - val_loss: 3.9110 - val_acc: 0.4605\n",
      "Epoch 24/30\n",
      "86/86 [==============================] - 0s 4ms/step - loss: 0.0085 - acc: 1.0000 - val_loss: 3.9944 - val_acc: 0.4364\n",
      "Epoch 25/30\n",
      "86/86 [==============================] - 0s 3ms/step - loss: 0.0077 - acc: 1.0000 - val_loss: 4.0542 - val_acc: 0.4408\n",
      "Epoch 26/30\n",
      "86/86 [==============================] - 0s 4ms/step - loss: 0.0068 - acc: 1.0000 - val_loss: 4.1031 - val_acc: 0.4452\n",
      "Epoch 27/30\n",
      "86/86 [==============================] - 0s 4ms/step - loss: 0.0061 - acc: 1.0000 - val_loss: 4.1469 - val_acc: 0.4518\n",
      "Epoch 28/30\n",
      "86/86 [==============================] - 0s 4ms/step - loss: 0.0055 - acc: 1.0000 - val_loss: 4.2052 - val_acc: 0.4539\n",
      "Epoch 29/30\n",
      "86/86 [==============================] - 0s 4ms/step - loss: 0.0051 - acc: 1.0000 - val_loss: 4.2608 - val_acc: 0.4518\n",
      "Epoch 30/30\n",
      "86/86 [==============================] - 0s 3ms/step - loss: 0.0045 - acc: 1.0000 - val_loss: 4.2922 - val_acc: 0.4561\n"
     ]
    },
    {
     "data": {
      "text/plain": [
       "<keras.callbacks.History at 0x7f506a5c7850>"
      ]
     },
     "execution_count": 5,
     "metadata": {},
     "output_type": "execute_result"
    }
   ],
   "source": [
    "callback_list = [ModelCheckpoint(filepath='./res/V_model_CNN_mpori.tf', monitor='val_loss', save_best_only=True, save_freq='epoch')]\n",
    "\n",
    "model.fit(x=np.expand_dims(visual_ori['train'], axis=-1), y=np.asarray(label['train']), batch_size=16, epochs=30, \n",
    "            validation_data=[np.expand_dims(visual_ori['valid'], axis=-1), np.asarray(label['valid'])],\n",
    "            callbacks=callback_list)"
   ]
  },
  {
   "cell_type": "code",
   "execution_count": 10,
   "id": "6b025de8-77f9-4f2a-b06e-d54462318268",
   "metadata": {},
   "outputs": [
    {
     "name": "stdout",
     "output_type": "stream",
     "text": [
      "15/15 [==============================] - 0s 2ms/step\n",
      "              precision    recall  f1-score   support\n",
      "\n",
      "         Neg     0.5294    0.4355    0.4779       248\n",
      "         Pos     0.3046    0.3286    0.3162       140\n",
      "         Neu     0.1275    0.1884    0.1520        69\n",
      "\n",
      "    accuracy                         0.3654       457\n",
      "   macro avg     0.3205    0.3175    0.3154       457\n",
      "weighted avg     0.3999    0.3654    0.3791       457\n",
      "\n",
      "[[108  82  58]\n",
      " [ 63  46  31]\n",
      " [ 33  23  13]]\n"
     ]
    }
   ],
   "source": [
    "model = tf.keras.models.load_model('./res/V_model_CNN_mpori.tf/')\n",
    "pred = model.predict(np.expand_dims(visual_ori['test'], axis=-1))\n",
    "predicted_test_labels = pred.argmax(axis=1)\n",
    "numeric_test_labels = np.array(label['test'])\n",
    "            \n",
    "eval_res = classification_report(numeric_test_labels, predicted_test_labels, \n",
    "                                    target_names = ['Neg', 'Pos', 'Neu'], \n",
    "                                    digits=4, output_dict=False)\n",
    "\n",
    "print(eval_res)\n",
    "\n",
    "cm = confusion_matrix(y_true=numeric_test_labels.tolist(), y_pred=predicted_test_labels.tolist())\n",
    "print(cm)"
   ]
  },
  {
   "cell_type": "code",
   "execution_count": 60,
   "id": "01f4f37f-d7b1-438d-b62b-87c54a067f99",
   "metadata": {},
   "outputs": [
    {
     "name": "stdout",
     "output_type": "stream",
     "text": [
      "Model: \"model_29\"\n",
      "_________________________________________________________________\n",
      " Layer (type)                Output Shape              Param #   \n",
      "=================================================================\n",
      " input_24 (InputLayer)       [(None, 30, 49)]          0         \n",
      "                                                                 \n",
      " conv1d_1 (Conv1D)           (None, 30, 64)            9472      \n",
      "                                                                 \n",
      " conv1d_2 (Conv1D)           (None, 30, 64)            4160      \n",
      "                                                                 \n",
      " conv1d_3 (Conv1D)           (None, 30, 64)            12352     \n",
      "                                                                 \n",
      " flatten_22 (Flatten)        (None, 1920)              0         \n",
      "                                                                 \n",
      " dense_55 (Dense)            (None, 3)                 5763      \n",
      "                                                                 \n",
      "=================================================================\n",
      "Total params: 31,747\n",
      "Trainable params: 31,747\n",
      "Non-trainable params: 0\n",
      "_________________________________________________________________\n"
     ]
    }
   ],
   "source": [
    "x = Input((30, 49))\n",
    "h = Conv1D(64, 3, 1, 'same')(x)\n",
    "h = Conv1D(64, 1, 1, 'same')(h)\n",
    "h = Conv1D(64, 3, 1, 'same')(h)\n",
    "h = Flatten()(h)\n",
    "res = Dense(3, 'softmax')(h)\n",
    "\n",
    "model = Model(inputs=x, outputs=res)\n",
    "model.compile(optimizer='Adam', loss=tf.keras.losses.SparseCategoricalCrossentropy(), metrics='acc')\n",
    "model.summary()"
   ]
  },
  {
   "cell_type": "code",
   "execution_count": 61,
   "id": "3eacdc49-df5e-40b7-a3c6-b5ab237a3c22",
   "metadata": {
    "scrolled": true,
    "tags": []
   },
   "outputs": [
    {
     "name": "stdout",
     "output_type": "stream",
     "text": [
      "Epoch 1/30\n",
      "86/86 [==============================] - ETA: 0s - loss: 32.5679 - acc: 0.4145"
     ]
    },
    {
     "name": "stderr",
     "output_type": "stream",
     "text": [
      "WARNING:absl:Found untraced functions such as _jit_compiled_convolution_op, _jit_compiled_convolution_op, _jit_compiled_convolution_op while saving (showing 3 of 3). These functions will not be directly callable after loading.\n"
     ]
    },
    {
     "name": "stdout",
     "output_type": "stream",
     "text": [
      "INFO:tensorflow:Assets written to: ./res/V_model_CNN_of.tf/assets\n"
     ]
    },
    {
     "name": "stderr",
     "output_type": "stream",
     "text": [
      "INFO:tensorflow:Assets written to: ./res/V_model_CNN_of.tf/assets\n"
     ]
    },
    {
     "name": "stdout",
     "output_type": "stream",
     "text": [
      "86/86 [==============================] - 1s 10ms/step - loss: 32.5679 - acc: 0.4145 - val_loss: 4.5351 - val_acc: 0.3289\n",
      "Epoch 2/30\n",
      "86/86 [==============================] - 0s 2ms/step - loss: 5.0057 - acc: 0.4437 - val_loss: 9.1261 - val_acc: 0.1667\n",
      "Epoch 3/30\n",
      "73/86 [========================>.....] - ETA: 0s - loss: 4.5452 - acc: 0.4264"
     ]
    },
    {
     "name": "stderr",
     "output_type": "stream",
     "text": [
      "WARNING:absl:Found untraced functions such as _jit_compiled_convolution_op, _jit_compiled_convolution_op, _jit_compiled_convolution_op while saving (showing 3 of 3). These functions will not be directly callable after loading.\n"
     ]
    },
    {
     "name": "stdout",
     "output_type": "stream",
     "text": [
      "INFO:tensorflow:Assets written to: ./res/V_model_CNN_of.tf/assets\n"
     ]
    },
    {
     "name": "stderr",
     "output_type": "stream",
     "text": [
      "INFO:tensorflow:Assets written to: ./res/V_model_CNN_of.tf/assets\n"
     ]
    },
    {
     "name": "stdout",
     "output_type": "stream",
     "text": [
      "86/86 [==============================] - 1s 6ms/step - loss: 4.3482 - acc: 0.4225 - val_loss: 3.2565 - val_acc: 0.3202\n",
      "Epoch 4/30\n",
      "81/86 [===========================>..] - ETA: 0s - loss: 2.7926 - acc: 0.4630"
     ]
    },
    {
     "name": "stderr",
     "output_type": "stream",
     "text": [
      "WARNING:absl:Found untraced functions such as _jit_compiled_convolution_op, _jit_compiled_convolution_op, _jit_compiled_convolution_op while saving (showing 3 of 3). These functions will not be directly callable after loading.\n"
     ]
    },
    {
     "name": "stdout",
     "output_type": "stream",
     "text": [
      "INFO:tensorflow:Assets written to: ./res/V_model_CNN_of.tf/assets\n"
     ]
    },
    {
     "name": "stderr",
     "output_type": "stream",
     "text": [
      "INFO:tensorflow:Assets written to: ./res/V_model_CNN_of.tf/assets\n"
     ]
    },
    {
     "name": "stdout",
     "output_type": "stream",
     "text": [
      "86/86 [==============================] - 1s 7ms/step - loss: 2.8003 - acc: 0.4664 - val_loss: 2.0757 - val_acc: 0.3596\n",
      "Epoch 5/30\n",
      "86/86 [==============================] - 0s 5ms/step - loss: 2.1552 - acc: 0.4788 - val_loss: 2.2641 - val_acc: 0.4978\n",
      "Epoch 6/30\n",
      "86/86 [==============================] - 0s 4ms/step - loss: 2.1755 - acc: 0.4591 - val_loss: 2.2378 - val_acc: 0.5307\n",
      "Epoch 7/30\n",
      "67/86 [======================>.......] - ETA: 0s - loss: 1.9002 - acc: 0.4841"
     ]
    },
    {
     "name": "stderr",
     "output_type": "stream",
     "text": [
      "WARNING:absl:Found untraced functions such as _jit_compiled_convolution_op, _jit_compiled_convolution_op, _jit_compiled_convolution_op while saving (showing 3 of 3). These functions will not be directly callable after loading.\n"
     ]
    },
    {
     "name": "stdout",
     "output_type": "stream",
     "text": [
      "INFO:tensorflow:Assets written to: ./res/V_model_CNN_of.tf/assets\n"
     ]
    },
    {
     "name": "stderr",
     "output_type": "stream",
     "text": [
      "INFO:tensorflow:Assets written to: ./res/V_model_CNN_of.tf/assets\n"
     ]
    },
    {
     "name": "stdout",
     "output_type": "stream",
     "text": [
      "86/86 [==============================] - 1s 6ms/step - loss: 1.8212 - acc: 0.4942 - val_loss: 1.6617 - val_acc: 0.4649\n",
      "Epoch 8/30\n",
      "86/86 [==============================] - 0s 2ms/step - loss: 1.8619 - acc: 0.5102 - val_loss: 2.0455 - val_acc: 0.5022\n",
      "Epoch 9/30\n",
      "86/86 [==============================] - 0s 2ms/step - loss: 1.7553 - acc: 0.4971 - val_loss: 2.1099 - val_acc: 0.3399\n",
      "Epoch 10/30\n",
      "86/86 [==============================] - 0s 2ms/step - loss: 1.2520 - acc: 0.5629 - val_loss: 1.9239 - val_acc: 0.5219\n",
      "Epoch 11/30\n",
      "86/86 [==============================] - 0s 2ms/step - loss: 1.2708 - acc: 0.5658 - val_loss: 2.0730 - val_acc: 0.3728\n",
      "Epoch 12/30\n",
      "86/86 [==============================] - 0s 2ms/step - loss: 1.0637 - acc: 0.5921 - val_loss: 1.8695 - val_acc: 0.4408\n",
      "Epoch 13/30\n",
      "86/86 [==============================] - 0s 2ms/step - loss: 2.6421 - acc: 0.5044 - val_loss: 7.6545 - val_acc: 0.3311\n",
      "Epoch 14/30\n",
      "62/86 [====================>.........] - ETA: 0s - loss: 1.7527 - acc: 0.5464"
     ]
    },
    {
     "name": "stderr",
     "output_type": "stream",
     "text": [
      "WARNING:absl:Found untraced functions such as _jit_compiled_convolution_op, _jit_compiled_convolution_op, _jit_compiled_convolution_op while saving (showing 3 of 3). These functions will not be directly callable after loading.\n"
     ]
    },
    {
     "name": "stdout",
     "output_type": "stream",
     "text": [
      "INFO:tensorflow:Assets written to: ./res/V_model_CNN_of.tf/assets\n"
     ]
    },
    {
     "name": "stderr",
     "output_type": "stream",
     "text": [
      "INFO:tensorflow:Assets written to: ./res/V_model_CNN_of.tf/assets\n"
     ]
    },
    {
     "name": "stdout",
     "output_type": "stream",
     "text": [
      "86/86 [==============================] - 1s 6ms/step - loss: 1.5575 - acc: 0.5673 - val_loss: 1.6044 - val_acc: 0.5219\n",
      "Epoch 15/30\n",
      "64/86 [=====================>........] - ETA: 0s - loss: 0.9546 - acc: 0.6357"
     ]
    },
    {
     "name": "stderr",
     "output_type": "stream",
     "text": [
      "WARNING:absl:Found untraced functions such as _jit_compiled_convolution_op, _jit_compiled_convolution_op, _jit_compiled_convolution_op while saving (showing 3 of 3). These functions will not be directly callable after loading.\n"
     ]
    },
    {
     "name": "stdout",
     "output_type": "stream",
     "text": [
      "INFO:tensorflow:Assets written to: ./res/V_model_CNN_of.tf/assets\n"
     ]
    },
    {
     "name": "stderr",
     "output_type": "stream",
     "text": [
      "INFO:tensorflow:Assets written to: ./res/V_model_CNN_of.tf/assets\n"
     ]
    },
    {
     "name": "stdout",
     "output_type": "stream",
     "text": [
      "86/86 [==============================] - 1s 6ms/step - loss: 0.9721 - acc: 0.6287 - val_loss: 1.3928 - val_acc: 0.5504\n",
      "Epoch 16/30\n",
      "86/86 [==============================] - 0s 2ms/step - loss: 0.9603 - acc: 0.6396 - val_loss: 1.6377 - val_acc: 0.4890\n",
      "Epoch 17/30\n",
      "86/86 [==============================] - 0s 2ms/step - loss: 0.9065 - acc: 0.6411 - val_loss: 1.8931 - val_acc: 0.5461\n",
      "Epoch 18/30\n",
      "86/86 [==============================] - 0s 2ms/step - loss: 1.0143 - acc: 0.6279 - val_loss: 1.4633 - val_acc: 0.5022\n",
      "Epoch 19/30\n",
      "86/86 [==============================] - 0s 2ms/step - loss: 0.9988 - acc: 0.6557 - val_loss: 2.0323 - val_acc: 0.3684\n",
      "Epoch 20/30\n",
      "86/86 [==============================] - 0s 2ms/step - loss: 0.9491 - acc: 0.6411 - val_loss: 2.5594 - val_acc: 0.5329\n",
      "Epoch 21/30\n",
      "86/86 [==============================] - 0s 2ms/step - loss: 0.9588 - acc: 0.6396 - val_loss: 1.8058 - val_acc: 0.4956\n",
      "Epoch 22/30\n",
      "86/86 [==============================] - 0s 2ms/step - loss: 1.0515 - acc: 0.6265 - val_loss: 1.6036 - val_acc: 0.5351\n",
      "Epoch 23/30\n",
      "86/86 [==============================] - 0s 2ms/step - loss: 0.9467 - acc: 0.6557 - val_loss: 2.1911 - val_acc: 0.5329\n",
      "Epoch 24/30\n",
      "86/86 [==============================] - 0s 2ms/step - loss: 1.0918 - acc: 0.6396 - val_loss: 1.5298 - val_acc: 0.5175\n",
      "Epoch 25/30\n",
      "86/86 [==============================] - 0s 2ms/step - loss: 0.8962 - acc: 0.6667 - val_loss: 2.0340 - val_acc: 0.3509\n",
      "Epoch 26/30\n",
      "86/86 [==============================] - 0s 2ms/step - loss: 1.1852 - acc: 0.6477 - val_loss: 1.5990 - val_acc: 0.5044\n",
      "Epoch 27/30\n",
      "86/86 [==============================] - 0s 2ms/step - loss: 0.6982 - acc: 0.7127 - val_loss: 2.0638 - val_acc: 0.5395\n",
      "Epoch 28/30\n",
      "86/86 [==============================] - 0s 2ms/step - loss: 1.1223 - acc: 0.6462 - val_loss: 1.5991 - val_acc: 0.5395\n",
      "Epoch 29/30\n",
      "86/86 [==============================] - 0s 2ms/step - loss: 1.5841 - acc: 0.5965 - val_loss: 2.0635 - val_acc: 0.4298\n",
      "Epoch 30/30\n",
      "86/86 [==============================] - 0s 2ms/step - loss: 0.9103 - acc: 0.6703 - val_loss: 1.8691 - val_acc: 0.4627\n"
     ]
    },
    {
     "data": {
      "text/plain": [
       "<keras.callbacks.History at 0x7f506196e8f0>"
      ]
     },
     "execution_count": 61,
     "metadata": {},
     "output_type": "execute_result"
    }
   ],
   "source": [
    "callback_list = [ModelCheckpoint(filepath='./res/V_model_CNN_of.tf', monitor='val_loss', save_best_only=True, save_freq='epoch')]\n",
    "\n",
    "model.fit(x=np.asarray(visual_of['train']), y=np.asarray(label['train']), batch_size=16, epochs=30, \n",
    "            validation_data=[np.asarray(visual_of['valid']), np.asarray(label['valid'])],\n",
    "            callbacks=callback_list)"
   ]
  },
  {
   "cell_type": "code",
   "execution_count": 63,
   "id": "6fc74024-0e65-485d-8f8d-89b5df9da510",
   "metadata": {},
   "outputs": [
    {
     "name": "stdout",
     "output_type": "stream",
     "text": [
      "15/15 [==============================] - 0s 3ms/step\n",
      "              precision    recall  f1-score   support\n",
      "\n",
      "         Neg     0.5800    0.8185    0.6789       248\n",
      "         Pos     0.5647    0.3429    0.4267       140\n",
      "         Neu     0.0455    0.0145    0.0220        69\n",
      "\n",
      "    accuracy                         0.5514       457\n",
      "   macro avg     0.3967    0.3920    0.3759       457\n",
      "weighted avg     0.4946    0.5514    0.5025       457\n",
      "\n",
      "[[203  32  13]\n",
      " [ 84  48   8]\n",
      " [ 63   5   1]]\n"
     ]
    }
   ],
   "source": [
    "model = tf.keras.models.load_model('./res/V_model_CNN_of.tf/')\n",
    "pred = model.predict(np.asarray(visual_of['test']))\n",
    "predicted_test_labels = pred.argmax(axis=1)\n",
    "numeric_test_labels = np.array(label['test'])\n",
    "            \n",
    "eval_res = classification_report(numeric_test_labels, predicted_test_labels, \n",
    "                                    target_names = ['Neg', 'Pos', 'Neu'], \n",
    "                                    digits=4, output_dict=False)\n",
    "\n",
    "print(eval_res)\n",
    "\n",
    "cm = confusion_matrix(y_true=numeric_test_labels.tolist(), y_pred=predicted_test_labels.tolist())\n",
    "print(cm)"
   ]
  },
  {
   "cell_type": "code",
   "execution_count": 64,
   "id": "2a56be94-0787-4e7b-8d7e-d8ccd112ea04",
   "metadata": {},
   "outputs": [
    {
     "name": "stdout",
     "output_type": "stream",
     "text": [
      "Model: \"model_30\"\n",
      "_________________________________________________________________\n",
      " Layer (type)                Output Shape              Param #   \n",
      "=================================================================\n",
      " input_25 (InputLayer)       [(None, 10, 512)]         0         \n",
      "                                                                 \n",
      " conv1d_4 (Conv1D)           (None, 10, 64)            98368     \n",
      "                                                                 \n",
      " conv1d_5 (Conv1D)           (None, 10, 64)            4160      \n",
      "                                                                 \n",
      " conv1d_6 (Conv1D)           (None, 10, 64)            12352     \n",
      "                                                                 \n",
      " flatten_23 (Flatten)        (None, 640)               0         \n",
      "                                                                 \n",
      " dense_56 (Dense)            (None, 3)                 1923      \n",
      "                                                                 \n",
      "=================================================================\n",
      "Total params: 116,803\n",
      "Trainable params: 116,803\n",
      "Non-trainable params: 0\n",
      "_________________________________________________________________\n"
     ]
    }
   ],
   "source": [
    "x = Input((10, 512))\n",
    "h = Conv1D(64, 3, 1, 'same')(x)\n",
    "h = Conv1D(64, 1, 1, 'same')(h)\n",
    "h = Conv1D(64, 3, 1, 'same')(h)\n",
    "h = Flatten()(h)\n",
    "res = Dense(3, 'softmax')(h)\n",
    "\n",
    "model = Model(inputs=x, outputs=res)\n",
    "model.compile(optimizer='Adam', loss=tf.keras.losses.SparseCategoricalCrossentropy(), metrics='acc')\n",
    "model.summary()"
   ]
  },
  {
   "cell_type": "code",
   "execution_count": 65,
   "id": "b5fe46b9-34d7-48ce-a9b4-2e871b183d2d",
   "metadata": {
    "scrolled": true,
    "tags": []
   },
   "outputs": [
    {
     "name": "stdout",
     "output_type": "stream",
     "text": [
      "Epoch 1/30\n",
      "86/86 [==============================] - ETA: 0s - loss: 1.0114 - acc: 0.5322"
     ]
    },
    {
     "name": "stderr",
     "output_type": "stream",
     "text": [
      "WARNING:absl:Found untraced functions such as _jit_compiled_convolution_op, _jit_compiled_convolution_op, _jit_compiled_convolution_op while saving (showing 3 of 3). These functions will not be directly callable after loading.\n"
     ]
    },
    {
     "name": "stdout",
     "output_type": "stream",
     "text": [
      "INFO:tensorflow:Assets written to: ./res/V_model_CNN_clip.tf/assets\n"
     ]
    },
    {
     "name": "stderr",
     "output_type": "stream",
     "text": [
      "INFO:tensorflow:Assets written to: ./res/V_model_CNN_clip.tf/assets\n"
     ]
    },
    {
     "name": "stdout",
     "output_type": "stream",
     "text": [
      "86/86 [==============================] - 1s 10ms/step - loss: 1.0114 - acc: 0.5322 - val_loss: 0.9768 - val_acc: 0.5921\n",
      "Epoch 2/30\n",
      "71/86 [=======================>......] - ETA: 0s - loss: 0.7901 - acc: 0.6549"
     ]
    },
    {
     "name": "stderr",
     "output_type": "stream",
     "text": [
      "WARNING:absl:Found untraced functions such as _jit_compiled_convolution_op, _jit_compiled_convolution_op, _jit_compiled_convolution_op while saving (showing 3 of 3). These functions will not be directly callable after loading.\n"
     ]
    },
    {
     "name": "stdout",
     "output_type": "stream",
     "text": [
      "INFO:tensorflow:Assets written to: ./res/V_model_CNN_clip.tf/assets\n"
     ]
    },
    {
     "name": "stderr",
     "output_type": "stream",
     "text": [
      "INFO:tensorflow:Assets written to: ./res/V_model_CNN_clip.tf/assets\n"
     ]
    },
    {
     "name": "stdout",
     "output_type": "stream",
     "text": [
      "86/86 [==============================] - 1s 7ms/step - loss: 0.7865 - acc: 0.6550 - val_loss: 0.9093 - val_acc: 0.5899\n",
      "Epoch 3/30\n",
      "86/86 [==============================] - 0s 4ms/step - loss: 0.6385 - acc: 0.7325 - val_loss: 0.9950 - val_acc: 0.5921\n",
      "Epoch 4/30\n",
      "86/86 [==============================] - 0s 5ms/step - loss: 0.4983 - acc: 0.8034 - val_loss: 1.1365 - val_acc: 0.5351\n",
      "Epoch 5/30\n",
      "86/86 [==============================] - 0s 5ms/step - loss: 0.3582 - acc: 0.8713 - val_loss: 1.3861 - val_acc: 0.5285\n",
      "Epoch 6/30\n",
      "86/86 [==============================] - 0s 4ms/step - loss: 0.2568 - acc: 0.9167 - val_loss: 1.5751 - val_acc: 0.5351\n",
      "Epoch 7/30\n",
      "86/86 [==============================] - 0s 2ms/step - loss: 0.1673 - acc: 0.9393 - val_loss: 1.8574 - val_acc: 0.5219\n",
      "Epoch 8/30\n",
      "86/86 [==============================] - 0s 2ms/step - loss: 0.1352 - acc: 0.9539 - val_loss: 2.3118 - val_acc: 0.5088\n",
      "Epoch 9/30\n",
      "86/86 [==============================] - 0s 2ms/step - loss: 0.0803 - acc: 0.9788 - val_loss: 2.6295 - val_acc: 0.4934\n",
      "Epoch 10/30\n",
      "86/86 [==============================] - 0s 2ms/step - loss: 0.0515 - acc: 0.9883 - val_loss: 2.8571 - val_acc: 0.5088\n",
      "Epoch 11/30\n",
      "86/86 [==============================] - 0s 2ms/step - loss: 0.0513 - acc: 0.9854 - val_loss: 2.8410 - val_acc: 0.4890\n",
      "Epoch 12/30\n",
      "86/86 [==============================] - 0s 2ms/step - loss: 0.0334 - acc: 0.9920 - val_loss: 3.0632 - val_acc: 0.5000\n",
      "Epoch 13/30\n",
      "86/86 [==============================] - 0s 2ms/step - loss: 0.0281 - acc: 0.9942 - val_loss: 3.2213 - val_acc: 0.4825\n",
      "Epoch 14/30\n",
      "86/86 [==============================] - 0s 2ms/step - loss: 0.0138 - acc: 0.9985 - val_loss: 3.3577 - val_acc: 0.5000\n",
      "Epoch 15/30\n",
      "86/86 [==============================] - 0s 2ms/step - loss: 0.0062 - acc: 0.9993 - val_loss: 3.3826 - val_acc: 0.5044\n",
      "Epoch 16/30\n",
      "86/86 [==============================] - 0s 2ms/step - loss: 0.0059 - acc: 0.9985 - val_loss: 3.4347 - val_acc: 0.5088\n",
      "Epoch 17/30\n",
      "86/86 [==============================] - 0s 2ms/step - loss: 0.0077 - acc: 0.9985 - val_loss: 3.4885 - val_acc: 0.4978\n",
      "Epoch 18/30\n",
      "86/86 [==============================] - 0s 2ms/step - loss: 0.0070 - acc: 0.9985 - val_loss: 3.5317 - val_acc: 0.4978\n",
      "Epoch 19/30\n",
      "86/86 [==============================] - 0s 2ms/step - loss: 0.0070 - acc: 0.9985 - val_loss: 3.5667 - val_acc: 0.4978\n",
      "Epoch 20/30\n",
      "86/86 [==============================] - 0s 2ms/step - loss: 0.0041 - acc: 0.9993 - val_loss: 3.6691 - val_acc: 0.4912\n",
      "Epoch 21/30\n",
      "86/86 [==============================] - 0s 2ms/step - loss: 0.0042 - acc: 0.9993 - val_loss: 3.6700 - val_acc: 0.5044\n",
      "Epoch 22/30\n",
      "86/86 [==============================] - 0s 2ms/step - loss: 0.0040 - acc: 0.9993 - val_loss: 3.7370 - val_acc: 0.4912\n",
      "Epoch 23/30\n",
      "86/86 [==============================] - 0s 2ms/step - loss: 0.0034 - acc: 0.9993 - val_loss: 3.7392 - val_acc: 0.5066\n",
      "Epoch 24/30\n",
      "86/86 [==============================] - 0s 2ms/step - loss: 0.0049 - acc: 0.9993 - val_loss: 3.8105 - val_acc: 0.4934\n",
      "Epoch 25/30\n",
      "86/86 [==============================] - 0s 2ms/step - loss: 0.0062 - acc: 0.9985 - val_loss: 3.8633 - val_acc: 0.4978\n",
      "Epoch 26/30\n",
      "86/86 [==============================] - 0s 2ms/step - loss: 0.0033 - acc: 0.9993 - val_loss: 3.9114 - val_acc: 0.4978\n",
      "Epoch 27/30\n",
      "86/86 [==============================] - 0s 2ms/step - loss: 0.0072 - acc: 0.9985 - val_loss: 3.9514 - val_acc: 0.4890\n",
      "Epoch 28/30\n",
      "86/86 [==============================] - 0s 3ms/step - loss: 0.0047 - acc: 0.9993 - val_loss: 4.0592 - val_acc: 0.4890\n",
      "Epoch 29/30\n",
      "86/86 [==============================] - 0s 2ms/step - loss: 0.0054 - acc: 0.9993 - val_loss: 3.9987 - val_acc: 0.4934\n",
      "Epoch 30/30\n",
      "86/86 [==============================] - 0s 2ms/step - loss: 0.0060 - acc: 0.9993 - val_loss: 4.3133 - val_acc: 0.4956\n"
     ]
    },
    {
     "data": {
      "text/plain": [
       "<keras.callbacks.History at 0x7f505dbf9b70>"
      ]
     },
     "execution_count": 65,
     "metadata": {},
     "output_type": "execute_result"
    }
   ],
   "source": [
    "callback_list = [ModelCheckpoint(filepath='./res/V_model_CNN_clip.tf', monitor='val_loss', save_best_only=True, save_freq='epoch')]\n",
    "\n",
    "model.fit(x=np.asarray(visual_clip['train']), y=np.asarray(label['train']), batch_size=16, epochs=30, \n",
    "            validation_data=[np.asarray(visual_clip['valid']), np.asarray(label['valid'])],\n",
    "            callbacks=callback_list)"
   ]
  },
  {
   "cell_type": "code",
   "execution_count": 66,
   "id": "a37215a3-721f-4220-b86d-c61371469c7b",
   "metadata": {},
   "outputs": [
    {
     "name": "stdout",
     "output_type": "stream",
     "text": [
      "15/15 [==============================] - 0s 2ms/step\n",
      "              precision    recall  f1-score   support\n",
      "\n",
      "         Neg     0.6700    0.8185    0.7368       248\n",
      "         Pos     0.5571    0.5571    0.5571       140\n",
      "         Neu     0.1429    0.0290    0.0482        69\n",
      "\n",
      "    accuracy                         0.6193       457\n",
      "   macro avg     0.4567    0.4682    0.4474       457\n",
      "weighted avg     0.5558    0.6193    0.5778       457\n",
      "\n",
      "[[203  39   6]\n",
      " [ 56  78   6]\n",
      " [ 44  23   2]]\n"
     ]
    }
   ],
   "source": [
    "model = tf.keras.models.load_model('./res/V_model_CNN_clip.tf/')\n",
    "pred = model.predict(np.asarray(visual_clip['test']))\n",
    "predicted_test_labels = pred.argmax(axis=1)\n",
    "numeric_test_labels = np.array(label['test'])\n",
    "            \n",
    "eval_res = classification_report(numeric_test_labels, predicted_test_labels, \n",
    "                                    target_names = ['Neg', 'Pos', 'Neu'], \n",
    "                                    digits=4, output_dict=False)\n",
    "\n",
    "print(eval_res)\n",
    "\n",
    "cm = confusion_matrix(y_true=numeric_test_labels.tolist(), y_pred=predicted_test_labels.tolist())\n",
    "print(cm)"
   ]
  },
  {
   "cell_type": "markdown",
   "id": "418a8860-876f-493f-b27f-4f99d7f4631f",
   "metadata": {},
   "source": [
    "# Model 2"
   ]
  },
  {
   "cell_type": "code",
   "execution_count": 23,
   "id": "5b69da26-d8b0-4e72-8d14-8b809af92502",
   "metadata": {},
   "outputs": [
    {
     "name": "stdout",
     "output_type": "stream",
     "text": [
      "WARNING:tensorflow:Layer lstm_2 will not use cuDNN kernels since it doesn't meet the criteria. It will use a generic GPU kernel as fallback when running on GPU.\n"
     ]
    },
    {
     "name": "stderr",
     "output_type": "stream",
     "text": [
      "WARNING:tensorflow:Layer lstm_2 will not use cuDNN kernels since it doesn't meet the criteria. It will use a generic GPU kernel as fallback when running on GPU.\n"
     ]
    },
    {
     "name": "stdout",
     "output_type": "stream",
     "text": [
      "Model: \"model_12\"\n",
      "_________________________________________________________________\n",
      " Layer (type)                Output Shape              Param #   \n",
      "=================================================================\n",
      " input_8 (InputLayer)        [(None, 10, 64, 64, 1)]   0         \n",
      "                                                                 \n",
      " conv_lstm2d_7 (ConvLSTM2D)  (None, 10, 32, 32, 16)    9856      \n",
      "                                                                 \n",
      " time_distributed_4 (TimeDis  (None, 10, 16384)        0         \n",
      " tributed)                                                       \n",
      "                                                                 \n",
      " lstm_2 (LSTM)               (None, 64)                4210944   \n",
      "                                                                 \n",
      " dense_10 (Dense)            (None, 3)                 195       \n",
      "                                                                 \n",
      "=================================================================\n",
      "Total params: 4,220,995\n",
      "Trainable params: 4,220,995\n",
      "Non-trainable params: 0\n",
      "_________________________________________________________________\n"
     ]
    }
   ],
   "source": [
    "x = Input((10, 64, 64, 1))\n",
    "h = ConvLSTM2D(16, [3,3], [2,2], 'same', return_sequences=True)(x)\n",
    "h = TimeDistributed(Flatten())(h)\n",
    "h = LSTM(64, activation='relu')(h)\n",
    "res = Dense(3, 'softmax')(h)\n",
    "\n",
    "model = Model(inputs=x, outputs=res)\n",
    "model.compile(optimizer='Adam', loss=tf.keras.losses.SparseCategoricalCrossentropy(), metrics='acc')\n",
    "\n",
    "model = Model(inputs=x, outputs=res)\n",
    "model.compile(optimizer='Adam', loss=tf.keras.losses.SparseCategoricalCrossentropy(), metrics='acc')\n",
    "model.summary()"
   ]
  },
  {
   "cell_type": "code",
   "execution_count": 24,
   "id": "f0e2c758-5a9b-40dc-801b-0929f8e04e0b",
   "metadata": {
    "scrolled": true,
    "tags": []
   },
   "outputs": [
    {
     "name": "stdout",
     "output_type": "stream",
     "text": [
      "Epoch 1/30\n",
      "86/86 [==============================] - ETA: 0s - loss: 1.7863 - acc: 0.4825INFO:tensorflow:Assets written to: ./res/V_model_CNNLSTM_mpori.tf/assets\n"
     ]
    },
    {
     "name": "stderr",
     "output_type": "stream",
     "text": [
      "INFO:tensorflow:Assets written to: ./res/V_model_CNNLSTM_mpori.tf/assets\n"
     ]
    },
    {
     "name": "stdout",
     "output_type": "stream",
     "text": [
      "86/86 [==============================] - 7s 65ms/step - loss: 1.7863 - acc: 0.4825 - val_loss: 1.0580 - val_acc: 0.5044\n",
      "Epoch 2/30\n",
      "85/86 [============================>.] - ETA: 0s - loss: 0.7934 - acc: 0.6551INFO:tensorflow:Assets written to: ./res/V_model_CNNLSTM_mpori.tf/assets\n"
     ]
    },
    {
     "name": "stderr",
     "output_type": "stream",
     "text": [
      "INFO:tensorflow:Assets written to: ./res/V_model_CNNLSTM_mpori.tf/assets\n"
     ]
    },
    {
     "name": "stdout",
     "output_type": "stream",
     "text": [
      "86/86 [==============================] - 5s 56ms/step - loss: 0.7935 - acc: 0.6542 - val_loss: 1.0413 - val_acc: 0.5044\n",
      "Epoch 3/30\n",
      "86/86 [==============================] - 3s 34ms/step - loss: 0.5683 - acc: 0.7763 - val_loss: 1.2113 - val_acc: 0.5219\n",
      "Epoch 4/30\n",
      "86/86 [==============================] - 3s 33ms/step - loss: 0.3272 - acc: 0.8984 - val_loss: 1.2213 - val_acc: 0.4759\n",
      "Epoch 5/30\n",
      "86/86 [==============================] - 3s 37ms/step - loss: 0.2196 - acc: 0.9430 - val_loss: 1.5425 - val_acc: 0.4978\n",
      "Epoch 6/30\n",
      "86/86 [==============================] - 3s 38ms/step - loss: 0.1923 - acc: 0.9539 - val_loss: 1.6878 - val_acc: 0.5351\n",
      "Epoch 7/30\n",
      "86/86 [==============================] - 3s 40ms/step - loss: 0.1182 - acc: 0.9744 - val_loss: 1.7958 - val_acc: 0.4232\n",
      "Epoch 8/30\n",
      "86/86 [==============================] - 3s 39ms/step - loss: 0.0586 - acc: 0.9905 - val_loss: 1.9997 - val_acc: 0.4803\n",
      "Epoch 9/30\n",
      "86/86 [==============================] - 3s 34ms/step - loss: 0.0264 - acc: 0.9920 - val_loss: 2.2538 - val_acc: 0.4364\n",
      "Epoch 10/30\n",
      "86/86 [==============================] - 3s 34ms/step - loss: 0.0854 - acc: 0.9722 - val_loss: 1.9383 - val_acc: 0.5439\n",
      "Epoch 11/30\n",
      "86/86 [==============================] - 3s 33ms/step - loss: 0.1018 - acc: 0.9722 - val_loss: 2.1494 - val_acc: 0.4232\n",
      "Epoch 12/30\n",
      "86/86 [==============================] - 3s 34ms/step - loss: 0.0232 - acc: 0.9942 - val_loss: 2.5642 - val_acc: 0.4912\n",
      "Epoch 13/30\n",
      "86/86 [==============================] - 3s 35ms/step - loss: 0.0576 - acc: 0.9846 - val_loss: 2.1959 - val_acc: 0.4364\n",
      "Epoch 14/30\n",
      "86/86 [==============================] - 3s 34ms/step - loss: 0.0195 - acc: 0.9949 - val_loss: 2.6300 - val_acc: 0.4430\n",
      "Epoch 15/30\n",
      "86/86 [==============================] - 3s 34ms/step - loss: 0.0911 - acc: 0.9773 - val_loss: 2.1626 - val_acc: 0.4408\n",
      "Epoch 16/30\n",
      "86/86 [==============================] - 3s 38ms/step - loss: 0.0320 - acc: 0.9956 - val_loss: 2.3771 - val_acc: 0.4518\n",
      "Epoch 17/30\n",
      "86/86 [==============================] - 3s 39ms/step - loss: 0.0184 - acc: 0.9949 - val_loss: 2.5066 - val_acc: 0.4408\n",
      "Epoch 18/30\n",
      "86/86 [==============================] - 3s 39ms/step - loss: 0.0139 - acc: 0.9956 - val_loss: 2.5112 - val_acc: 0.4846\n",
      "Epoch 19/30\n",
      "86/86 [==============================] - 3s 40ms/step - loss: 0.0073 - acc: 0.9985 - val_loss: 2.5729 - val_acc: 0.4912\n",
      "Epoch 20/30\n",
      "86/86 [==============================] - 3s 39ms/step - loss: 0.0016 - acc: 1.0000 - val_loss: 2.8014 - val_acc: 0.4671\n",
      "Epoch 21/30\n",
      "86/86 [==============================] - 4s 41ms/step - loss: 7.2494e-04 - acc: 1.0000 - val_loss: 2.8570 - val_acc: 0.4781\n",
      "Epoch 22/30\n",
      "86/86 [==============================] - 3s 40ms/step - loss: 5.6264e-04 - acc: 1.0000 - val_loss: 2.9271 - val_acc: 0.4737\n",
      "Epoch 23/30\n",
      "86/86 [==============================] - 3s 38ms/step - loss: 4.7256e-04 - acc: 1.0000 - val_loss: 2.9824 - val_acc: 0.4759\n",
      "Epoch 24/30\n",
      "86/86 [==============================] - 3s 38ms/step - loss: 4.0722e-04 - acc: 1.0000 - val_loss: 3.0292 - val_acc: 0.4693\n",
      "Epoch 25/30\n",
      "86/86 [==============================] - 3s 38ms/step - loss: 3.4282e-04 - acc: 1.0000 - val_loss: 3.0762 - val_acc: 0.4759\n",
      "Epoch 26/30\n",
      "86/86 [==============================] - 3s 38ms/step - loss: 3.1002e-04 - acc: 1.0000 - val_loss: 3.1130 - val_acc: 0.4781\n",
      "Epoch 27/30\n",
      "86/86 [==============================] - 3s 40ms/step - loss: 2.8164e-04 - acc: 1.0000 - val_loss: 3.1511 - val_acc: 0.4803\n",
      "Epoch 28/30\n",
      "86/86 [==============================] - 3s 38ms/step - loss: 2.5173e-04 - acc: 1.0000 - val_loss: 3.1887 - val_acc: 0.4803\n",
      "Epoch 29/30\n",
      "86/86 [==============================] - 3s 39ms/step - loss: 2.2121e-04 - acc: 1.0000 - val_loss: 3.2192 - val_acc: 0.4803\n",
      "Epoch 30/30\n",
      "86/86 [==============================] - 3s 38ms/step - loss: 1.9947e-04 - acc: 1.0000 - val_loss: 3.2484 - val_acc: 0.4825\n"
     ]
    },
    {
     "data": {
      "text/plain": [
       "<keras.callbacks.History at 0x7f5062f46e90>"
      ]
     },
     "execution_count": 24,
     "metadata": {},
     "output_type": "execute_result"
    }
   ],
   "source": [
    "callback_list = [ModelCheckpoint(filepath='./res/V_model_CNNLSTM_mpori.tf', monitor='val_loss', save_best_only=True, save_freq='epoch')]\n",
    "\n",
    "model.fit(x=np.expand_dims(visual_ori['train'], axis=-1), y=np.asarray(label['train']), batch_size=16, epochs=30, \n",
    "            validation_data=[np.expand_dims(visual_ori['valid'], axis=-1), np.asarray(label['valid'])],\n",
    "            callbacks=callback_list)"
   ]
  },
  {
   "cell_type": "code",
   "execution_count": 25,
   "id": "6110e1e1-6d53-495b-bff3-3246b1ec15ef",
   "metadata": {},
   "outputs": [
    {
     "name": "stdout",
     "output_type": "stream",
     "text": [
      "WARNING:tensorflow:Layer lstm_2 will not use cuDNN kernels since it doesn't meet the criteria. It will use a generic GPU kernel as fallback when running on GPU.\n"
     ]
    },
    {
     "name": "stderr",
     "output_type": "stream",
     "text": [
      "WARNING:tensorflow:Layer lstm_2 will not use cuDNN kernels since it doesn't meet the criteria. It will use a generic GPU kernel as fallback when running on GPU.\n"
     ]
    },
    {
     "name": "stdout",
     "output_type": "stream",
     "text": [
      "15/15 [==============================] - 0s 10ms/step\n",
      "              precision    recall  f1-score   support\n",
      "\n",
      "         Neg     0.5681    0.7903    0.6610       248\n",
      "         Pos     0.3553    0.1929    0.2500       140\n",
      "         Neu     0.2500    0.1304    0.1714        69\n",
      "\n",
      "    accuracy                         0.5077       457\n",
      "   macro avg     0.3911    0.3712    0.3608       457\n",
      "weighted avg     0.4549    0.5077    0.4612       457\n",
      "\n",
      "[[196  33  19]\n",
      " [105  27   8]\n",
      " [ 44  16   9]]\n"
     ]
    }
   ],
   "source": [
    "model = tf.keras.models.load_model('./res/V_model_CNNLSTM_mpori.tf/')\n",
    "pred = model.predict(np.expand_dims(visual_ori['test'], axis=-1))\n",
    "predicted_test_labels = pred.argmax(axis=1)\n",
    "numeric_test_labels = np.array(label['test'])\n",
    "            \n",
    "eval_res = classification_report(numeric_test_labels, predicted_test_labels, \n",
    "                                    target_names = ['Neg', 'Pos', 'Neu'], \n",
    "                                    digits=4, output_dict=False)\n",
    "\n",
    "print(eval_res)\n",
    "\n",
    "cm = confusion_matrix(y_true=numeric_test_labels.tolist(), y_pred=predicted_test_labels.tolist())\n",
    "print(cm)"
   ]
  },
  {
   "cell_type": "code",
   "execution_count": 92,
   "id": "4269e8df-5b25-43f1-8066-0dbac5fad71e",
   "metadata": {},
   "outputs": [
    {
     "name": "stdout",
     "output_type": "stream",
     "text": [
      "WARNING:tensorflow:Layer lstm_20 will not use cuDNN kernels since it doesn't meet the criteria. It will use a generic GPU kernel as fallback when running on GPU.\n"
     ]
    },
    {
     "name": "stderr",
     "output_type": "stream",
     "text": [
      "WARNING:tensorflow:Layer lstm_20 will not use cuDNN kernels since it doesn't meet the criteria. It will use a generic GPU kernel as fallback when running on GPU.\n"
     ]
    },
    {
     "name": "stdout",
     "output_type": "stream",
     "text": [
      "Model: \"model_39\"\n",
      "_________________________________________________________________\n",
      " Layer (type)                Output Shape              Param #   \n",
      "=================================================================\n",
      " input_35 (InputLayer)       [(None, 30, 49)]          0         \n",
      "                                                                 \n",
      " conv1d_30 (Conv1D)          (None, 30, 64)            9472      \n",
      "                                                                 \n",
      " conv1d_31 (Conv1D)          (None, 30, 64)            4160      \n",
      "                                                                 \n",
      " conv1d_32 (Conv1D)          (None, 30, 64)            12352     \n",
      "                                                                 \n",
      " lstm_20 (LSTM)              (None, 64)                33024     \n",
      "                                                                 \n",
      " dense_65 (Dense)            (None, 3)                 195       \n",
      "                                                                 \n",
      "=================================================================\n",
      "Total params: 59,203\n",
      "Trainable params: 59,203\n",
      "Non-trainable params: 0\n",
      "_________________________________________________________________\n"
     ]
    }
   ],
   "source": [
    "x = Input((30, 49))\n",
    "h = Conv1D(64, 3, 1, 'same')(x)\n",
    "h = Conv1D(64, 1, 1, 'same')(h)\n",
    "h = Conv1D(64, 3, 1, 'same')(h)\n",
    "h = LSTM(64, activation='relu')(h)\n",
    "res = Dense(3, 'softmax')(h)\n",
    "\n",
    "model = Model(inputs=x, outputs=res)\n",
    "model.compile(optimizer='Adam', loss=tf.keras.losses.SparseCategoricalCrossentropy(), metrics='acc')\n",
    "model.summary()"
   ]
  },
  {
   "cell_type": "code",
   "execution_count": 93,
   "id": "49ea69fe-4162-48ed-a84b-4ab932b4cc90",
   "metadata": {
    "scrolled": true,
    "tags": []
   },
   "outputs": [
    {
     "name": "stdout",
     "output_type": "stream",
     "text": [
      "Epoch 1/30\n",
      "85/86 [============================>.] - ETA: 0s - loss: 1429.7815 - acc: 0.3603"
     ]
    },
    {
     "name": "stderr",
     "output_type": "stream",
     "text": [
      "WARNING:absl:Found untraced functions such as _jit_compiled_convolution_op, _jit_compiled_convolution_op, _jit_compiled_convolution_op while saving (showing 3 of 3). These functions will not be directly callable after loading.\n"
     ]
    },
    {
     "name": "stdout",
     "output_type": "stream",
     "text": [
      "INFO:tensorflow:Assets written to: ./res/V_model_CNNLSTM_of.tf/assets\n"
     ]
    },
    {
     "name": "stderr",
     "output_type": "stream",
     "text": [
      "INFO:tensorflow:Assets written to: ./res/V_model_CNNLSTM_of.tf/assets\n"
     ]
    },
    {
     "name": "stdout",
     "output_type": "stream",
     "text": [
      "86/86 [==============================] - 5s 50ms/step - loss: 1424.3860 - acc: 0.3604 - val_loss: 710.1916 - val_acc: 0.3947\n",
      "Epoch 2/30\n",
      "86/86 [==============================] - ETA: 0s - loss: 557.7405 - acc: 0.4050"
     ]
    },
    {
     "name": "stderr",
     "output_type": "stream",
     "text": [
      "WARNING:absl:Found untraced functions such as _jit_compiled_convolution_op, _jit_compiled_convolution_op, _jit_compiled_convolution_op while saving (showing 3 of 3). These functions will not be directly callable after loading.\n"
     ]
    },
    {
     "name": "stdout",
     "output_type": "stream",
     "text": [
      "INFO:tensorflow:Assets written to: ./res/V_model_CNNLSTM_of.tf/assets\n"
     ]
    },
    {
     "name": "stderr",
     "output_type": "stream",
     "text": [
      "INFO:tensorflow:Assets written to: ./res/V_model_CNNLSTM_of.tf/assets\n"
     ]
    },
    {
     "name": "stdout",
     "output_type": "stream",
     "text": [
      "86/86 [==============================] - 3s 30ms/step - loss: 557.7405 - acc: 0.4050 - val_loss: 618.5760 - val_acc: 0.4496\n",
      "Epoch 3/30\n",
      "85/86 [============================>.] - ETA: 0s - loss: 959.3793 - acc: 0.4301"
     ]
    },
    {
     "name": "stderr",
     "output_type": "stream",
     "text": [
      "WARNING:absl:Found untraced functions such as _jit_compiled_convolution_op, _jit_compiled_convolution_op, _jit_compiled_convolution_op while saving (showing 3 of 3). These functions will not be directly callable after loading.\n"
     ]
    },
    {
     "name": "stdout",
     "output_type": "stream",
     "text": [
      "INFO:tensorflow:Assets written to: ./res/V_model_CNNLSTM_of.tf/assets\n"
     ]
    },
    {
     "name": "stderr",
     "output_type": "stream",
     "text": [
      "INFO:tensorflow:Assets written to: ./res/V_model_CNNLSTM_of.tf/assets\n"
     ]
    },
    {
     "name": "stdout",
     "output_type": "stream",
     "text": [
      "86/86 [==============================] - 2s 29ms/step - loss: 956.0035 - acc: 0.4306 - val_loss: 280.2760 - val_acc: 0.4978\n",
      "Epoch 4/30\n",
      "86/86 [==============================] - 2s 19ms/step - loss: 352.0861 - acc: 0.4145 - val_loss: 451.1417 - val_acc: 0.4605\n",
      "Epoch 5/30\n",
      "86/86 [==============================] - 2s 19ms/step - loss: 418.3564 - acc: 0.4115 - val_loss: 775.7912 - val_acc: 0.3202\n",
      "Epoch 6/30\n",
      "86/86 [==============================] - 2s 19ms/step - loss: 1829.1564 - acc: 0.4218 - val_loss: 1817.4990 - val_acc: 0.4013\n",
      "Epoch 7/30\n",
      "86/86 [==============================] - ETA: 0s - loss: 1224.6788 - acc: 0.3713"
     ]
    },
    {
     "name": "stderr",
     "output_type": "stream",
     "text": [
      "WARNING:absl:Found untraced functions such as _jit_compiled_convolution_op, _jit_compiled_convolution_op, _jit_compiled_convolution_op while saving (showing 3 of 3). These functions will not be directly callable after loading.\n"
     ]
    },
    {
     "name": "stdout",
     "output_type": "stream",
     "text": [
      "INFO:tensorflow:Assets written to: ./res/V_model_CNNLSTM_of.tf/assets\n"
     ]
    },
    {
     "name": "stderr",
     "output_type": "stream",
     "text": [
      "INFO:tensorflow:Assets written to: ./res/V_model_CNNLSTM_of.tf/assets\n"
     ]
    },
    {
     "name": "stdout",
     "output_type": "stream",
     "text": [
      "86/86 [==============================] - 3s 30ms/step - loss: 1224.6788 - acc: 0.3713 - val_loss: 124.8106 - val_acc: 0.3070\n",
      "Epoch 8/30\n",
      "86/86 [==============================] - ETA: 0s - loss: 45.7878 - acc: 0.4313"
     ]
    },
    {
     "name": "stderr",
     "output_type": "stream",
     "text": [
      "WARNING:absl:Found untraced functions such as _jit_compiled_convolution_op, _jit_compiled_convolution_op, _jit_compiled_convolution_op while saving (showing 3 of 3). These functions will not be directly callable after loading.\n"
     ]
    },
    {
     "name": "stdout",
     "output_type": "stream",
     "text": [
      "INFO:tensorflow:Assets written to: ./res/V_model_CNNLSTM_of.tf/assets\n"
     ]
    },
    {
     "name": "stderr",
     "output_type": "stream",
     "text": [
      "INFO:tensorflow:Assets written to: ./res/V_model_CNNLSTM_of.tf/assets\n"
     ]
    },
    {
     "name": "stdout",
     "output_type": "stream",
     "text": [
      "86/86 [==============================] - 3s 29ms/step - loss: 45.7878 - acc: 0.4313 - val_loss: 34.4823 - val_acc: 0.3553\n",
      "Epoch 9/30\n",
      "85/86 [============================>.] - ETA: 0s - loss: 40.3192 - acc: 0.4294"
     ]
    },
    {
     "name": "stderr",
     "output_type": "stream",
     "text": [
      "WARNING:absl:Found untraced functions such as _jit_compiled_convolution_op, _jit_compiled_convolution_op, _jit_compiled_convolution_op while saving (showing 3 of 3). These functions will not be directly callable after loading.\n"
     ]
    },
    {
     "name": "stdout",
     "output_type": "stream",
     "text": [
      "INFO:tensorflow:Assets written to: ./res/V_model_CNNLSTM_of.tf/assets\n"
     ]
    },
    {
     "name": "stderr",
     "output_type": "stream",
     "text": [
      "INFO:tensorflow:Assets written to: ./res/V_model_CNNLSTM_of.tf/assets\n"
     ]
    },
    {
     "name": "stdout",
     "output_type": "stream",
     "text": [
      "86/86 [==============================] - 2s 29ms/step - loss: 40.1898 - acc: 0.4298 - val_loss: 28.8737 - val_acc: 0.3553\n",
      "Epoch 10/30\n",
      "84/86 [============================>.] - ETA: 0s - loss: 32.0487 - acc: 0.4286"
     ]
    },
    {
     "name": "stderr",
     "output_type": "stream",
     "text": [
      "WARNING:absl:Found untraced functions such as _jit_compiled_convolution_op, _jit_compiled_convolution_op, _jit_compiled_convolution_op while saving (showing 3 of 3). These functions will not be directly callable after loading.\n"
     ]
    },
    {
     "name": "stdout",
     "output_type": "stream",
     "text": [
      "INFO:tensorflow:Assets written to: ./res/V_model_CNNLSTM_of.tf/assets\n"
     ]
    },
    {
     "name": "stderr",
     "output_type": "stream",
     "text": [
      "INFO:tensorflow:Assets written to: ./res/V_model_CNNLSTM_of.tf/assets\n"
     ]
    },
    {
     "name": "stdout",
     "output_type": "stream",
     "text": [
      "86/86 [==============================] - 3s 29ms/step - loss: 31.9829 - acc: 0.4291 - val_loss: 25.7856 - val_acc: 0.3487\n",
      "Epoch 11/30\n",
      "86/86 [==============================] - ETA: 0s - loss: 31.4344 - acc: 0.4525"
     ]
    },
    {
     "name": "stderr",
     "output_type": "stream",
     "text": [
      "WARNING:absl:Found untraced functions such as _jit_compiled_convolution_op, _jit_compiled_convolution_op, _jit_compiled_convolution_op while saving (showing 3 of 3). These functions will not be directly callable after loading.\n"
     ]
    },
    {
     "name": "stdout",
     "output_type": "stream",
     "text": [
      "INFO:tensorflow:Assets written to: ./res/V_model_CNNLSTM_of.tf/assets\n"
     ]
    },
    {
     "name": "stderr",
     "output_type": "stream",
     "text": [
      "INFO:tensorflow:Assets written to: ./res/V_model_CNNLSTM_of.tf/assets\n"
     ]
    },
    {
     "name": "stdout",
     "output_type": "stream",
     "text": [
      "86/86 [==============================] - 2s 29ms/step - loss: 31.4344 - acc: 0.4525 - val_loss: 24.1268 - val_acc: 0.3355\n",
      "Epoch 12/30\n",
      "85/86 [============================>.] - ETA: 0s - loss: 29.6709 - acc: 0.4294"
     ]
    },
    {
     "name": "stderr",
     "output_type": "stream",
     "text": [
      "WARNING:absl:Found untraced functions such as _jit_compiled_convolution_op, _jit_compiled_convolution_op, _jit_compiled_convolution_op while saving (showing 3 of 3). These functions will not be directly callable after loading.\n"
     ]
    },
    {
     "name": "stdout",
     "output_type": "stream",
     "text": [
      "INFO:tensorflow:Assets written to: ./res/V_model_CNNLSTM_of.tf/assets\n"
     ]
    },
    {
     "name": "stderr",
     "output_type": "stream",
     "text": [
      "INFO:tensorflow:Assets written to: ./res/V_model_CNNLSTM_of.tf/assets\n"
     ]
    },
    {
     "name": "stdout",
     "output_type": "stream",
     "text": [
      "86/86 [==============================] - 3s 30ms/step - loss: 29.5613 - acc: 0.4306 - val_loss: 22.0865 - val_acc: 0.4013\n",
      "Epoch 13/30\n",
      "86/86 [==============================] - 2s 19ms/step - loss: 27.5444 - acc: 0.4189 - val_loss: 26.6788 - val_acc: 0.4956\n",
      "Epoch 14/30\n",
      "86/86 [==============================] - 2s 19ms/step - loss: 28.8970 - acc: 0.4335 - val_loss: 28.7928 - val_acc: 0.3070\n",
      "Epoch 15/30\n",
      "84/86 [============================>.] - ETA: 0s - loss: 24.3255 - acc: 0.4330"
     ]
    },
    {
     "name": "stderr",
     "output_type": "stream",
     "text": [
      "WARNING:absl:Found untraced functions such as _jit_compiled_convolution_op, _jit_compiled_convolution_op, _jit_compiled_convolution_op while saving (showing 3 of 3). These functions will not be directly callable after loading.\n"
     ]
    },
    {
     "name": "stdout",
     "output_type": "stream",
     "text": [
      "INFO:tensorflow:Assets written to: ./res/V_model_CNNLSTM_of.tf/assets\n"
     ]
    },
    {
     "name": "stderr",
     "output_type": "stream",
     "text": [
      "INFO:tensorflow:Assets written to: ./res/V_model_CNNLSTM_of.tf/assets\n"
     ]
    },
    {
     "name": "stdout",
     "output_type": "stream",
     "text": [
      "86/86 [==============================] - 3s 29ms/step - loss: 24.8161 - acc: 0.4342 - val_loss: 17.8001 - val_acc: 0.4167\n",
      "Epoch 16/30\n",
      "86/86 [==============================] - 2s 18ms/step - loss: 24.2241 - acc: 0.4532 - val_loss: 31.0496 - val_acc: 0.5000\n",
      "Epoch 17/30\n",
      "86/86 [==============================] - 2s 18ms/step - loss: 22.9004 - acc: 0.4591 - val_loss: 19.3540 - val_acc: 0.3969\n",
      "Epoch 18/30\n",
      "86/86 [==============================] - 1s 17ms/step - loss: 24.8245 - acc: 0.4349 - val_loss: 22.9970 - val_acc: 0.4232\n",
      "Epoch 19/30\n",
      "86/86 [==============================] - 2s 18ms/step - loss: 20.0119 - acc: 0.4613 - val_loss: 18.1662 - val_acc: 0.4232\n",
      "Epoch 20/30\n",
      "86/86 [==============================] - 2s 19ms/step - loss: 23.5575 - acc: 0.4357 - val_loss: 17.8937 - val_acc: 0.3882\n",
      "Epoch 21/30\n",
      "84/86 [============================>.] - ETA: 0s - loss: 23.0713 - acc: 0.4234"
     ]
    },
    {
     "name": "stderr",
     "output_type": "stream",
     "text": [
      "WARNING:absl:Found untraced functions such as _jit_compiled_convolution_op, _jit_compiled_convolution_op, _jit_compiled_convolution_op while saving (showing 3 of 3). These functions will not be directly callable after loading.\n"
     ]
    },
    {
     "name": "stdout",
     "output_type": "stream",
     "text": [
      "INFO:tensorflow:Assets written to: ./res/V_model_CNNLSTM_of.tf/assets\n"
     ]
    },
    {
     "name": "stderr",
     "output_type": "stream",
     "text": [
      "INFO:tensorflow:Assets written to: ./res/V_model_CNNLSTM_of.tf/assets\n"
     ]
    },
    {
     "name": "stdout",
     "output_type": "stream",
     "text": [
      "86/86 [==============================] - 2s 29ms/step - loss: 22.8675 - acc: 0.4240 - val_loss: 14.5491 - val_acc: 0.4167\n",
      "Epoch 22/30\n",
      "86/86 [==============================] - 2s 19ms/step - loss: 17.8388 - acc: 0.4561 - val_loss: 22.2007 - val_acc: 0.3684\n",
      "Epoch 23/30\n",
      "86/86 [==============================] - 2s 18ms/step - loss: 21.9269 - acc: 0.4408 - val_loss: 19.8914 - val_acc: 0.4781\n",
      "Epoch 24/30\n",
      "85/86 [============================>.] - ETA: 0s - loss: 17.2138 - acc: 0.4544"
     ]
    },
    {
     "name": "stderr",
     "output_type": "stream",
     "text": [
      "WARNING:absl:Found untraced functions such as _jit_compiled_convolution_op, _jit_compiled_convolution_op, _jit_compiled_convolution_op while saving (showing 3 of 3). These functions will not be directly callable after loading.\n"
     ]
    },
    {
     "name": "stdout",
     "output_type": "stream",
     "text": [
      "INFO:tensorflow:Assets written to: ./res/V_model_CNNLSTM_of.tf/assets\n"
     ]
    },
    {
     "name": "stderr",
     "output_type": "stream",
     "text": [
      "INFO:tensorflow:Assets written to: ./res/V_model_CNNLSTM_of.tf/assets\n"
     ]
    },
    {
     "name": "stdout",
     "output_type": "stream",
     "text": [
      "86/86 [==============================] - 3s 29ms/step - loss: 17.1485 - acc: 0.4547 - val_loss: 13.7250 - val_acc: 0.3904\n",
      "Epoch 25/30\n",
      "86/86 [==============================] - 2s 19ms/step - loss: 19.9645 - acc: 0.4466 - val_loss: 18.5867 - val_acc: 0.5175\n",
      "Epoch 26/30\n",
      "86/86 [==============================] - 2s 20ms/step - loss: 16.2776 - acc: 0.4335 - val_loss: 15.6038 - val_acc: 0.4890\n",
      "Epoch 27/30\n",
      "86/86 [==============================] - 2s 20ms/step - loss: 17.4524 - acc: 0.4444 - val_loss: 17.1900 - val_acc: 0.4978\n",
      "Epoch 28/30\n",
      "86/86 [==============================] - 2s 19ms/step - loss: 13.7274 - acc: 0.4349 - val_loss: 15.2358 - val_acc: 0.5066\n",
      "Epoch 29/30\n",
      "86/86 [==============================] - 2s 20ms/step - loss: 12.5611 - acc: 0.4444 - val_loss: 15.6363 - val_acc: 0.3925\n",
      "Epoch 30/30\n",
      "84/86 [============================>.] - ETA: 0s - loss: 17.4361 - acc: 0.4159"
     ]
    },
    {
     "name": "stderr",
     "output_type": "stream",
     "text": [
      "WARNING:absl:Found untraced functions such as _jit_compiled_convolution_op, _jit_compiled_convolution_op, _jit_compiled_convolution_op while saving (showing 3 of 3). These functions will not be directly callable after loading.\n"
     ]
    },
    {
     "name": "stdout",
     "output_type": "stream",
     "text": [
      "INFO:tensorflow:Assets written to: ./res/V_model_CNNLSTM_of.tf/assets\n"
     ]
    },
    {
     "name": "stderr",
     "output_type": "stream",
     "text": [
      "INFO:tensorflow:Assets written to: ./res/V_model_CNNLSTM_of.tf/assets\n"
     ]
    },
    {
     "name": "stdout",
     "output_type": "stream",
     "text": [
      "86/86 [==============================] - 3s 29ms/step - loss: 17.2630 - acc: 0.4181 - val_loss: 11.8334 - val_acc: 0.4759\n"
     ]
    },
    {
     "data": {
      "text/plain": [
       "<keras.callbacks.History at 0x7f4b8af25c00>"
      ]
     },
     "execution_count": 93,
     "metadata": {},
     "output_type": "execute_result"
    }
   ],
   "source": [
    "callback_list = [ModelCheckpoint(filepath='./res/V_model_CNNLSTM_of.tf', monitor='val_loss', save_best_only=True, save_freq='epoch')]\n",
    "\n",
    "model.fit(x=np.asarray(visual_of['train']), y=np.asarray(label['train']), batch_size=16, epochs=30, \n",
    "            validation_data=[np.asarray(visual_of['valid']), np.asarray(label['valid'])],\n",
    "            callbacks=callback_list)"
   ]
  },
  {
   "cell_type": "code",
   "execution_count": 94,
   "id": "8b6657bf-e7f5-4334-9f49-5c1176795af4",
   "metadata": {},
   "outputs": [
    {
     "name": "stdout",
     "output_type": "stream",
     "text": [
      "WARNING:tensorflow:Layer lstm_20 will not use cuDNN kernels since it doesn't meet the criteria. It will use a generic GPU kernel as fallback when running on GPU.\n"
     ]
    },
    {
     "name": "stderr",
     "output_type": "stream",
     "text": [
      "WARNING:tensorflow:Layer lstm_20 will not use cuDNN kernels since it doesn't meet the criteria. It will use a generic GPU kernel as fallback when running on GPU.\n"
     ]
    },
    {
     "name": "stdout",
     "output_type": "stream",
     "text": [
      "15/15 [==============================] - 0s 5ms/step\n",
      "              precision    recall  f1-score   support\n",
      "\n",
      "         Neg     0.5670    0.8185    0.6700       248\n",
      "         Pos     0.3816    0.2071    0.2685       140\n",
      "         Neu     0.0435    0.0145    0.0217        69\n",
      "\n",
      "    accuracy                         0.5098       457\n",
      "   macro avg     0.3307    0.3467    0.3201       457\n",
      "weighted avg     0.4312    0.5098    0.4491       457\n",
      "\n",
      "[[203  31  14]\n",
      " [103  29   8]\n",
      " [ 52  16   1]]\n"
     ]
    }
   ],
   "source": [
    "model = tf.keras.models.load_model('./res/V_model_CNNLSTM_of.tf/')\n",
    "pred = model.predict(np.asarray(visual_of['test']))\n",
    "predicted_test_labels = pred.argmax(axis=1)\n",
    "numeric_test_labels = np.array(label['test'])\n",
    "            \n",
    "eval_res = classification_report(numeric_test_labels, predicted_test_labels, \n",
    "                                    target_names = ['Neg', 'Pos', 'Neu'], \n",
    "                                    digits=4, output_dict=False)\n",
    "\n",
    "print(eval_res)\n",
    "\n",
    "cm = confusion_matrix(y_true=numeric_test_labels.tolist(), y_pred=predicted_test_labels.tolist())\n",
    "print(cm)"
   ]
  },
  {
   "cell_type": "code",
   "execution_count": 95,
   "id": "a9c992b2-1e80-469c-810e-a9892bdaefdf",
   "metadata": {},
   "outputs": [
    {
     "name": "stdout",
     "output_type": "stream",
     "text": [
      "WARNING:tensorflow:Layer lstm_21 will not use cuDNN kernels since it doesn't meet the criteria. It will use a generic GPU kernel as fallback when running on GPU.\n"
     ]
    },
    {
     "name": "stderr",
     "output_type": "stream",
     "text": [
      "WARNING:tensorflow:Layer lstm_21 will not use cuDNN kernels since it doesn't meet the criteria. It will use a generic GPU kernel as fallback when running on GPU.\n"
     ]
    },
    {
     "name": "stdout",
     "output_type": "stream",
     "text": [
      "Model: \"model_40\"\n",
      "_________________________________________________________________\n",
      " Layer (type)                Output Shape              Param #   \n",
      "=================================================================\n",
      " input_36 (InputLayer)       [(None, 10, 512)]         0         \n",
      "                                                                 \n",
      " conv1d_33 (Conv1D)          (None, 10, 64)            98368     \n",
      "                                                                 \n",
      " conv1d_34 (Conv1D)          (None, 10, 64)            4160      \n",
      "                                                                 \n",
      " conv1d_35 (Conv1D)          (None, 10, 64)            12352     \n",
      "                                                                 \n",
      " lstm_21 (LSTM)              (None, 64)                33024     \n",
      "                                                                 \n",
      " dense_66 (Dense)            (None, 3)                 195       \n",
      "                                                                 \n",
      "=================================================================\n",
      "Total params: 148,099\n",
      "Trainable params: 148,099\n",
      "Non-trainable params: 0\n",
      "_________________________________________________________________\n"
     ]
    }
   ],
   "source": [
    "x = Input((10, 512))\n",
    "h = Conv1D(64, 3, 1, 'same')(x)\n",
    "h = Conv1D(64, 1, 1, 'same')(h)\n",
    "h = Conv1D(64, 3, 1, 'same')(h)\n",
    "h = LSTM(64, activation='relu')(h)\n",
    "res = Dense(3, 'softmax')(h)\n",
    "\n",
    "model = Model(inputs=x, outputs=res)\n",
    "model.compile(optimizer='Adam', loss=tf.keras.losses.SparseCategoricalCrossentropy(), metrics='acc')\n",
    "model.summary()"
   ]
  },
  {
   "cell_type": "code",
   "execution_count": 96,
   "id": "02083a20-2e61-4a51-a100-952882dd2cb8",
   "metadata": {
    "scrolled": true,
    "tags": []
   },
   "outputs": [
    {
     "name": "stdout",
     "output_type": "stream",
     "text": [
      "Epoch 1/30\n",
      "81/86 [===========================>..] - ETA: 0s - loss: 0.9608 - acc: 0.5509"
     ]
    },
    {
     "name": "stderr",
     "output_type": "stream",
     "text": [
      "WARNING:absl:Found untraced functions such as _jit_compiled_convolution_op, _jit_compiled_convolution_op, _jit_compiled_convolution_op while saving (showing 3 of 3). These functions will not be directly callable after loading.\n"
     ]
    },
    {
     "name": "stdout",
     "output_type": "stream",
     "text": [
      "INFO:tensorflow:Assets written to: ./res/V_model_CNNLSTM_clip.tf/assets\n"
     ]
    },
    {
     "name": "stderr",
     "output_type": "stream",
     "text": [
      "INFO:tensorflow:Assets written to: ./res/V_model_CNNLSTM_clip.tf/assets\n"
     ]
    },
    {
     "name": "stdout",
     "output_type": "stream",
     "text": [
      "86/86 [==============================] - 2s 22ms/step - loss: 0.9507 - acc: 0.5548 - val_loss: 0.9078 - val_acc: 0.5877\n",
      "Epoch 2/30\n",
      "86/86 [==============================] - 1s 11ms/step - loss: 0.8625 - acc: 0.6323 - val_loss: 0.9237 - val_acc: 0.5921\n",
      "Epoch 3/30\n",
      "86/86 [==============================] - 1s 13ms/step - loss: 0.8213 - acc: 0.6637 - val_loss: 0.9559 - val_acc: 0.5636\n",
      "Epoch 4/30\n",
      "86/86 [==============================] - 1s 14ms/step - loss: 0.7717 - acc: 0.6762 - val_loss: 1.0107 - val_acc: 0.6206\n",
      "Epoch 5/30\n",
      "85/86 [============================>.] - ETA: 0s - loss: 0.7520 - acc: 0.6794"
     ]
    },
    {
     "name": "stderr",
     "output_type": "stream",
     "text": [
      "WARNING:absl:Found untraced functions such as _jit_compiled_convolution_op, _jit_compiled_convolution_op, _jit_compiled_convolution_op while saving (showing 3 of 3). These functions will not be directly callable after loading.\n"
     ]
    },
    {
     "name": "stdout",
     "output_type": "stream",
     "text": [
      "INFO:tensorflow:Assets written to: ./res/V_model_CNNLSTM_clip.tf/assets\n"
     ]
    },
    {
     "name": "stderr",
     "output_type": "stream",
     "text": [
      "INFO:tensorflow:Assets written to: ./res/V_model_CNNLSTM_clip.tf/assets\n"
     ]
    },
    {
     "name": "stdout",
     "output_type": "stream",
     "text": [
      "86/86 [==============================] - 2s 22ms/step - loss: 0.7521 - acc: 0.6798 - val_loss: 0.8990 - val_acc: 0.6184\n",
      "Epoch 6/30\n",
      "86/86 [==============================] - ETA: 0s - loss: 0.7100 - acc: 0.6820"
     ]
    },
    {
     "name": "stderr",
     "output_type": "stream",
     "text": [
      "WARNING:absl:Found untraced functions such as _jit_compiled_convolution_op, _jit_compiled_convolution_op, _jit_compiled_convolution_op while saving (showing 3 of 3). These functions will not be directly callable after loading.\n"
     ]
    },
    {
     "name": "stdout",
     "output_type": "stream",
     "text": [
      "INFO:tensorflow:Assets written to: ./res/V_model_CNNLSTM_clip.tf/assets\n"
     ]
    },
    {
     "name": "stderr",
     "output_type": "stream",
     "text": [
      "INFO:tensorflow:Assets written to: ./res/V_model_CNNLSTM_clip.tf/assets\n"
     ]
    },
    {
     "name": "stdout",
     "output_type": "stream",
     "text": [
      "86/86 [==============================] - 2s 23ms/step - loss: 0.7100 - acc: 0.6820 - val_loss: 0.8728 - val_acc: 0.6250\n",
      "Epoch 7/30\n",
      "86/86 [==============================] - 1s 10ms/step - loss: 0.6748 - acc: 0.7127 - val_loss: 0.9418 - val_acc: 0.6031\n",
      "Epoch 8/30\n",
      "86/86 [==============================] - 1s 13ms/step - loss: 0.6331 - acc: 0.7222 - val_loss: 0.9458 - val_acc: 0.6096\n",
      "Epoch 9/30\n",
      "86/86 [==============================] - 1s 11ms/step - loss: 0.6093 - acc: 0.7332 - val_loss: 0.9933 - val_acc: 0.5855\n",
      "Epoch 10/30\n",
      "86/86 [==============================] - 1s 10ms/step - loss: 0.5692 - acc: 0.7500 - val_loss: 1.1048 - val_acc: 0.5987\n",
      "Epoch 11/30\n",
      "86/86 [==============================] - 1s 10ms/step - loss: 0.5635 - acc: 0.7463 - val_loss: 1.5224 - val_acc: 0.6228\n",
      "Epoch 12/30\n",
      "86/86 [==============================] - 1s 10ms/step - loss: 0.5820 - acc: 0.7485 - val_loss: 1.0548 - val_acc: 0.6075\n",
      "Epoch 13/30\n",
      "86/86 [==============================] - 1s 10ms/step - loss: 0.5111 - acc: 0.7807 - val_loss: 1.2098 - val_acc: 0.6096\n",
      "Epoch 14/30\n",
      "86/86 [==============================] - 1s 9ms/step - loss: 0.4269 - acc: 0.8129 - val_loss: 1.3355 - val_acc: 0.6031\n",
      "Epoch 15/30\n",
      "86/86 [==============================] - 1s 10ms/step - loss: 0.4625 - acc: 0.7997 - val_loss: 1.4151 - val_acc: 0.5943\n",
      "Epoch 16/30\n",
      "86/86 [==============================] - 1s 10ms/step - loss: 0.5120 - acc: 0.7873 - val_loss: 1.4319 - val_acc: 0.5658\n",
      "Epoch 17/30\n",
      "86/86 [==============================] - 1s 10ms/step - loss: 0.3614 - acc: 0.8421 - val_loss: 1.7869 - val_acc: 0.5965\n",
      "Epoch 18/30\n",
      "86/86 [==============================] - 1s 10ms/step - loss: 0.3429 - acc: 0.8450 - val_loss: 1.6876 - val_acc: 0.6053\n",
      "Epoch 19/30\n",
      "86/86 [==============================] - 1s 10ms/step - loss: 0.3458 - acc: 0.8567 - val_loss: 1.9720 - val_acc: 0.6053\n",
      "Epoch 20/30\n",
      "86/86 [==============================] - 1s 10ms/step - loss: 0.2849 - acc: 0.8735 - val_loss: 2.0374 - val_acc: 0.5965\n",
      "Epoch 21/30\n",
      "86/86 [==============================] - 1s 11ms/step - loss: 0.2510 - acc: 0.8991 - val_loss: 1.8581 - val_acc: 0.5965\n",
      "Epoch 22/30\n",
      "86/86 [==============================] - 1s 10ms/step - loss: 0.3987 - acc: 0.8450 - val_loss: 1.6605 - val_acc: 0.5899\n",
      "Epoch 23/30\n",
      "86/86 [==============================] - 1s 9ms/step - loss: 0.4392 - acc: 0.8341 - val_loss: 1.3400 - val_acc: 0.5570\n",
      "Epoch 24/30\n",
      "86/86 [==============================] - 1s 10ms/step - loss: 0.3105 - acc: 0.8787 - val_loss: 1.7938 - val_acc: 0.6118\n",
      "Epoch 25/30\n",
      "86/86 [==============================] - 1s 10ms/step - loss: 0.2093 - acc: 0.9218 - val_loss: 2.1714 - val_acc: 0.5899\n",
      "Epoch 26/30\n",
      "86/86 [==============================] - 1s 9ms/step - loss: 0.1529 - acc: 0.9342 - val_loss: 2.2394 - val_acc: 0.5921\n",
      "Epoch 27/30\n",
      "86/86 [==============================] - 1s 10ms/step - loss: 0.1679 - acc: 0.9379 - val_loss: 2.6825 - val_acc: 0.5614\n",
      "Epoch 28/30\n",
      "86/86 [==============================] - 1s 9ms/step - loss: 0.3778 - acc: 0.8655 - val_loss: 2.1347 - val_acc: 0.5658\n",
      "Epoch 29/30\n",
      "86/86 [==============================] - 1s 10ms/step - loss: 0.2095 - acc: 0.9211 - val_loss: 2.5787 - val_acc: 0.5987\n",
      "Epoch 30/30\n",
      "86/86 [==============================] - 1s 10ms/step - loss: 0.2677 - acc: 0.8977 - val_loss: 2.3051 - val_acc: 0.5768\n"
     ]
    },
    {
     "data": {
      "text/plain": [
       "<keras.callbacks.History at 0x7f4b89c66fb0>"
      ]
     },
     "execution_count": 96,
     "metadata": {},
     "output_type": "execute_result"
    }
   ],
   "source": [
    "callback_list = [ModelCheckpoint(filepath='./res/V_model_CNNLSTM_clip.tf', monitor='val_loss', save_best_only=True, save_freq='epoch')]\n",
    "\n",
    "model.fit(x=np.asarray(visual_clip['train']), y=np.asarray(label['train']), batch_size=16, epochs=30, \n",
    "            validation_data=[np.asarray(visual_clip['valid']), np.asarray(label['valid'])],\n",
    "            callbacks=callback_list)"
   ]
  },
  {
   "cell_type": "code",
   "execution_count": 98,
   "id": "62c0d8a4-b38e-48d7-8f18-fb2a4aebd581",
   "metadata": {},
   "outputs": [
    {
     "name": "stdout",
     "output_type": "stream",
     "text": [
      "WARNING:tensorflow:Layer lstm_21 will not use cuDNN kernels since it doesn't meet the criteria. It will use a generic GPU kernel as fallback when running on GPU.\n"
     ]
    },
    {
     "name": "stderr",
     "output_type": "stream",
     "text": [
      "WARNING:tensorflow:Layer lstm_21 will not use cuDNN kernels since it doesn't meet the criteria. It will use a generic GPU kernel as fallback when running on GPU.\n"
     ]
    },
    {
     "name": "stdout",
     "output_type": "stream",
     "text": [
      "15/15 [==============================] - 0s 2ms/step\n",
      "              precision    recall  f1-score   support\n",
      "\n",
      "         Neg     0.6210    0.9315    0.7452       248\n",
      "         Pos     0.6849    0.3571    0.4695       140\n",
      "         Neu     0.5000    0.0870    0.1481        69\n",
      "\n",
      "    accuracy                         0.6280       457\n",
      "   macro avg     0.6020    0.4585    0.4543       457\n",
      "weighted avg     0.6223    0.6280    0.5706       457\n",
      "\n",
      "[[231  13   4]\n",
      " [ 88  50   2]\n",
      " [ 53  10   6]]\n"
     ]
    }
   ],
   "source": [
    "model = tf.keras.models.load_model('./res/V_model_CNNLSTM_clip.tf/')\n",
    "pred = model.predict(np.asarray(visual_clip['test']))\n",
    "predicted_test_labels = pred.argmax(axis=1)\n",
    "numeric_test_labels = np.array(label['test'])\n",
    "            \n",
    "eval_res = classification_report(numeric_test_labels, predicted_test_labels, \n",
    "                                    target_names = ['Neg', 'Pos', 'Neu'], \n",
    "                                    digits=4, output_dict=False)\n",
    "\n",
    "print(eval_res)\n",
    "\n",
    "cm = confusion_matrix(y_true=numeric_test_labels.tolist(), y_pred=predicted_test_labels.tolist())\n",
    "print(cm)"
   ]
  },
  {
   "cell_type": "markdown",
   "id": "478d87f5-45a8-46ad-bfcf-77943fcca572",
   "metadata": {},
   "source": [
    "# Model 3"
   ]
  },
  {
   "cell_type": "code",
   "execution_count": 5,
   "id": "dcc90e02-8017-4184-9277-d8ee3a4ddae6",
   "metadata": {},
   "outputs": [],
   "source": [
    "class Attention_Self(tf.keras.layers.Layer):\n",
    "    def __init__(self, units, **kwargs):\n",
    "        super(Attention_Self, self).__init__(**kwargs)\n",
    "        self.W1 = tf.keras.layers.Dense(units)\n",
    "        self.W2 = tf.keras.layers.Dense(units)\n",
    "        self.S = tf.keras.layers.Dense(1)\n",
    "        self.units = units\n",
    "\n",
    "    def call(self, features):\n",
    "        features_ = tf.expand_dims(features, 1)\n",
    "        v = self.W1(features)\n",
    "        q =  self.W2(features_)\n",
    "        score = tf.nn.tanh(q + v)\n",
    "        attention_weights = tf.nn.softmax(self.S(score), axis=1)\n",
    "        # ATTN = attention_weights * (v)\n",
    "        ATTN = attention_weights * (v)\n",
    "        ATTN = tf.reduce_sum(ATTN, axis=1)\n",
    "        \n",
    "        return ATTN\n",
    "        \n",
    "    def get_config(self):\n",
    "        config = super(Attention_Self, self).get_config()\n",
    "        config.update({\"units\": self.units})\n",
    "        return config"
   ]
  },
  {
   "cell_type": "code",
   "execution_count": 52,
   "id": "fe7b5aa5-7cb4-400f-988b-414d3d1858d8",
   "metadata": {},
   "outputs": [
    {
     "name": "stdout",
     "output_type": "stream",
     "text": [
      "WARNING:tensorflow:Layer lstm_10 will not use cuDNN kernels since it doesn't meet the criteria. It will use a generic GPU kernel as fallback when running on GPU.\n"
     ]
    },
    {
     "name": "stderr",
     "output_type": "stream",
     "text": [
      "WARNING:tensorflow:Layer lstm_10 will not use cuDNN kernels since it doesn't meet the criteria. It will use a generic GPU kernel as fallback when running on GPU.\n"
     ]
    },
    {
     "name": "stdout",
     "output_type": "stream",
     "text": [
      "Model: \"model_28\"\n",
      "_________________________________________________________________\n",
      " Layer (type)                Output Shape              Param #   \n",
      "=================================================================\n",
      " input_20 (InputLayer)       [(None, 10, 64, 64, 1)]   0         \n",
      "                                                                 \n",
      " conv_lstm2d_19 (ConvLSTM2D)  (None, 10, 32, 32, 16)   9856      \n",
      "                                                                 \n",
      " attention__self_11 (Attenti  (None, 10, 32, 32, 16)   561       \n",
      " on_Self)                                                        \n",
      "                                                                 \n",
      " time_distributed_16 (TimeDi  (None, 10, 16384)        0         \n",
      " stributed)                                                      \n",
      "                                                                 \n",
      " lstm_10 (LSTM)              (None, 64)                4210944   \n",
      "                                                                 \n",
      " dense_54 (Dense)            (None, 3)                 195       \n",
      "                                                                 \n",
      "=================================================================\n",
      "Total params: 4,221,556\n",
      "Trainable params: 4,221,556\n",
      "Non-trainable params: 0\n",
      "_________________________________________________________________\n"
     ]
    }
   ],
   "source": [
    "x = Input((10, 64, 64, 1))\n",
    "h = ConvLSTM2D(16, [3,3], [2,2], 'same', return_sequences=True)(x)\n",
    "h = Attention_Self(16)(h)\n",
    "h = TimeDistributed(Flatten())(h)\n",
    "h = LSTM(64, activation='relu')(h)\n",
    "res = Dense(3, 'softmax')(h)\n",
    "\n",
    "model = Model(inputs=x, outputs=res)\n",
    "model.compile(optimizer='Adam', loss=tf.keras.losses.SparseCategoricalCrossentropy(), metrics='acc')\n",
    "\n",
    "model = Model(inputs=x, outputs=res)\n",
    "model.compile(optimizer='Adam', loss=tf.keras.losses.SparseCategoricalCrossentropy(), metrics='acc')\n",
    "model.summary()"
   ]
  },
  {
   "cell_type": "code",
   "execution_count": 53,
   "id": "3a3a0b2a-fe65-4fb8-a3f7-c41f239e1320",
   "metadata": {
    "scrolled": true,
    "tags": []
   },
   "outputs": [
    {
     "name": "stdout",
     "output_type": "stream",
     "text": [
      "Epoch 1/30\n",
      "85/86 [============================>.] - ETA: 0s - loss: 1.8604 - acc: 0.4926"
     ]
    },
    {
     "name": "stderr",
     "output_type": "stream",
     "text": [
      "WARNING:absl:Found untraced functions such as dense_51_layer_call_fn, dense_51_layer_call_and_return_conditional_losses, dense_52_layer_call_fn, dense_52_layer_call_and_return_conditional_losses, dense_53_layer_call_fn while saving (showing 5 of 6). These functions will not be directly callable after loading.\n"
     ]
    },
    {
     "name": "stdout",
     "output_type": "stream",
     "text": [
      "INFO:tensorflow:Assets written to: ./res/V_model_CNNLSTMAtt_mpori.tf/assets\n"
     ]
    },
    {
     "name": "stderr",
     "output_type": "stream",
     "text": [
      "INFO:tensorflow:Assets written to: ./res/V_model_CNNLSTMAtt_mpori.tf/assets\n"
     ]
    },
    {
     "name": "stdout",
     "output_type": "stream",
     "text": [
      "86/86 [==============================] - 8s 78ms/step - loss: 1.8545 - acc: 0.4942 - val_loss: 1.0729 - val_acc: 0.5044\n",
      "Epoch 2/30\n",
      "86/86 [==============================] - ETA: 0s - loss: 1.0093 - acc: 0.5358"
     ]
    },
    {
     "name": "stderr",
     "output_type": "stream",
     "text": [
      "WARNING:absl:Found untraced functions such as dense_51_layer_call_fn, dense_51_layer_call_and_return_conditional_losses, dense_52_layer_call_fn, dense_52_layer_call_and_return_conditional_losses, dense_53_layer_call_fn while saving (showing 5 of 6). These functions will not be directly callable after loading.\n"
     ]
    },
    {
     "name": "stdout",
     "output_type": "stream",
     "text": [
      "INFO:tensorflow:Assets written to: ./res/V_model_CNNLSTMAtt_mpori.tf/assets\n"
     ]
    },
    {
     "name": "stderr",
     "output_type": "stream",
     "text": [
      "INFO:tensorflow:Assets written to: ./res/V_model_CNNLSTMAtt_mpori.tf/assets\n"
     ]
    },
    {
     "name": "stdout",
     "output_type": "stream",
     "text": [
      "86/86 [==============================] - 7s 79ms/step - loss: 1.0093 - acc: 0.5358 - val_loss: 1.0476 - val_acc: 0.5417\n",
      "Epoch 3/30\n",
      "85/86 [============================>.] - ETA: 0s - loss: 0.9911 - acc: 0.5434"
     ]
    },
    {
     "name": "stderr",
     "output_type": "stream",
     "text": [
      "WARNING:absl:Found untraced functions such as dense_51_layer_call_fn, dense_51_layer_call_and_return_conditional_losses, dense_52_layer_call_fn, dense_52_layer_call_and_return_conditional_losses, dense_53_layer_call_fn while saving (showing 5 of 6). These functions will not be directly callable after loading.\n"
     ]
    },
    {
     "name": "stdout",
     "output_type": "stream",
     "text": [
      "INFO:tensorflow:Assets written to: ./res/V_model_CNNLSTMAtt_mpori.tf/assets\n"
     ]
    },
    {
     "name": "stderr",
     "output_type": "stream",
     "text": [
      "INFO:tensorflow:Assets written to: ./res/V_model_CNNLSTMAtt_mpori.tf/assets\n"
     ]
    },
    {
     "name": "stdout",
     "output_type": "stream",
     "text": [
      "86/86 [==============================] - 6s 74ms/step - loss: 0.9914 - acc: 0.5424 - val_loss: 0.9963 - val_acc: 0.5439\n",
      "Epoch 4/30\n",
      "86/86 [==============================] - ETA: 0s - loss: 0.9917 - acc: 0.5424"
     ]
    },
    {
     "name": "stderr",
     "output_type": "stream",
     "text": [
      "WARNING:absl:Found untraced functions such as dense_51_layer_call_fn, dense_51_layer_call_and_return_conditional_losses, dense_52_layer_call_fn, dense_52_layer_call_and_return_conditional_losses, dense_53_layer_call_fn while saving (showing 5 of 6). These functions will not be directly callable after loading.\n"
     ]
    },
    {
     "name": "stdout",
     "output_type": "stream",
     "text": [
      "INFO:tensorflow:Assets written to: ./res/V_model_CNNLSTMAtt_mpori.tf/assets\n"
     ]
    },
    {
     "name": "stderr",
     "output_type": "stream",
     "text": [
      "INFO:tensorflow:Assets written to: ./res/V_model_CNNLSTMAtt_mpori.tf/assets\n"
     ]
    },
    {
     "name": "stdout",
     "output_type": "stream",
     "text": [
      "86/86 [==============================] - 6s 76ms/step - loss: 0.9917 - acc: 0.5424 - val_loss: 0.9914 - val_acc: 0.5439\n",
      "Epoch 5/30\n",
      "86/86 [==============================] - 4s 51ms/step - loss: 0.9841 - acc: 0.5351 - val_loss: 0.9955 - val_acc: 0.5329\n",
      "Epoch 6/30\n",
      "86/86 [==============================] - 5s 55ms/step - loss: 0.9847 - acc: 0.5424 - val_loss: 1.0155 - val_acc: 0.5439\n",
      "Epoch 7/30\n",
      "86/86 [==============================] - 5s 55ms/step - loss: 0.9823 - acc: 0.5424 - val_loss: 0.9937 - val_acc: 0.5285\n",
      "Epoch 8/30\n",
      "86/86 [==============================] - 5s 54ms/step - loss: 0.9835 - acc: 0.5424 - val_loss: 0.9916 - val_acc: 0.5439\n",
      "Epoch 9/30\n",
      "86/86 [==============================] - 5s 53ms/step - loss: 0.9792 - acc: 0.5424 - val_loss: 0.9963 - val_acc: 0.5439\n",
      "Epoch 10/30\n",
      "86/86 [==============================] - ETA: 0s - loss: 0.9896 - acc: 0.5424"
     ]
    },
    {
     "name": "stderr",
     "output_type": "stream",
     "text": [
      "WARNING:absl:Found untraced functions such as dense_51_layer_call_fn, dense_51_layer_call_and_return_conditional_losses, dense_52_layer_call_fn, dense_52_layer_call_and_return_conditional_losses, dense_53_layer_call_fn while saving (showing 5 of 6). These functions will not be directly callable after loading.\n"
     ]
    },
    {
     "name": "stdout",
     "output_type": "stream",
     "text": [
      "INFO:tensorflow:Assets written to: ./res/V_model_CNNLSTMAtt_mpori.tf/assets\n"
     ]
    },
    {
     "name": "stderr",
     "output_type": "stream",
     "text": [
      "INFO:tensorflow:Assets written to: ./res/V_model_CNNLSTMAtt_mpori.tf/assets\n"
     ]
    },
    {
     "name": "stdout",
     "output_type": "stream",
     "text": [
      "86/86 [==============================] - 7s 76ms/step - loss: 0.9896 - acc: 0.5424 - val_loss: 0.9840 - val_acc: 0.5439\n",
      "Epoch 11/30\n",
      "86/86 [==============================] - 4s 46ms/step - loss: 1.0040 - acc: 0.5424 - val_loss: 0.9908 - val_acc: 0.5439\n",
      "Epoch 12/30\n",
      "86/86 [==============================] - ETA: 0s - loss: 0.9876 - acc: 0.5424"
     ]
    },
    {
     "name": "stderr",
     "output_type": "stream",
     "text": [
      "WARNING:absl:Found untraced functions such as dense_51_layer_call_fn, dense_51_layer_call_and_return_conditional_losses, dense_52_layer_call_fn, dense_52_layer_call_and_return_conditional_losses, dense_53_layer_call_fn while saving (showing 5 of 6). These functions will not be directly callable after loading.\n"
     ]
    },
    {
     "name": "stdout",
     "output_type": "stream",
     "text": [
      "INFO:tensorflow:Assets written to: ./res/V_model_CNNLSTMAtt_mpori.tf/assets\n"
     ]
    },
    {
     "name": "stderr",
     "output_type": "stream",
     "text": [
      "INFO:tensorflow:Assets written to: ./res/V_model_CNNLSTMAtt_mpori.tf/assets\n"
     ]
    },
    {
     "name": "stdout",
     "output_type": "stream",
     "text": [
      "86/86 [==============================] - 6s 68ms/step - loss: 0.9876 - acc: 0.5424 - val_loss: 0.9830 - val_acc: 0.5439\n",
      "Epoch 13/30\n",
      "86/86 [==============================] - ETA: 0s - loss: 0.9812 - acc: 0.5424"
     ]
    },
    {
     "name": "stderr",
     "output_type": "stream",
     "text": [
      "WARNING:absl:Found untraced functions such as dense_51_layer_call_fn, dense_51_layer_call_and_return_conditional_losses, dense_52_layer_call_fn, dense_52_layer_call_and_return_conditional_losses, dense_53_layer_call_fn while saving (showing 5 of 6). These functions will not be directly callable after loading.\n"
     ]
    },
    {
     "name": "stdout",
     "output_type": "stream",
     "text": [
      "INFO:tensorflow:Assets written to: ./res/V_model_CNNLSTMAtt_mpori.tf/assets\n"
     ]
    },
    {
     "name": "stderr",
     "output_type": "stream",
     "text": [
      "INFO:tensorflow:Assets written to: ./res/V_model_CNNLSTMAtt_mpori.tf/assets\n"
     ]
    },
    {
     "name": "stdout",
     "output_type": "stream",
     "text": [
      "86/86 [==============================] - 6s 75ms/step - loss: 0.9812 - acc: 0.5424 - val_loss: 0.9814 - val_acc: 0.5439\n",
      "Epoch 14/30\n",
      "86/86 [==============================] - 5s 54ms/step - loss: 1.0139 - acc: 0.5395 - val_loss: 0.9882 - val_acc: 0.5439\n",
      "Epoch 15/30\n",
      "86/86 [==============================] - 4s 52ms/step - loss: 0.9956 - acc: 0.5395 - val_loss: 0.9894 - val_acc: 0.5439\n",
      "Epoch 16/30\n",
      "86/86 [==============================] - 4s 45ms/step - loss: 0.9980 - acc: 0.5424 - val_loss: 0.9873 - val_acc: 0.5439\n",
      "Epoch 17/30\n",
      "86/86 [==============================] - 4s 45ms/step - loss: 0.9879 - acc: 0.5424 - val_loss: 1.0246 - val_acc: 0.5395\n",
      "Epoch 18/30\n",
      "86/86 [==============================] - 4s 45ms/step - loss: 0.9899 - acc: 0.5424 - val_loss: 1.0287 - val_acc: 0.5439\n",
      "Epoch 19/30\n",
      "86/86 [==============================] - 4s 45ms/step - loss: 0.9819 - acc: 0.5424 - val_loss: 0.9910 - val_acc: 0.5439\n",
      "Epoch 20/30\n",
      "86/86 [==============================] - 4s 47ms/step - loss: 0.9834 - acc: 0.5424 - val_loss: 0.9923 - val_acc: 0.5439\n",
      "Epoch 21/30\n",
      "86/86 [==============================] - 5s 53ms/step - loss: 0.9843 - acc: 0.5424 - val_loss: 0.9870 - val_acc: 0.5439\n",
      "Epoch 22/30\n",
      "86/86 [==============================] - 5s 54ms/step - loss: 0.9817 - acc: 0.5424 - val_loss: 0.9929 - val_acc: 0.5439\n",
      "Epoch 23/30\n",
      "86/86 [==============================] - 5s 53ms/step - loss: 0.9802 - acc: 0.5424 - val_loss: 0.9892 - val_acc: 0.5439\n",
      "Epoch 24/30\n",
      "86/86 [==============================] - 5s 57ms/step - loss: 0.9777 - acc: 0.5424 - val_loss: 0.9880 - val_acc: 0.5439\n",
      "Epoch 25/30\n",
      "86/86 [==============================] - 5s 55ms/step - loss: 0.9802 - acc: 0.5424 - val_loss: 1.0420 - val_acc: 0.5285\n",
      "Epoch 26/30\n",
      "86/86 [==============================] - 5s 54ms/step - loss: 0.9740 - acc: 0.5424 - val_loss: 0.9903 - val_acc: 0.5439\n",
      "Epoch 27/30\n",
      "86/86 [==============================] - 5s 53ms/step - loss: 0.9782 - acc: 0.5424 - val_loss: 0.9950 - val_acc: 0.5439\n",
      "Epoch 28/30\n",
      "86/86 [==============================] - 5s 54ms/step - loss: 0.9821 - acc: 0.5424 - val_loss: 0.9872 - val_acc: 0.5439\n",
      "Epoch 29/30\n",
      "86/86 [==============================] - 5s 54ms/step - loss: 0.9717 - acc: 0.5424 - val_loss: 1.0009 - val_acc: 0.5285\n",
      "Epoch 30/30\n",
      "86/86 [==============================] - 5s 53ms/step - loss: 1.0565 - acc: 0.5197 - val_loss: 1.1072 - val_acc: 0.5417\n"
     ]
    },
    {
     "data": {
      "text/plain": [
       "<keras.callbacks.History at 0x7f4bc69e7c40>"
      ]
     },
     "execution_count": 53,
     "metadata": {},
     "output_type": "execute_result"
    }
   ],
   "source": [
    "callback_list = [ModelCheckpoint(filepath='./res/V_model_CNNLSTMAtt_mpori.tf', monitor='val_loss', save_best_only=True, save_freq='epoch')]\n",
    "\n",
    "model.fit(x=np.expand_dims(visual_ori['train'], axis=-1), y=np.asarray(label['train']), batch_size=16, epochs=30, \n",
    "            validation_data=[np.expand_dims(visual_ori['valid'], axis=-1), np.asarray(label['valid'])],\n",
    "            callbacks=callback_list)"
   ]
  },
  {
   "cell_type": "code",
   "execution_count": 55,
   "id": "bfe1d2fa-8e44-4778-ad5d-5ed4cdb0ac40",
   "metadata": {},
   "outputs": [
    {
     "name": "stdout",
     "output_type": "stream",
     "text": [
      "WARNING:tensorflow:Layer lstm_10 will not use cuDNN kernels since it doesn't meet the criteria. It will use a generic GPU kernel as fallback when running on GPU.\n"
     ]
    },
    {
     "name": "stderr",
     "output_type": "stream",
     "text": [
      "WARNING:tensorflow:Layer lstm_10 will not use cuDNN kernels since it doesn't meet the criteria. It will use a generic GPU kernel as fallback when running on GPU.\n"
     ]
    },
    {
     "name": "stdout",
     "output_type": "stream",
     "text": [
      "15/15 [==============================] - 1s 27ms/step\n",
      "              precision    recall  f1-score   support\n",
      "\n",
      "         Neg     0.5427    1.0000    0.7035       248\n",
      "         Pos     0.0000    0.0000    0.0000       140\n",
      "         Neu     0.0000    0.0000    0.0000        69\n",
      "\n",
      "    accuracy                         0.5427       457\n",
      "   macro avg     0.1809    0.3333    0.2345       457\n",
      "weighted avg     0.2945    0.5427    0.3818       457\n",
      "\n",
      "[[248   0   0]\n",
      " [140   0   0]\n",
      " [ 69   0   0]]\n"
     ]
    },
    {
     "name": "stderr",
     "output_type": "stream",
     "text": [
      "/home/chason/anaconda3/envs/deepeye/lib/python3.10/site-packages/sklearn/metrics/_classification.py:1334: UndefinedMetricWarning: Precision and F-score are ill-defined and being set to 0.0 in labels with no predicted samples. Use `zero_division` parameter to control this behavior.\n",
      "  _warn_prf(average, modifier, msg_start, len(result))\n",
      "/home/chason/anaconda3/envs/deepeye/lib/python3.10/site-packages/sklearn/metrics/_classification.py:1334: UndefinedMetricWarning: Precision and F-score are ill-defined and being set to 0.0 in labels with no predicted samples. Use `zero_division` parameter to control this behavior.\n",
      "  _warn_prf(average, modifier, msg_start, len(result))\n",
      "/home/chason/anaconda3/envs/deepeye/lib/python3.10/site-packages/sklearn/metrics/_classification.py:1334: UndefinedMetricWarning: Precision and F-score are ill-defined and being set to 0.0 in labels with no predicted samples. Use `zero_division` parameter to control this behavior.\n",
      "  _warn_prf(average, modifier, msg_start, len(result))\n"
     ]
    }
   ],
   "source": [
    "model = tf.keras.models.load_model('./res/V_model_CNNLSTMAtt_mpori.tf/')\n",
    "pred = model.predict(np.expand_dims(visual_ori['test'], axis=-1))\n",
    "predicted_test_labels = pred.argmax(axis=1)\n",
    "numeric_test_labels = np.array(label['test'])\n",
    "            \n",
    "eval_res = classification_report(numeric_test_labels, predicted_test_labels, \n",
    "                                    target_names = ['Neg', 'Pos', 'Neu'], \n",
    "                                    digits=4, output_dict=False)\n",
    "\n",
    "print(eval_res)\n",
    "\n",
    "cm = confusion_matrix(y_true=numeric_test_labels.tolist(), y_pred=predicted_test_labels.tolist())\n",
    "print(cm)"
   ]
  },
  {
   "cell_type": "code",
   "execution_count": 17,
   "id": "1f148eec-fa78-40d5-86fb-18b5a6b3a691",
   "metadata": {},
   "outputs": [
    {
     "name": "stdout",
     "output_type": "stream",
     "text": [
      "WARNING:tensorflow:Layer lstm_6 will not use cuDNN kernels since it doesn't meet the criteria. It will use a generic GPU kernel as fallback when running on GPU.\n"
     ]
    },
    {
     "name": "stderr",
     "output_type": "stream",
     "text": [
      "WARNING:tensorflow:Layer lstm_6 will not use cuDNN kernels since it doesn't meet the criteria. It will use a generic GPU kernel as fallback when running on GPU.\n"
     ]
    },
    {
     "name": "stdout",
     "output_type": "stream",
     "text": [
      "Model: \"model_4\"\n",
      "_________________________________________________________________\n",
      " Layer (type)                Output Shape              Param #   \n",
      "=================================================================\n",
      " input_6 (InputLayer)        [(None, 30, 49)]          0         \n",
      "                                                                 \n",
      " attention__self_4 (Attentio  (None, 30, 64)           6465      \n",
      " n_Self)                                                         \n",
      "                                                                 \n",
      " conv1d_12 (Conv1D)          (None, 30, 64)            12352     \n",
      "                                                                 \n",
      " conv1d_13 (Conv1D)          (None, 30, 64)            4160      \n",
      "                                                                 \n",
      " conv1d_14 (Conv1D)          (None, 30, 64)            12352     \n",
      "                                                                 \n",
      " lstm_6 (LSTM)               (None, 64)                33024     \n",
      "                                                                 \n",
      " dense_19 (Dense)            (None, 3)                 195       \n",
      "                                                                 \n",
      "=================================================================\n",
      "Total params: 68,548\n",
      "Trainable params: 68,548\n",
      "Non-trainable params: 0\n",
      "_________________________________________________________________\n"
     ]
    }
   ],
   "source": [
    "x = Input((30, 49))\n",
    "h = Attention_Self(64)(x)\n",
    "h = Conv1D(64, 3, 1, 'same')(h)\n",
    "h = Conv1D(64, 1, 1, 'same')(h)\n",
    "h = Conv1D(64, 3, 1, 'same')(h)\n",
    "h = LSTM(64, activation='relu')(h)\n",
    "res = Dense(3, 'softmax')(h)\n",
    "\n",
    "model = Model(inputs=x, outputs=res)\n",
    "model.compile(optimizer='Adam', loss=tf.keras.losses.SparseCategoricalCrossentropy(), metrics='acc')\n",
    "model.summary()"
   ]
  },
  {
   "cell_type": "code",
   "execution_count": 18,
   "id": "af1eac95-84fa-46bc-b05a-79dbe3d405cd",
   "metadata": {
    "scrolled": true,
    "tags": []
   },
   "outputs": [
    {
     "name": "stdout",
     "output_type": "stream",
     "text": [
      "Epoch 1/30\n",
      "84/86 [============================>.] - ETA: 0s - loss: 56.4657 - acc: 0.3460"
     ]
    },
    {
     "name": "stderr",
     "output_type": "stream",
     "text": [
      "WARNING:absl:Found untraced functions such as _jit_compiled_convolution_op, _jit_compiled_convolution_op, _jit_compiled_convolution_op, dense_16_layer_call_fn, dense_16_layer_call_and_return_conditional_losses while saving (showing 5 of 9). These functions will not be directly callable after loading.\n"
     ]
    },
    {
     "name": "stdout",
     "output_type": "stream",
     "text": [
      "INFO:tensorflow:Assets written to: ./res/V_model_CNNLSTMAtt_of.tf/assets\n"
     ]
    },
    {
     "name": "stderr",
     "output_type": "stream",
     "text": [
      "INFO:tensorflow:Assets written to: ./res/V_model_CNNLSTMAtt_of.tf/assets\n"
     ]
    },
    {
     "name": "stdout",
     "output_type": "stream",
     "text": [
      "86/86 [==============================] - 4s 38ms/step - loss: 55.5201 - acc: 0.3465 - val_loss: 1.8686 - val_acc: 0.4890\n",
      "Epoch 2/30\n",
      "83/86 [===========================>..] - ETA: 0s - loss: 1.3809 - acc: 0.4239"
     ]
    },
    {
     "name": "stderr",
     "output_type": "stream",
     "text": [
      "WARNING:absl:Found untraced functions such as _jit_compiled_convolution_op, _jit_compiled_convolution_op, _jit_compiled_convolution_op, dense_16_layer_call_fn, dense_16_layer_call_and_return_conditional_losses while saving (showing 5 of 9). These functions will not be directly callable after loading.\n"
     ]
    },
    {
     "name": "stdout",
     "output_type": "stream",
     "text": [
      "INFO:tensorflow:Assets written to: ./res/V_model_CNNLSTMAtt_of.tf/assets\n"
     ]
    },
    {
     "name": "stderr",
     "output_type": "stream",
     "text": [
      "INFO:tensorflow:Assets written to: ./res/V_model_CNNLSTMAtt_of.tf/assets\n"
     ]
    },
    {
     "name": "stdout",
     "output_type": "stream",
     "text": [
      "86/86 [==============================] - 3s 35ms/step - loss: 1.3838 - acc: 0.4284 - val_loss: 1.3939 - val_acc: 0.5088\n",
      "Epoch 3/30\n",
      "86/86 [==============================] - 2s 21ms/step - loss: 1.2762 - acc: 0.4635 - val_loss: 1.4068 - val_acc: 0.3947\n",
      "Epoch 4/30\n",
      "86/86 [==============================] - ETA: 0s - loss: 1.2978 - acc: 0.4466"
     ]
    },
    {
     "name": "stderr",
     "output_type": "stream",
     "text": [
      "WARNING:absl:Found untraced functions such as _jit_compiled_convolution_op, _jit_compiled_convolution_op, _jit_compiled_convolution_op, dense_16_layer_call_fn, dense_16_layer_call_and_return_conditional_losses while saving (showing 5 of 9). These functions will not be directly callable after loading.\n"
     ]
    },
    {
     "name": "stdout",
     "output_type": "stream",
     "text": [
      "INFO:tensorflow:Assets written to: ./res/V_model_CNNLSTMAtt_of.tf/assets\n"
     ]
    },
    {
     "name": "stderr",
     "output_type": "stream",
     "text": [
      "INFO:tensorflow:Assets written to: ./res/V_model_CNNLSTMAtt_of.tf/assets\n"
     ]
    },
    {
     "name": "stdout",
     "output_type": "stream",
     "text": [
      "86/86 [==============================] - 3s 38ms/step - loss: 1.2978 - acc: 0.4466 - val_loss: 1.3806 - val_acc: 0.4298\n",
      "Epoch 5/30\n",
      "84/86 [============================>.] - ETA: 0s - loss: 1.2437 - acc: 0.4658"
     ]
    },
    {
     "name": "stderr",
     "output_type": "stream",
     "text": [
      "WARNING:absl:Found untraced functions such as _jit_compiled_convolution_op, _jit_compiled_convolution_op, _jit_compiled_convolution_op, dense_16_layer_call_fn, dense_16_layer_call_and_return_conditional_losses while saving (showing 5 of 9). These functions will not be directly callable after loading.\n"
     ]
    },
    {
     "name": "stdout",
     "output_type": "stream",
     "text": [
      "INFO:tensorflow:Assets written to: ./res/V_model_CNNLSTMAtt_of.tf/assets\n"
     ]
    },
    {
     "name": "stderr",
     "output_type": "stream",
     "text": [
      "INFO:tensorflow:Assets written to: ./res/V_model_CNNLSTMAtt_of.tf/assets\n"
     ]
    },
    {
     "name": "stdout",
     "output_type": "stream",
     "text": [
      "86/86 [==============================] - 3s 35ms/step - loss: 1.2441 - acc: 0.4656 - val_loss: 1.3614 - val_acc: 0.5088\n",
      "Epoch 6/30\n",
      "85/86 [============================>.] - ETA: 0s - loss: 1.1764 - acc: 0.4625"
     ]
    },
    {
     "name": "stderr",
     "output_type": "stream",
     "text": [
      "WARNING:absl:Found untraced functions such as _jit_compiled_convolution_op, _jit_compiled_convolution_op, _jit_compiled_convolution_op, dense_16_layer_call_fn, dense_16_layer_call_and_return_conditional_losses while saving (showing 5 of 9). These functions will not be directly callable after loading.\n"
     ]
    },
    {
     "name": "stdout",
     "output_type": "stream",
     "text": [
      "INFO:tensorflow:Assets written to: ./res/V_model_CNNLSTMAtt_of.tf/assets\n"
     ]
    },
    {
     "name": "stderr",
     "output_type": "stream",
     "text": [
      "INFO:tensorflow:Assets written to: ./res/V_model_CNNLSTMAtt_of.tf/assets\n"
     ]
    },
    {
     "name": "stdout",
     "output_type": "stream",
     "text": [
      "86/86 [==============================] - 3s 35ms/step - loss: 1.1754 - acc: 0.4620 - val_loss: 1.3411 - val_acc: 0.4825\n",
      "Epoch 7/30\n",
      "86/86 [==============================] - 2s 22ms/step - loss: 1.2149 - acc: 0.4795 - val_loss: 1.3517 - val_acc: 0.4693\n",
      "Epoch 8/30\n",
      "86/86 [==============================] - 2s 22ms/step - loss: 1.1910 - acc: 0.4708 - val_loss: 1.5039 - val_acc: 0.3904\n",
      "Epoch 9/30\n",
      "86/86 [==============================] - 2s 22ms/step - loss: 1.1980 - acc: 0.4525 - val_loss: 1.4221 - val_acc: 0.4978\n",
      "Epoch 10/30\n",
      "85/86 [============================>.] - ETA: 0s - loss: 1.2117 - acc: 0.4647"
     ]
    },
    {
     "name": "stderr",
     "output_type": "stream",
     "text": [
      "WARNING:absl:Found untraced functions such as _jit_compiled_convolution_op, _jit_compiled_convolution_op, _jit_compiled_convolution_op, dense_16_layer_call_fn, dense_16_layer_call_and_return_conditional_losses while saving (showing 5 of 9). These functions will not be directly callable after loading.\n"
     ]
    },
    {
     "name": "stdout",
     "output_type": "stream",
     "text": [
      "INFO:tensorflow:Assets written to: ./res/V_model_CNNLSTMAtt_of.tf/assets\n"
     ]
    },
    {
     "name": "stderr",
     "output_type": "stream",
     "text": [
      "INFO:tensorflow:Assets written to: ./res/V_model_CNNLSTMAtt_of.tf/assets\n"
     ]
    },
    {
     "name": "stdout",
     "output_type": "stream",
     "text": [
      "86/86 [==============================] - 3s 36ms/step - loss: 1.2104 - acc: 0.4656 - val_loss: 1.3266 - val_acc: 0.4737\n",
      "Epoch 11/30\n",
      "86/86 [==============================] - 2s 22ms/step - loss: 1.3022 - acc: 0.4357 - val_loss: 1.3400 - val_acc: 0.5066\n",
      "Epoch 12/30\n",
      "86/86 [==============================] - 2s 21ms/step - loss: 1.1742 - acc: 0.4773 - val_loss: 1.4435 - val_acc: 0.3947\n",
      "Epoch 13/30\n",
      "86/86 [==============================] - 2s 22ms/step - loss: 1.2091 - acc: 0.4671 - val_loss: 1.3469 - val_acc: 0.3947\n",
      "Epoch 14/30\n",
      "86/86 [==============================] - 2s 21ms/step - loss: 1.1558 - acc: 0.4642 - val_loss: 1.3596 - val_acc: 0.5044\n",
      "Epoch 15/30\n",
      "86/86 [==============================] - ETA: 0s - loss: 1.1421 - acc: 0.4803"
     ]
    },
    {
     "name": "stderr",
     "output_type": "stream",
     "text": [
      "WARNING:absl:Found untraced functions such as _jit_compiled_convolution_op, _jit_compiled_convolution_op, _jit_compiled_convolution_op, dense_16_layer_call_fn, dense_16_layer_call_and_return_conditional_losses while saving (showing 5 of 9). These functions will not be directly callable after loading.\n"
     ]
    },
    {
     "name": "stdout",
     "output_type": "stream",
     "text": [
      "INFO:tensorflow:Assets written to: ./res/V_model_CNNLSTMAtt_of.tf/assets\n"
     ]
    },
    {
     "name": "stderr",
     "output_type": "stream",
     "text": [
      "INFO:tensorflow:Assets written to: ./res/V_model_CNNLSTMAtt_of.tf/assets\n"
     ]
    },
    {
     "name": "stdout",
     "output_type": "stream",
     "text": [
      "86/86 [==============================] - 3s 38ms/step - loss: 1.1421 - acc: 0.4803 - val_loss: 1.2902 - val_acc: 0.4934\n",
      "Epoch 16/30\n",
      "84/86 [============================>.] - ETA: 0s - loss: 1.1459 - acc: 0.4829"
     ]
    },
    {
     "name": "stderr",
     "output_type": "stream",
     "text": [
      "WARNING:absl:Found untraced functions such as _jit_compiled_convolution_op, _jit_compiled_convolution_op, _jit_compiled_convolution_op, dense_16_layer_call_fn, dense_16_layer_call_and_return_conditional_losses while saving (showing 5 of 9). These functions will not be directly callable after loading.\n"
     ]
    },
    {
     "name": "stdout",
     "output_type": "stream",
     "text": [
      "INFO:tensorflow:Assets written to: ./res/V_model_CNNLSTMAtt_of.tf/assets\n"
     ]
    },
    {
     "name": "stderr",
     "output_type": "stream",
     "text": [
      "INFO:tensorflow:Assets written to: ./res/V_model_CNNLSTMAtt_of.tf/assets\n"
     ]
    },
    {
     "name": "stdout",
     "output_type": "stream",
     "text": [
      "86/86 [==============================] - 3s 34ms/step - loss: 1.1522 - acc: 0.4825 - val_loss: 1.2882 - val_acc: 0.5154\n",
      "Epoch 17/30\n",
      "85/86 [============================>.] - ETA: 0s - loss: 1.1243 - acc: 0.4941"
     ]
    },
    {
     "name": "stderr",
     "output_type": "stream",
     "text": [
      "WARNING:absl:Found untraced functions such as _jit_compiled_convolution_op, _jit_compiled_convolution_op, _jit_compiled_convolution_op, dense_16_layer_call_fn, dense_16_layer_call_and_return_conditional_losses while saving (showing 5 of 9). These functions will not be directly callable after loading.\n"
     ]
    },
    {
     "name": "stdout",
     "output_type": "stream",
     "text": [
      "INFO:tensorflow:Assets written to: ./res/V_model_CNNLSTMAtt_of.tf/assets\n"
     ]
    },
    {
     "name": "stderr",
     "output_type": "stream",
     "text": [
      "INFO:tensorflow:Assets written to: ./res/V_model_CNNLSTMAtt_of.tf/assets\n"
     ]
    },
    {
     "name": "stdout",
     "output_type": "stream",
     "text": [
      "86/86 [==============================] - 3s 33ms/step - loss: 1.1268 - acc: 0.4942 - val_loss: 1.2768 - val_acc: 0.4978\n",
      "Epoch 18/30\n",
      "84/86 [============================>.] - ETA: 0s - loss: 1.1110 - acc: 0.4896"
     ]
    },
    {
     "name": "stderr",
     "output_type": "stream",
     "text": [
      "WARNING:absl:Found untraced functions such as _jit_compiled_convolution_op, _jit_compiled_convolution_op, _jit_compiled_convolution_op, dense_16_layer_call_fn, dense_16_layer_call_and_return_conditional_losses while saving (showing 5 of 9). These functions will not be directly callable after loading.\n"
     ]
    },
    {
     "name": "stdout",
     "output_type": "stream",
     "text": [
      "INFO:tensorflow:Assets written to: ./res/V_model_CNNLSTMAtt_of.tf/assets\n"
     ]
    },
    {
     "name": "stderr",
     "output_type": "stream",
     "text": [
      "INFO:tensorflow:Assets written to: ./res/V_model_CNNLSTMAtt_of.tf/assets\n"
     ]
    },
    {
     "name": "stdout",
     "output_type": "stream",
     "text": [
      "86/86 [==============================] - 3s 38ms/step - loss: 1.1244 - acc: 0.4876 - val_loss: 1.2696 - val_acc: 0.4737\n",
      "Epoch 19/30\n",
      "86/86 [==============================] - 2s 21ms/step - loss: 1.1403 - acc: 0.4671 - val_loss: 1.2766 - val_acc: 0.5022\n",
      "Epoch 20/30\n",
      "86/86 [==============================] - 2s 20ms/step - loss: 1.1329 - acc: 0.4920 - val_loss: 1.2967 - val_acc: 0.4693\n",
      "Epoch 21/30\n",
      "85/86 [============================>.] - ETA: 0s - loss: 1.1095 - acc: 0.4757"
     ]
    },
    {
     "name": "stderr",
     "output_type": "stream",
     "text": [
      "WARNING:absl:Found untraced functions such as _jit_compiled_convolution_op, _jit_compiled_convolution_op, _jit_compiled_convolution_op, dense_16_layer_call_fn, dense_16_layer_call_and_return_conditional_losses while saving (showing 5 of 9). These functions will not be directly callable after loading.\n"
     ]
    },
    {
     "name": "stdout",
     "output_type": "stream",
     "text": [
      "INFO:tensorflow:Assets written to: ./res/V_model_CNNLSTMAtt_of.tf/assets\n"
     ]
    },
    {
     "name": "stderr",
     "output_type": "stream",
     "text": [
      "INFO:tensorflow:Assets written to: ./res/V_model_CNNLSTMAtt_of.tf/assets\n"
     ]
    },
    {
     "name": "stdout",
     "output_type": "stream",
     "text": [
      "86/86 [==============================] - 3s 34ms/step - loss: 1.1080 - acc: 0.4766 - val_loss: 1.2449 - val_acc: 0.4803\n",
      "Epoch 22/30\n",
      "86/86 [==============================] - 2s 22ms/step - loss: 1.1130 - acc: 0.4693 - val_loss: 1.3355 - val_acc: 0.4781\n",
      "Epoch 23/30\n",
      "85/86 [============================>.] - ETA: 0s - loss: 1.1349 - acc: 0.4654"
     ]
    },
    {
     "name": "stderr",
     "output_type": "stream",
     "text": [
      "WARNING:absl:Found untraced functions such as _jit_compiled_convolution_op, _jit_compiled_convolution_op, _jit_compiled_convolution_op, dense_16_layer_call_fn, dense_16_layer_call_and_return_conditional_losses while saving (showing 5 of 9). These functions will not be directly callable after loading.\n"
     ]
    },
    {
     "name": "stdout",
     "output_type": "stream",
     "text": [
      "INFO:tensorflow:Assets written to: ./res/V_model_CNNLSTMAtt_of.tf/assets\n"
     ]
    },
    {
     "name": "stderr",
     "output_type": "stream",
     "text": [
      "INFO:tensorflow:Assets written to: ./res/V_model_CNNLSTMAtt_of.tf/assets\n"
     ]
    },
    {
     "name": "stdout",
     "output_type": "stream",
     "text": [
      "86/86 [==============================] - 3s 35ms/step - loss: 1.1314 - acc: 0.4671 - val_loss: 1.2412 - val_acc: 0.4759\n",
      "Epoch 24/30\n",
      "85/86 [============================>.] - ETA: 0s - loss: 1.0689 - acc: 0.4809"
     ]
    },
    {
     "name": "stderr",
     "output_type": "stream",
     "text": [
      "WARNING:absl:Found untraced functions such as _jit_compiled_convolution_op, _jit_compiled_convolution_op, _jit_compiled_convolution_op, dense_16_layer_call_fn, dense_16_layer_call_and_return_conditional_losses while saving (showing 5 of 9). These functions will not be directly callable after loading.\n"
     ]
    },
    {
     "name": "stdout",
     "output_type": "stream",
     "text": [
      "INFO:tensorflow:Assets written to: ./res/V_model_CNNLSTMAtt_of.tf/assets\n"
     ]
    },
    {
     "name": "stderr",
     "output_type": "stream",
     "text": [
      "INFO:tensorflow:Assets written to: ./res/V_model_CNNLSTMAtt_of.tf/assets\n"
     ]
    },
    {
     "name": "stdout",
     "output_type": "stream",
     "text": [
      "86/86 [==============================] - 3s 39ms/step - loss: 1.0674 - acc: 0.4817 - val_loss: 1.2194 - val_acc: 0.5000\n",
      "Epoch 25/30\n",
      "86/86 [==============================] - 2s 23ms/step - loss: 1.1042 - acc: 0.4846 - val_loss: 1.2267 - val_acc: 0.5088\n",
      "Epoch 26/30\n",
      "86/86 [==============================] - 2s 22ms/step - loss: 1.0974 - acc: 0.4788 - val_loss: 1.2357 - val_acc: 0.4561\n",
      "Epoch 27/30\n",
      "86/86 [==============================] - 2s 21ms/step - loss: 1.1058 - acc: 0.5022 - val_loss: 1.2784 - val_acc: 0.3355\n",
      "Epoch 28/30\n",
      "86/86 [==============================] - 2s 22ms/step - loss: 1.1123 - acc: 0.4700 - val_loss: 1.2350 - val_acc: 0.5329\n",
      "Epoch 29/30\n",
      "85/86 [============================>.] - ETA: 0s - loss: 1.1091 - acc: 0.4838"
     ]
    },
    {
     "name": "stderr",
     "output_type": "stream",
     "text": [
      "WARNING:absl:Found untraced functions such as _jit_compiled_convolution_op, _jit_compiled_convolution_op, _jit_compiled_convolution_op, dense_16_layer_call_fn, dense_16_layer_call_and_return_conditional_losses while saving (showing 5 of 9). These functions will not be directly callable after loading.\n"
     ]
    },
    {
     "name": "stdout",
     "output_type": "stream",
     "text": [
      "INFO:tensorflow:Assets written to: ./res/V_model_CNNLSTMAtt_of.tf/assets\n"
     ]
    },
    {
     "name": "stderr",
     "output_type": "stream",
     "text": [
      "INFO:tensorflow:Assets written to: ./res/V_model_CNNLSTMAtt_of.tf/assets\n"
     ]
    },
    {
     "name": "stdout",
     "output_type": "stream",
     "text": [
      "86/86 [==============================] - 3s 35ms/step - loss: 1.1103 - acc: 0.4832 - val_loss: 1.1901 - val_acc: 0.5044\n",
      "Epoch 30/30\n",
      "86/86 [==============================] - 2s 21ms/step - loss: 1.1421 - acc: 0.4846 - val_loss: 1.1971 - val_acc: 0.5329\n"
     ]
    },
    {
     "data": {
      "text/plain": [
       "<keras.callbacks.History at 0x7f5c88ca5e40>"
      ]
     },
     "execution_count": 18,
     "metadata": {},
     "output_type": "execute_result"
    }
   ],
   "source": [
    "callback_list = [ModelCheckpoint(filepath='./res/V_model_CNNLSTMAtt_of.tf', monitor='val_loss', save_best_only=True, save_freq='epoch')]\n",
    "\n",
    "model.fit(x=np.asarray(visual_of['train']), y=np.asarray(label['train']), batch_size=16, epochs=30, \n",
    "            validation_data=[np.asarray(visual_of['valid']), np.asarray(label['valid'])],\n",
    "            callbacks=callback_list)"
   ]
  },
  {
   "cell_type": "code",
   "execution_count": 19,
   "id": "6b24a7b8-0eb9-4b6f-ae4f-c1e7c2d97125",
   "metadata": {},
   "outputs": [
    {
     "name": "stdout",
     "output_type": "stream",
     "text": [
      "WARNING:tensorflow:Layer lstm_6 will not use cuDNN kernels since it doesn't meet the criteria. It will use a generic GPU kernel as fallback when running on GPU.\n"
     ]
    },
    {
     "name": "stderr",
     "output_type": "stream",
     "text": [
      "WARNING:tensorflow:Layer lstm_6 will not use cuDNN kernels since it doesn't meet the criteria. It will use a generic GPU kernel as fallback when running on GPU.\n"
     ]
    },
    {
     "name": "stdout",
     "output_type": "stream",
     "text": [
      "15/15 [==============================] - 0s 6ms/step\n",
      "              precision    recall  f1-score   support\n",
      "\n",
      "         Neg     0.5351    0.9516    0.6851       248\n",
      "         Pos     0.1333    0.0143    0.0258       140\n",
      "         Neu     0.0000    0.0000    0.0000        69\n",
      "\n",
      "    accuracy                         0.5208       457\n",
      "   macro avg     0.2228    0.3220    0.2370       457\n",
      "weighted avg     0.3313    0.5208    0.3797       457\n",
      "\n",
      "[[236  12   0]\n",
      " [137   2   1]\n",
      " [ 68   1   0]]\n"
     ]
    }
   ],
   "source": [
    "model = tf.keras.models.load_model('./res/V_model_CNNLSTMAtt_of.tf/')\n",
    "pred = model.predict(np.asarray(visual_of['test']))\n",
    "predicted_test_labels = pred.argmax(axis=1)\n",
    "numeric_test_labels = np.array(label['test'])\n",
    "            \n",
    "eval_res = classification_report(numeric_test_labels, predicted_test_labels, \n",
    "                                    target_names = ['Neg', 'Pos', 'Neu'], \n",
    "                                    digits=4, output_dict=False)\n",
    "\n",
    "print(eval_res)\n",
    "\n",
    "cm = confusion_matrix(y_true=numeric_test_labels.tolist(), y_pred=predicted_test_labels.tolist())\n",
    "print(cm)"
   ]
  },
  {
   "cell_type": "code",
   "execution_count": 20,
   "id": "1787aea6-e19a-477a-8027-64e082e418a5",
   "metadata": {},
   "outputs": [
    {
     "name": "stdout",
     "output_type": "stream",
     "text": [
      "WARNING:tensorflow:Layer lstm_7 will not use cuDNN kernels since it doesn't meet the criteria. It will use a generic GPU kernel as fallback when running on GPU.\n"
     ]
    },
    {
     "name": "stderr",
     "output_type": "stream",
     "text": [
      "WARNING:tensorflow:Layer lstm_7 will not use cuDNN kernels since it doesn't meet the criteria. It will use a generic GPU kernel as fallback when running on GPU.\n"
     ]
    },
    {
     "name": "stdout",
     "output_type": "stream",
     "text": [
      "Model: \"model_5\"\n",
      "_________________________________________________________________\n",
      " Layer (type)                Output Shape              Param #   \n",
      "=================================================================\n",
      " input_7 (InputLayer)        [(None, 10, 512)]         0         \n",
      "                                                                 \n",
      " attention__self_5 (Attentio  (None, 10, 512)          525825    \n",
      " n_Self)                                                         \n",
      "                                                                 \n",
      " conv1d_15 (Conv1D)          (None, 10, 64)            98368     \n",
      "                                                                 \n",
      " conv1d_16 (Conv1D)          (None, 10, 64)            4160      \n",
      "                                                                 \n",
      " conv1d_17 (Conv1D)          (None, 10, 64)            12352     \n",
      "                                                                 \n",
      " lstm_7 (LSTM)               (None, 64)                33024     \n",
      "                                                                 \n",
      " dense_23 (Dense)            (None, 3)                 195       \n",
      "                                                                 \n",
      "=================================================================\n",
      "Total params: 673,924\n",
      "Trainable params: 673,924\n",
      "Non-trainable params: 0\n",
      "_________________________________________________________________\n"
     ]
    }
   ],
   "source": [
    "x = Input((10, 512))\n",
    "h = Attention_Self(512)(x)\n",
    "h = Conv1D(64, 3, 1, 'same')(h)\n",
    "h = Conv1D(64, 1, 1, 'same')(h)\n",
    "h = Conv1D(64, 3, 1, 'same')(h)\n",
    "h = LSTM(64, activation='relu')(h)\n",
    "res = Dense(3, 'softmax')(h)\n",
    "\n",
    "model = Model(inputs=x, outputs=res)\n",
    "model.compile(optimizer='Adam', loss=tf.keras.losses.SparseCategoricalCrossentropy(), metrics='acc')\n",
    "model.summary()"
   ]
  },
  {
   "cell_type": "code",
   "execution_count": 21,
   "id": "f8ecb70e-8154-470d-b46c-93a3bd7345af",
   "metadata": {
    "scrolled": true,
    "tags": []
   },
   "outputs": [
    {
     "name": "stdout",
     "output_type": "stream",
     "text": [
      "Epoch 1/30\n",
      "82/86 [===========================>..] - ETA: 0s - loss: 1.0669 - acc: 0.5061"
     ]
    },
    {
     "name": "stderr",
     "output_type": "stream",
     "text": [
      "WARNING:absl:Found untraced functions such as _jit_compiled_convolution_op, _jit_compiled_convolution_op, _jit_compiled_convolution_op, dense_20_layer_call_fn, dense_20_layer_call_and_return_conditional_losses while saving (showing 5 of 9). These functions will not be directly callable after loading.\n"
     ]
    },
    {
     "name": "stdout",
     "output_type": "stream",
     "text": [
      "INFO:tensorflow:Assets written to: ./res/V_model_CNNLSTMAtt_clip.tf/assets\n"
     ]
    },
    {
     "name": "stderr",
     "output_type": "stream",
     "text": [
      "INFO:tensorflow:Assets written to: ./res/V_model_CNNLSTMAtt_clip.tf/assets\n"
     ]
    },
    {
     "name": "stdout",
     "output_type": "stream",
     "text": [
      "86/86 [==============================] - 4s 34ms/step - loss: 1.0632 - acc: 0.5073 - val_loss: 0.9842 - val_acc: 0.5439\n",
      "Epoch 2/30\n",
      "86/86 [==============================] - 1s 17ms/step - loss: 0.9838 - acc: 0.5461 - val_loss: 0.9999 - val_acc: 0.5461\n",
      "Epoch 3/30\n",
      "86/86 [==============================] - 1s 13ms/step - loss: 0.9669 - acc: 0.5490 - val_loss: 0.9955 - val_acc: 0.5570\n",
      "Epoch 4/30\n",
      "86/86 [==============================] - 1s 12ms/step - loss: 0.9248 - acc: 0.5870 - val_loss: 1.0004 - val_acc: 0.5241\n",
      "Epoch 5/30\n",
      "86/86 [==============================] - 1s 12ms/step - loss: 0.8859 - acc: 0.6148 - val_loss: 1.0277 - val_acc: 0.5373\n",
      "Epoch 6/30\n",
      "86/86 [==============================] - 1s 13ms/step - loss: 0.8749 - acc: 0.6250 - val_loss: 1.0532 - val_acc: 0.5680\n",
      "Epoch 7/30\n",
      "85/86 [============================>.] - ETA: 0s - loss: 0.9104 - acc: 0.6221"
     ]
    },
    {
     "name": "stderr",
     "output_type": "stream",
     "text": [
      "WARNING:absl:Found untraced functions such as _jit_compiled_convolution_op, _jit_compiled_convolution_op, _jit_compiled_convolution_op, dense_20_layer_call_fn, dense_20_layer_call_and_return_conditional_losses while saving (showing 5 of 9). These functions will not be directly callable after loading.\n"
     ]
    },
    {
     "name": "stdout",
     "output_type": "stream",
     "text": [
      "INFO:tensorflow:Assets written to: ./res/V_model_CNNLSTMAtt_clip.tf/assets\n"
     ]
    },
    {
     "name": "stderr",
     "output_type": "stream",
     "text": [
      "INFO:tensorflow:Assets written to: ./res/V_model_CNNLSTMAtt_clip.tf/assets\n"
     ]
    },
    {
     "name": "stdout",
     "output_type": "stream",
     "text": [
      "86/86 [==============================] - 2s 26ms/step - loss: 0.9113 - acc: 0.6221 - val_loss: 0.9741 - val_acc: 0.5504\n",
      "Epoch 8/30\n",
      "86/86 [==============================] - 1s 12ms/step - loss: 1.0167 - acc: 0.5000 - val_loss: 0.9939 - val_acc: 0.5570\n",
      "Epoch 9/30\n",
      "86/86 [==============================] - 1s 12ms/step - loss: 0.9650 - acc: 0.5680 - val_loss: 1.6236 - val_acc: 0.5439\n",
      "Epoch 10/30\n",
      "86/86 [==============================] - 1s 12ms/step - loss: 0.9108 - acc: 0.5980 - val_loss: 1.0181 - val_acc: 0.5504\n",
      "Epoch 11/30\n",
      "86/86 [==============================] - 1s 12ms/step - loss: 0.8157 - acc: 0.6696 - val_loss: 1.2824 - val_acc: 0.4978\n",
      "Epoch 12/30\n",
      "86/86 [==============================] - 1s 16ms/step - loss: 0.9338 - acc: 0.5702 - val_loss: 1.0673 - val_acc: 0.5439\n",
      "Epoch 13/30\n",
      "86/86 [==============================] - 2s 18ms/step - loss: 1.0534 - acc: 0.5424 - val_loss: 1.0393 - val_acc: 0.5439\n",
      "Epoch 14/30\n",
      "86/86 [==============================] - 1s 16ms/step - loss: 1.0299 - acc: 0.5424 - val_loss: 1.0204 - val_acc: 0.5439\n",
      "Epoch 15/30\n",
      "86/86 [==============================] - 1s 16ms/step - loss: 1.0143 - acc: 0.5424 - val_loss: 1.0076 - val_acc: 0.5439\n",
      "Epoch 16/30\n",
      "86/86 [==============================] - 2s 18ms/step - loss: 1.0035 - acc: 0.5424 - val_loss: 0.9992 - val_acc: 0.5439\n",
      "Epoch 17/30\n",
      "86/86 [==============================] - 2s 18ms/step - loss: 0.9963 - acc: 0.5424 - val_loss: 0.9925 - val_acc: 0.5439\n",
      "Epoch 18/30\n",
      "86/86 [==============================] - 1s 14ms/step - loss: 0.9912 - acc: 0.5424 - val_loss: 0.9884 - val_acc: 0.5439\n",
      "Epoch 19/30\n",
      "86/86 [==============================] - 1s 17ms/step - loss: 0.9878 - acc: 0.5424 - val_loss: 0.9858 - val_acc: 0.5439\n",
      "Epoch 20/30\n",
      "86/86 [==============================] - 1s 12ms/step - loss: 0.9856 - acc: 0.5424 - val_loss: 0.9837 - val_acc: 0.5439\n",
      "Epoch 21/30\n",
      "86/86 [==============================] - 1s 12ms/step - loss: 0.9839 - acc: 0.5424 - val_loss: 0.9824 - val_acc: 0.5439\n",
      "Epoch 22/30\n",
      "86/86 [==============================] - 1s 13ms/step - loss: 0.9827 - acc: 0.5424 - val_loss: 0.9814 - val_acc: 0.5439\n",
      "Epoch 23/30\n",
      "86/86 [==============================] - 1s 13ms/step - loss: 0.9820 - acc: 0.5424 - val_loss: 0.9807 - val_acc: 0.5439\n",
      "Epoch 24/30\n",
      "86/86 [==============================] - 1s 13ms/step - loss: 0.9814 - acc: 0.5424 - val_loss: 0.9804 - val_acc: 0.5439\n",
      "Epoch 25/30\n",
      "86/86 [==============================] - 1s 13ms/step - loss: 0.9810 - acc: 0.5424 - val_loss: 0.9799 - val_acc: 0.5439\n",
      "Epoch 26/30\n",
      "86/86 [==============================] - 1s 13ms/step - loss: 0.9808 - acc: 0.5424 - val_loss: 0.9797 - val_acc: 0.5439\n",
      "Epoch 27/30\n",
      "86/86 [==============================] - 1s 14ms/step - loss: 0.9806 - acc: 0.5424 - val_loss: 0.9796 - val_acc: 0.5439\n",
      "Epoch 28/30\n",
      "86/86 [==============================] - 1s 14ms/step - loss: 0.9804 - acc: 0.5424 - val_loss: 0.9794 - val_acc: 0.5439\n",
      "Epoch 29/30\n",
      "86/86 [==============================] - 1s 13ms/step - loss: 0.9803 - acc: 0.5424 - val_loss: 0.9793 - val_acc: 0.5439\n",
      "Epoch 30/30\n",
      "86/86 [==============================] - 1s 13ms/step - loss: 0.9803 - acc: 0.5424 - val_loss: 0.9793 - val_acc: 0.5439\n"
     ]
    },
    {
     "data": {
      "text/plain": [
       "<keras.callbacks.History at 0x7f5c88c70f10>"
      ]
     },
     "execution_count": 21,
     "metadata": {},
     "output_type": "execute_result"
    }
   ],
   "source": [
    "callback_list = [ModelCheckpoint(filepath='./res/V_model_CNNLSTMAtt_clip.tf', monitor='val_loss', save_best_only=True, save_freq='epoch')]\n",
    "\n",
    "model.fit(x=np.asarray(visual_clip['train']), y=np.asarray(label['train']), batch_size=16, epochs=30, \n",
    "            validation_data=[np.asarray(visual_clip['valid']), np.asarray(label['valid'])],\n",
    "            callbacks=callback_list)"
   ]
  },
  {
   "cell_type": "code",
   "execution_count": 22,
   "id": "aecd90dc-38fd-499f-ab35-2dca9eb678e4",
   "metadata": {},
   "outputs": [
    {
     "name": "stdout",
     "output_type": "stream",
     "text": [
      "WARNING:tensorflow:Layer lstm_7 will not use cuDNN kernels since it doesn't meet the criteria. It will use a generic GPU kernel as fallback when running on GPU.\n"
     ]
    },
    {
     "name": "stderr",
     "output_type": "stream",
     "text": [
      "WARNING:tensorflow:Layer lstm_7 will not use cuDNN kernels since it doesn't meet the criteria. It will use a generic GPU kernel as fallback when running on GPU.\n"
     ]
    },
    {
     "name": "stdout",
     "output_type": "stream",
     "text": [
      "15/15 [==============================] - 0s 3ms/step\n",
      "              precision    recall  f1-score   support\n",
      "\n",
      "         Neg     0.5427    1.0000    0.7035       248\n",
      "         Pos     0.0000    0.0000    0.0000       140\n",
      "         Neu     0.0000    0.0000    0.0000        69\n",
      "\n",
      "    accuracy                         0.5427       457\n",
      "   macro avg     0.1809    0.3333    0.2345       457\n",
      "weighted avg     0.2945    0.5427    0.3818       457\n",
      "\n",
      "[[248   0   0]\n",
      " [140   0   0]\n",
      " [ 69   0   0]]\n"
     ]
    },
    {
     "name": "stderr",
     "output_type": "stream",
     "text": [
      "/home/chason/anaconda3/envs/deepeye/lib/python3.10/site-packages/sklearn/metrics/_classification.py:1334: UndefinedMetricWarning: Precision and F-score are ill-defined and being set to 0.0 in labels with no predicted samples. Use `zero_division` parameter to control this behavior.\n",
      "  _warn_prf(average, modifier, msg_start, len(result))\n",
      "/home/chason/anaconda3/envs/deepeye/lib/python3.10/site-packages/sklearn/metrics/_classification.py:1334: UndefinedMetricWarning: Precision and F-score are ill-defined and being set to 0.0 in labels with no predicted samples. Use `zero_division` parameter to control this behavior.\n",
      "  _warn_prf(average, modifier, msg_start, len(result))\n",
      "/home/chason/anaconda3/envs/deepeye/lib/python3.10/site-packages/sklearn/metrics/_classification.py:1334: UndefinedMetricWarning: Precision and F-score are ill-defined and being set to 0.0 in labels with no predicted samples. Use `zero_division` parameter to control this behavior.\n",
      "  _warn_prf(average, modifier, msg_start, len(result))\n"
     ]
    }
   ],
   "source": [
    "model = tf.keras.models.load_model('./res/V_model_CNNLSTMAtt_clip.tf/')\n",
    "pred = model.predict(np.asarray(visual_clip['test']))\n",
    "predicted_test_labels = pred.argmax(axis=1)\n",
    "numeric_test_labels = np.array(label['test'])\n",
    "            \n",
    "eval_res = classification_report(numeric_test_labels, predicted_test_labels, \n",
    "                                    target_names = ['Neg', 'Pos', 'Neu'], \n",
    "                                    digits=4, output_dict=False)\n",
    "\n",
    "print(eval_res)\n",
    "\n",
    "cm = confusion_matrix(y_true=numeric_test_labels.tolist(), y_pred=predicted_test_labels.tolist())\n",
    "print(cm)"
   ]
  },
  {
   "cell_type": "code",
   "execution_count": null,
   "id": "109ab026-5bfd-443f-b8ab-f426c1c41f11",
   "metadata": {},
   "outputs": [],
   "source": []
  }
 ],
 "metadata": {
  "kernelspec": {
   "display_name": "Python 3.8.9 64-bit",
   "language": "python",
   "name": "python3"
  },
  "language_info": {
   "codemirror_mode": {
    "name": "ipython",
    "version": 3
   },
   "file_extension": ".py",
   "mimetype": "text/x-python",
   "name": "python",
   "nbconvert_exporter": "python",
   "pygments_lexer": "ipython3",
   "version": "3.8.9"
  },
  "vscode": {
   "interpreter": {
    "hash": "31f2aee4e71d21fbe5cf8b01ff0e069b9275f58929596ceb00d14d90e3e16cd6"
   }
  }
 },
 "nbformat": 4,
 "nbformat_minor": 5
}
