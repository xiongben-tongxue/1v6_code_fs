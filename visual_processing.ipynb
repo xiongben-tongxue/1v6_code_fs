{
 "cells": [
  {
   "cell_type": "code",
   "execution_count": 1,
   "id": "52fb0ad5-e2b7-4e66-b51f-9dfab4808c5b",
   "metadata": {},
   "outputs": [],
   "source": [
    "import mediapipe as mp\n",
    "import pickle as pkl\n",
    "import os\n",
    "import numpy as np\n",
    "from utilz import *\n",
    "import cv2\n",
    "import clip\n",
    "import torch\n",
    "from PIL import Image\n",
    "import pandas\n",
    "import collections"
   ]
  },
  {
   "cell_type": "code",
   "execution_count": 2,
   "id": "fc441e17-179f-4dce-98a8-2fa4b35cc102",
   "metadata": {},
   "outputs": [],
   "source": [
    "video_path = '../SIMS/Raw/'\n",
    "video_ids, clip_ids, texts, annotations, modes = load_data('../SIMS/label.csv')"
   ]
  },
  {
   "cell_type": "markdown",
   "id": "c23056cd-e95b-45fa-b7fb-84154708e595",
   "metadata": {},
   "source": [
    "# mediapipe"
   ]
  },
  {
   "cell_type": "code",
   "execution_count": null,
   "id": "1474cf14-39d7-4cd6-bf5a-0905e34a3d1d",
   "metadata": {},
   "outputs": [],
   "source": [
    "MODE = 'ori'\n",
    "max_len = 10"
   ]
  },
  {
   "cell_type": "code",
   "execution_count": null,
   "id": "c6cce8d5-f323-4696-8601-c62c9b6284f2",
   "metadata": {
    "scrolled": true,
    "tags": []
   },
   "outputs": [],
   "source": [
    "visual = {'train':[], 'valid':[], 'test':[]}\n",
    "for video_id, clip_id, mode in zip(video_ids, clip_ids, modes):\n",
    "    clip_id_ = '000' + str(clip_id)\n",
    "    file = video_path + str(video_id) + '/' + clip_id_[-4:] + '.mp4' \n",
    "    \n",
    "    if MODE == 'ori':\n",
    "        cap = cv2.VideoCapture(file)\n",
    "        images = []\n",
    "        while cap.isOpened():\n",
    "            success, image = cap.read()\n",
    "            if success:\n",
    "                image = cv2.cvtColor(image, cv2.COLOR_BGR2GRAY)\n",
    "                images.append(cv2.resize(image, (64,64)))\n",
    "            else:\n",
    "                break\n",
    "        if len(images)>max_len:\n",
    "            images = images[::int(len(images)/max_len)]\n",
    "        if len(images)<max_len:\n",
    "            images = np.concatenate([images, np.zeros((max_len-len(images), 64, 64))], axis=0)\n",
    "        visual[mode].append(images[:max_len])\n",
    "        \n",
    "    elif MODE == 'face':\n",
    "        mp_face_detection = mp.solutions.face_detection.FaceDetection(model_selection=0, min_detection_confidence=0.5) \n",
    "        # mp_drawing = mp.solutions.drawing_utils\n",
    "        cap = cv2.VideoCapture(file)\n",
    "        faces = []\n",
    "        while cap.isOpened():\n",
    "            success, image = cap.read()\n",
    "            if success:\n",
    "                img_h, img_w, img_c = image.shape\n",
    "                image.flags.writeable = False\n",
    "                image = cv2.cvtColor(image, cv2.COLOR_BGR2RGB)\n",
    "                results = mp_face_detection.process(image)\n",
    "                image = cv2.cvtColor(image, cv2.COLOR_RGB2GRAY)\n",
    "                if results.detections:\n",
    "                    for detection in results.detections:\n",
    "                        xmin = int(detection.location_data.relative_bounding_box.xmin * img_w)\n",
    "                        ymin = int(detection.location_data.relative_bounding_box.ymin * img_h)\n",
    "                        width = int(detection.location_data.relative_bounding_box.width * img_w)\n",
    "                        height = int(detection.location_data.relative_bounding_box.height * img_w)\n",
    "                        ymin = max(0, ymin)\n",
    "                        xmin = max(0,xmin)\n",
    "                        face = cv2.resize(image[ymin:ymin+width, xmin:xmin+width], (28,28))\n",
    "            else:\n",
    "                break         \n",
    "        if len(faces)>max_len:\n",
    "            faces = faces[::int(len(faces)/max_len)]\n",
    "        if len(faces)<max_len:\n",
    "            try:\n",
    "                faces = np.concatenate([faces, np.zeros((max_len-len(faces), 28, 28))], axis=0)\n",
    "            except:\n",
    "                faces = np.zeros((max_len, 28, 28))\n",
    "        visual[mode].append(faces[:max_len])\n",
    "        \n",
    "save_features(visual, './data/visual_mpori.pkl')"
   ]
  },
  {
   "cell_type": "markdown",
   "id": "44783d3b-0a07-4560-8860-d0a3fc4a70bb",
   "metadata": {},
   "source": [
    "# OpenFace"
   ]
  },
  {
   "cell_type": "code",
   "execution_count": null,
   "id": "b0e3dd72-52f8-4128-a0f6-4ed9bd2ef570",
   "metadata": {
    "scrolled": true,
    "tags": []
   },
   "outputs": [],
   "source": [
    "for video_id, clip_id, mode in zip(video_ids, clip_ids, modes):\n",
    "    clip_id_ = '000' + str(clip_id)\n",
    "    file = video_path + str(video_id) + '/' + clip_id_[-4:] + '.mp4' \n",
    "    os.system('../../../OpenFace/build/bin/FaceLandmarkVidMulti -f {} -out_dir ./data/OFprocessed/{}/{}/'.format(file, str(video_id), str(clip_id)))"
   ]
  },
  {
   "cell_type": "code",
   "execution_count": null,
   "id": "94e325a6-750e-4610-8e71-95ccf344d7bd",
   "metadata": {},
   "outputs": [],
   "source": [
    "FAU_list = OP_para()\n",
    "\n",
    "feature_path = './data/OFprocessed/'\n",
    "FAU_features = {'train':[], 'valid':[], 'test':[]}\n",
    "\n",
    "max_len = 30\n",
    "\n",
    "for video_id, clip_id, mode in zip(video_ids, clip_ids, modes):\n",
    "    clip_id_ = '000' + str(clip_id)\n",
    "    file =  feature_path + str(video_id) + '/' + str(clip_id) + '/' + clip_id_[-4:] + '.csv' \n",
    "    \n",
    "    try:\n",
    "        file_ct = pandas.read_csv(file)\n",
    "        dominant_face = list(collections.Counter(list(file_ct['face_id'])).keys())[0]\n",
    "\n",
    "        features = []\n",
    "        for i in range(len(file_ct['frame'])):\n",
    "            if file_ct['face_id'][i]==dominant_face and file_ct['success'][i]==1:\n",
    "                fau_ft = []\n",
    "                for fau in FAU_list:\n",
    "                    fau_ft.append(file_ct[fau][i])\n",
    "            features.append(fau_ft)\n",
    "            \n",
    "    except:\n",
    "        print(\"no faces\", file)\n",
    "        features.append(np.zeros((max_len, 49)))\n",
    "                        \n",
    "    if len(features)>max_len:\n",
    "        features = features[::int(len(features)/max_len)]\n",
    "    if len(features)<max_len:\n",
    "        features = np.concatenate([features, np.zeros((max_len-len(features), 49))], axis=0)\n",
    "        \n",
    "    FAU_features[mode].append(features[:max_len])\n",
    "    \n",
    "save_features(FAU_features, './data/visual_OFfts.pkl')"
   ]
  },
  {
   "cell_type": "markdown",
   "id": "0a8361a8-0e4b-42f5-834a-94369a4a244e",
   "metadata": {},
   "source": [
    "# CLIP"
   ]
  },
  {
   "cell_type": "code",
   "execution_count": 4,
   "id": "77f488d4-4781-44d6-beae-55bfe5587c84",
   "metadata": {},
   "outputs": [],
   "source": [
    "# https://github.com/openai/CLIP\n",
    "device = \"cuda\" if torch.cuda.is_available() else \"cpu\"\n",
    "model, preprocess = clip.load(\"ViT-B/32\", device=device)"
   ]
  },
  {
   "cell_type": "code",
   "execution_count": 7,
   "id": "109cc787-a659-4948-b392-b3d799ccb06b",
   "metadata": {},
   "outputs": [],
   "source": [
    "max_len = 10\n",
    "\n",
    "visual = {'train':[], 'valid':[], 'test':[]}\n",
    "\n",
    "with torch.no_grad():\n",
    "    for video_id, clip_id, mode in zip(video_ids, clip_ids, modes):\n",
    "        clip_id_ = '000' + str(clip_id)\n",
    "        file = video_path + str(video_id) + '/' + clip_id_[-4:] + '.mp4' \n",
    "\n",
    "        cap = cv2.VideoCapture(file)\n",
    "        image_features = []\n",
    "        while cap.isOpened():\n",
    "            success, image = cap.read()\n",
    "            if success:\n",
    "                image = cv2.cvtColor(image, cv2.COLOR_BGR2GRAY)\n",
    "                image_ = preprocess(Image.fromarray(np.uint8(image))).unsqueeze(0).to(device)\n",
    "                image_ft = model.encode_image(image_).cpu().detach().numpy()[0]\n",
    "                image_features.append(image_ft)\n",
    "            else:\n",
    "                break\n",
    "                \n",
    "        if len(image_features)>max_len:\n",
    "            image_features = image_features[::int(len(image_features)/max_len)]\n",
    "        if len(image_features)<max_len:\n",
    "            image_features = np.concatenate([image_features, np.zeros((max_len-len(image_features), 512))], axis=0)\n",
    "        \n",
    "        visual[mode].append(image_features[:max_len])\n",
    "    \n",
    "save_features(visual, './data/visual_clip.pkl')"
   ]
  },
  {
   "cell_type": "code",
   "execution_count": 8,
   "id": "376e77de-dc2a-4449-bac3-94631f236fde",
   "metadata": {},
   "outputs": [
    {
     "data": {
      "text/plain": [
       "(1368, 10, 512)"
      ]
     },
     "execution_count": 8,
     "metadata": {},
     "output_type": "execute_result"
    }
   ],
   "source": [
    "np.shape(visual['train'])"
   ]
  },
  {
   "cell_type": "code",
   "execution_count": null,
   "id": "b2e30421-543a-49ee-8fb4-d6562f061c52",
   "metadata": {},
   "outputs": [],
   "source": []
  }
 ],
 "metadata": {
  "kernelspec": {
   "display_name": "Python 3 (ipykernel)",
   "language": "python",
   "name": "python3"
  },
  "language_info": {
   "codemirror_mode": {
    "name": "ipython",
    "version": 3
   },
   "file_extension": ".py",
   "mimetype": "text/x-python",
   "name": "python",
   "nbconvert_exporter": "python",
   "pygments_lexer": "ipython3",
   "version": "3.10.4"
  }
 },
 "nbformat": 4,
 "nbformat_minor": 5
}
