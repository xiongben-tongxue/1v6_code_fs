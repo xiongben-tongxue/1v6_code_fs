{
 "cells": [
  {
   "cell_type": "code",
   "execution_count": null,
   "id": "40ce48d1-19ac-41f0-a088-7c4aa54ee1da",
   "metadata": {},
   "outputs": [],
   "source": [
    "import tensorflow as tf\n",
    "from tensorflow.keras import Model\n",
    "from tensorflow.keras.layers import Input, Bidirectional, Dense, Conv1D, LSTM, Flatten, Concatenate, Attention, GlobalAveragePooling1D\n",
    "from utilz import *\n",
    "from tensorflow.keras.callbacks import ModelCheckpoint\n",
    "import numpy as np\n",
    "from sklearn.metrics import classification_report, confusion_matrix"
   ]
  },
  {
   "cell_type": "markdown",
   "id": "f54009e0-1119-4189-b48c-95e642d65ea7",
   "metadata": {},
   "source": [
    "# load data"
   ]
  },
  {
   "cell_type": "code",
   "execution_count": 2,
   "id": "61f62cca-dc93-4b6d-ad80-982694504251",
   "metadata": {},
   "outputs": [],
   "source": [
    "w2v_embs = load_features('./data/textual_wav2vec.pkl')\n",
    "bert_embs = load_features('./data/textual_bert.pkl')\n",
    "label = load_features('./data/labels.pkl')"
   ]
  },
  {
   "cell_type": "markdown",
   "id": "92c703e8-a41f-423f-82d0-a44e1aeedf03",
   "metadata": {},
   "source": [
    "# Model 1"
   ]
  },
  {
   "cell_type": "code",
   "execution_count": 3,
   "id": "8699cafa-349b-4617-be94-a8e76285eefd",
   "metadata": {
    "scrolled": true,
    "tags": []
   },
   "outputs": [
    {
     "name": "stdout",
     "output_type": "stream",
     "text": [
      "Model: \"model\"\n",
      "_________________________________________________________________\n",
      " Layer (type)                Output Shape              Param #   \n",
      "=================================================================\n",
      " input_1 (InputLayer)        [(None, 36, 100)]         0         \n",
      "                                                                 \n",
      " lstm (LSTM)                 (None, 64)                42240     \n",
      "                                                                 \n",
      " dense (Dense)               (None, 3)                 195       \n",
      "                                                                 \n",
      "=================================================================\n",
      "Total params: 42,435\n",
      "Trainable params: 42,435\n",
      "Non-trainable params: 0\n",
      "_________________________________________________________________\n"
     ]
    },
    {
     "name": "stderr",
     "output_type": "stream",
     "text": [
      "2022-10-04 09:54:45.862630: I tensorflow/stream_executor/cuda/cuda_gpu_executor.cc:980] successful NUMA node read from SysFS had negative value (-1), but there must be at least one NUMA node, so returning NUMA node zero\n",
      "2022-10-04 09:54:45.928393: I tensorflow/stream_executor/cuda/cuda_gpu_executor.cc:980] successful NUMA node read from SysFS had negative value (-1), but there must be at least one NUMA node, so returning NUMA node zero\n",
      "2022-10-04 09:54:45.928504: I tensorflow/stream_executor/cuda/cuda_gpu_executor.cc:980] successful NUMA node read from SysFS had negative value (-1), but there must be at least one NUMA node, so returning NUMA node zero\n",
      "2022-10-04 09:54:45.928922: I tensorflow/core/platform/cpu_feature_guard.cc:193] This TensorFlow binary is optimized with oneAPI Deep Neural Network Library (oneDNN) to use the following CPU instructions in performance-critical operations:  AVX2 AVX_VNNI FMA\n",
      "To enable them in other operations, rebuild TensorFlow with the appropriate compiler flags.\n",
      "2022-10-04 09:54:45.930524: I tensorflow/stream_executor/cuda/cuda_gpu_executor.cc:980] successful NUMA node read from SysFS had negative value (-1), but there must be at least one NUMA node, so returning NUMA node zero\n",
      "2022-10-04 09:54:45.930646: I tensorflow/stream_executor/cuda/cuda_gpu_executor.cc:980] successful NUMA node read from SysFS had negative value (-1), but there must be at least one NUMA node, so returning NUMA node zero\n",
      "2022-10-04 09:54:45.930714: I tensorflow/stream_executor/cuda/cuda_gpu_executor.cc:980] successful NUMA node read from SysFS had negative value (-1), but there must be at least one NUMA node, so returning NUMA node zero\n",
      "2022-10-04 09:54:46.248770: I tensorflow/stream_executor/cuda/cuda_gpu_executor.cc:980] successful NUMA node read from SysFS had negative value (-1), but there must be at least one NUMA node, so returning NUMA node zero\n",
      "2022-10-04 09:54:46.248924: I tensorflow/stream_executor/cuda/cuda_gpu_executor.cc:980] successful NUMA node read from SysFS had negative value (-1), but there must be at least one NUMA node, so returning NUMA node zero\n",
      "2022-10-04 09:54:46.249002: I tensorflow/stream_executor/cuda/cuda_gpu_executor.cc:980] successful NUMA node read from SysFS had negative value (-1), but there must be at least one NUMA node, so returning NUMA node zero\n",
      "2022-10-04 09:54:46.249074: I tensorflow/core/common_runtime/gpu/gpu_device.cc:1616] Created device /job:localhost/replica:0/task:0/device:GPU:0 with 134 MB memory:  -> device: 0, name: NVIDIA GeForce RTX 3080 Ti Laptop GPU, pci bus id: 0000:01:00.0, compute capability: 8.6\n"
     ]
    }
   ],
   "source": [
    "x = Input((36,100))\n",
    "h = LSTM(64, return_sequences=False, return_state=False)(x)\n",
    "res = Dense(3, 'softmax')(h)\n",
    "\n",
    "model = Model(inputs=x, outputs=res)\n",
    "model.compile(optimizer='Adam', loss=tf.keras.losses.SparseCategoricalCrossentropy(), metrics='acc')\n",
    "model.summary()"
   ]
  },
  {
   "cell_type": "code",
   "execution_count": 7,
   "id": "dd9623ad-0584-4d2e-921f-2f169ed6e46e",
   "metadata": {
    "scrolled": true,
    "tags": []
   },
   "outputs": [
    {
     "name": "stdout",
     "output_type": "stream",
     "text": [
      "Epoch 1/15\n",
      "85/86 [============================>.] - ETA: 0s - loss: 0.9986 - acc: 0.5397"
     ]
    },
    {
     "name": "stderr",
     "output_type": "stream",
     "text": [
      "WARNING:absl:Found untraced functions such as lstm_cell_1_layer_call_fn, lstm_cell_1_layer_call_and_return_conditional_losses while saving (showing 2 of 2). These functions will not be directly callable after loading.\n"
     ]
    },
    {
     "name": "stdout",
     "output_type": "stream",
     "text": [
      "INFO:tensorflow:Assets written to: ./res/T_model_LSTM_wav2vec.tf/assets\n"
     ]
    },
    {
     "name": "stderr",
     "output_type": "stream",
     "text": [
      "INFO:tensorflow:Assets written to: ./res/T_model_LSTM_wav2vec.tf/assets\n"
     ]
    },
    {
     "name": "stdout",
     "output_type": "stream",
     "text": [
      "86/86 [==============================] - 4s 34ms/step - loss: 0.9986 - acc: 0.5395 - val_loss: 0.9868 - val_acc: 0.5439\n",
      "Epoch 2/15\n",
      "86/86 [==============================] - 1s 10ms/step - loss: 0.9838 - acc: 0.5424 - val_loss: 0.9781 - val_acc: 0.5439\n",
      "Epoch 3/15\n",
      "86/86 [==============================] - ETA: 0s - loss: 0.9792 - acc: 0.5439"
     ]
    },
    {
     "name": "stderr",
     "output_type": "stream",
     "text": [
      "WARNING:absl:Found untraced functions such as lstm_cell_1_layer_call_fn, lstm_cell_1_layer_call_and_return_conditional_losses while saving (showing 2 of 2). These functions will not be directly callable after loading.\n"
     ]
    },
    {
     "name": "stdout",
     "output_type": "stream",
     "text": [
      "INFO:tensorflow:Assets written to: ./res/T_model_LSTM_wav2vec.tf/assets\n"
     ]
    },
    {
     "name": "stderr",
     "output_type": "stream",
     "text": [
      "INFO:tensorflow:Assets written to: ./res/T_model_LSTM_wav2vec.tf/assets\n"
     ]
    },
    {
     "name": "stdout",
     "output_type": "stream",
     "text": [
      "86/86 [==============================] - 3s 29ms/step - loss: 0.9792 - acc: 0.5439 - val_loss: 0.9719 - val_acc: 0.5461\n",
      "Epoch 4/15\n",
      "84/86 [============================>.] - ETA: 0s - loss: 0.9730 - acc: 0.5417"
     ]
    },
    {
     "name": "stderr",
     "output_type": "stream",
     "text": [
      "WARNING:absl:Found untraced functions such as lstm_cell_1_layer_call_fn, lstm_cell_1_layer_call_and_return_conditional_losses while saving (showing 2 of 2). These functions will not be directly callable after loading.\n"
     ]
    },
    {
     "name": "stdout",
     "output_type": "stream",
     "text": [
      "INFO:tensorflow:Assets written to: ./res/T_model_LSTM_wav2vec.tf/assets\n"
     ]
    },
    {
     "name": "stderr",
     "output_type": "stream",
     "text": [
      "INFO:tensorflow:Assets written to: ./res/T_model_LSTM_wav2vec.tf/assets\n"
     ]
    },
    {
     "name": "stdout",
     "output_type": "stream",
     "text": [
      "86/86 [==============================] - 3s 32ms/step - loss: 0.9738 - acc: 0.5417 - val_loss: 0.9739 - val_acc: 0.5504\n",
      "Epoch 5/15\n",
      "81/86 [===========================>..] - ETA: 0s - loss: 0.9718 - acc: 0.5448"
     ]
    },
    {
     "name": "stderr",
     "output_type": "stream",
     "text": [
      "WARNING:absl:Found untraced functions such as lstm_cell_1_layer_call_fn, lstm_cell_1_layer_call_and_return_conditional_losses while saving (showing 2 of 2). These functions will not be directly callable after loading.\n"
     ]
    },
    {
     "name": "stdout",
     "output_type": "stream",
     "text": [
      "INFO:tensorflow:Assets written to: ./res/T_model_LSTM_wav2vec.tf/assets\n"
     ]
    },
    {
     "name": "stderr",
     "output_type": "stream",
     "text": [
      "INFO:tensorflow:Assets written to: ./res/T_model_LSTM_wav2vec.tf/assets\n"
     ]
    },
    {
     "name": "stdout",
     "output_type": "stream",
     "text": [
      "86/86 [==============================] - 2s 29ms/step - loss: 0.9682 - acc: 0.5475 - val_loss: 0.9753 - val_acc: 0.5526\n",
      "Epoch 6/15\n",
      "86/86 [==============================] - 1s 10ms/step - loss: 0.9609 - acc: 0.5402 - val_loss: 0.9766 - val_acc: 0.5504\n",
      "Epoch 7/15\n",
      "82/86 [===========================>..] - ETA: 0s - loss: 0.9669 - acc: 0.5396"
     ]
    },
    {
     "name": "stderr",
     "output_type": "stream",
     "text": [
      "WARNING:absl:Found untraced functions such as lstm_cell_1_layer_call_fn, lstm_cell_1_layer_call_and_return_conditional_losses while saving (showing 2 of 2). These functions will not be directly callable after loading.\n"
     ]
    },
    {
     "name": "stdout",
     "output_type": "stream",
     "text": [
      "INFO:tensorflow:Assets written to: ./res/T_model_LSTM_wav2vec.tf/assets\n"
     ]
    },
    {
     "name": "stderr",
     "output_type": "stream",
     "text": [
      "INFO:tensorflow:Assets written to: ./res/T_model_LSTM_wav2vec.tf/assets\n"
     ]
    },
    {
     "name": "stdout",
     "output_type": "stream",
     "text": [
      "86/86 [==============================] - 3s 32ms/step - loss: 0.9654 - acc: 0.5402 - val_loss: 0.9718 - val_acc: 0.5570\n",
      "Epoch 8/15\n",
      "86/86 [==============================] - 1s 10ms/step - loss: 0.9595 - acc: 0.5453 - val_loss: 0.9739 - val_acc: 0.5395\n",
      "Epoch 9/15\n",
      "86/86 [==============================] - 1s 10ms/step - loss: 0.9558 - acc: 0.5490 - val_loss: 0.9723 - val_acc: 0.5351\n",
      "Epoch 10/15\n",
      "86/86 [==============================] - 1s 10ms/step - loss: 0.9575 - acc: 0.5519 - val_loss: 0.9750 - val_acc: 0.5329\n",
      "Epoch 11/15\n",
      "86/86 [==============================] - 1s 10ms/step - loss: 0.9607 - acc: 0.5431 - val_loss: 0.9711 - val_acc: 0.5504\n",
      "Epoch 12/15\n",
      "86/86 [==============================] - 1s 10ms/step - loss: 0.9513 - acc: 0.5468 - val_loss: 0.9741 - val_acc: 0.5263\n",
      "Epoch 13/15\n",
      "86/86 [==============================] - 1s 10ms/step - loss: 0.9603 - acc: 0.5541 - val_loss: 0.9725 - val_acc: 0.5504\n",
      "Epoch 14/15\n",
      "86/86 [==============================] - 1s 10ms/step - loss: 0.9571 - acc: 0.5497 - val_loss: 0.9678 - val_acc: 0.5329\n",
      "Epoch 15/15\n",
      "86/86 [==============================] - 1s 10ms/step - loss: 0.9532 - acc: 0.5548 - val_loss: 0.9695 - val_acc: 0.5526\n"
     ]
    },
    {
     "data": {
      "text/plain": [
       "<keras.callbacks.History at 0x7f2f446136d0>"
      ]
     },
     "execution_count": 7,
     "metadata": {},
     "output_type": "execute_result"
    }
   ],
   "source": [
    "callback_list = [ModelCheckpoint(filepath='./res/T_model_LSTM_wav2vec.tf', monitor='val_loss', save_best_only=True, save_freq='epoch')]\n",
    "\n",
    "model.fit(x=np.asarray(w2v_embs['train']), y=np.asarray(label['train']), batch_size=16, epochs=15, \n",
    "            validation_data=[np.asarray(w2v_embs['valid']), np.asarray(label['valid'])],\n",
    "            callbacks=callback_list)"
   ]
  },
  {
   "cell_type": "code",
   "execution_count": 73,
   "id": "e137f572-457f-48ae-8908-7ae5fd75ca4b",
   "metadata": {},
   "outputs": [
    {
     "name": "stdout",
     "output_type": "stream",
     "text": [
      "15/15 [==============================] - 0s 4ms/step\n",
      "              precision    recall  f1-score   support\n",
      "\n",
      "         Neg     0.5550    0.9758    0.7076       248\n",
      "         Pos     0.3333    0.0429    0.0759       140\n",
      "         Neu     0.3333    0.0145    0.0278        69\n",
      "\n",
      "    accuracy                         0.5449       457\n",
      "   macro avg     0.4072    0.3444    0.2704       457\n",
      "weighted avg     0.4536    0.5449    0.4115       457\n",
      "\n",
      "[[242   5   1]\n",
      " [133   6   1]\n",
      " [ 61   7   1]]\n"
     ]
    }
   ],
   "source": [
    "model = tf.keras.models.load_model('./res/T_model_LSTM_wav2vec.tf')\n",
    "pred = model.predict(np.asarray(w2v_embs['test']))\n",
    "predicted_test_labels = pred.argmax(axis=1)\n",
    "numeric_test_labels = np.array(label['test'])\n",
    "            \n",
    "eval_res = classification_report(numeric_test_labels, predicted_test_labels, \n",
    "                                    target_names = ['Neg', 'Pos', 'Neu'], \n",
    "                                    digits=4, output_dict=False)\n",
    "\n",
    "print(eval_res)\n",
    "\n",
    "cm = confusion_matrix(y_true=numeric_test_labels.tolist(), y_pred=predicted_test_labels.tolist())\n",
    "print(cm)"
   ]
  },
  {
   "cell_type": "code",
   "execution_count": 11,
   "id": "e6077eca-a12f-4dc1-95b0-4cede7c34b79",
   "metadata": {},
   "outputs": [
    {
     "name": "stdout",
     "output_type": "stream",
     "text": [
      "Model: \"model_3\"\n",
      "_________________________________________________________________\n",
      " Layer (type)                Output Shape              Param #   \n",
      "=================================================================\n",
      " input_4 (InputLayer)        [(None, 36, 768)]         0         \n",
      "                                                                 \n",
      " lstm_3 (LSTM)               (None, 64)                213248    \n",
      "                                                                 \n",
      " dense_3 (Dense)             (None, 3)                 195       \n",
      "                                                                 \n",
      "=================================================================\n",
      "Total params: 213,443\n",
      "Trainable params: 213,443\n",
      "Non-trainable params: 0\n",
      "_________________________________________________________________\n"
     ]
    }
   ],
   "source": [
    "x = Input((36,768))\n",
    "h = LSTM(64, return_sequences=False, return_state=False)(x)\n",
    "res = Dense(3, 'softmax')(h)\n",
    "\n",
    "model = Model(inputs=x, outputs=res)\n",
    "model.compile(optimizer='Adam', loss=tf.keras.losses.SparseCategoricalCrossentropy(), metrics='acc')\n",
    "model.summary()"
   ]
  },
  {
   "cell_type": "code",
   "execution_count": 12,
   "id": "4e3c7817-0cb4-4178-84f2-f40370ce6e2d",
   "metadata": {
    "scrolled": true,
    "tags": []
   },
   "outputs": [
    {
     "name": "stdout",
     "output_type": "stream",
     "text": [
      "Epoch 1/15\n"
     ]
    },
    {
     "name": "stderr",
     "output_type": "stream",
     "text": [
      "2022-09-24 16:38:49.964075: W tensorflow/core/framework/cpu_allocator_impl.cc:82] Allocation of 151289856 exceeds 10% of free system memory.\n"
     ]
    },
    {
     "name": "stdout",
     "output_type": "stream",
     "text": [
      "86/86 [==============================] - ETA: 0s - loss: 0.9963 - acc: 0.5373"
     ]
    },
    {
     "name": "stderr",
     "output_type": "stream",
     "text": [
      "2022-09-24 16:38:51.881161: W tensorflow/core/framework/cpu_allocator_impl.cc:82] Allocation of 50429952 exceeds 10% of free system memory.\n",
      "WARNING:absl:Found untraced functions such as lstm_cell_3_layer_call_fn, lstm_cell_3_layer_call_and_return_conditional_losses while saving (showing 2 of 2). These functions will not be directly callable after loading.\n"
     ]
    },
    {
     "name": "stdout",
     "output_type": "stream",
     "text": [
      "INFO:tensorflow:Assets written to: ./res/T_model_LSTM_bert.tf/assets\n"
     ]
    },
    {
     "name": "stderr",
     "output_type": "stream",
     "text": [
      "INFO:tensorflow:Assets written to: ./res/T_model_LSTM_bert.tf/assets\n"
     ]
    },
    {
     "name": "stdout",
     "output_type": "stream",
     "text": [
      "86/86 [==============================] - 4s 35ms/step - loss: 0.9963 - acc: 0.5373 - val_loss: 0.9586 - val_acc: 0.5329\n",
      "Epoch 2/15\n",
      "86/86 [==============================] - ETA: 0s - loss: 0.8845 - acc: 0.6023"
     ]
    },
    {
     "name": "stderr",
     "output_type": "stream",
     "text": [
      "WARNING:absl:Found untraced functions such as lstm_cell_3_layer_call_fn, lstm_cell_3_layer_call_and_return_conditional_losses while saving (showing 2 of 2). These functions will not be directly callable after loading.\n"
     ]
    },
    {
     "name": "stdout",
     "output_type": "stream",
     "text": [
      "INFO:tensorflow:Assets written to: ./res/T_model_LSTM_bert.tf/assets\n"
     ]
    },
    {
     "name": "stderr",
     "output_type": "stream",
     "text": [
      "INFO:tensorflow:Assets written to: ./res/T_model_LSTM_bert.tf/assets\n"
     ]
    },
    {
     "name": "stdout",
     "output_type": "stream",
     "text": [
      "86/86 [==============================] - 3s 35ms/step - loss: 0.8845 - acc: 0.6023 - val_loss: 0.9385 - val_acc: 0.5877\n",
      "Epoch 3/15\n",
      "86/86 [==============================] - 1s 13ms/step - loss: 0.7409 - acc: 0.6915 - val_loss: 0.9534 - val_acc: 0.5789\n",
      "Epoch 4/15\n",
      "86/86 [==============================] - 1s 13ms/step - loss: 0.5823 - acc: 0.7939 - val_loss: 1.0869 - val_acc: 0.5746\n",
      "Epoch 5/15\n",
      "86/86 [==============================] - 1s 13ms/step - loss: 0.4292 - acc: 0.8545 - val_loss: 1.3210 - val_acc: 0.5614\n",
      "Epoch 6/15\n",
      "86/86 [==============================] - 1s 13ms/step - loss: 0.3392 - acc: 0.8904 - val_loss: 1.1649 - val_acc: 0.5658\n",
      "Epoch 7/15\n",
      "86/86 [==============================] - 1s 13ms/step - loss: 0.2814 - acc: 0.9189 - val_loss: 1.4105 - val_acc: 0.5263\n",
      "Epoch 8/15\n",
      "86/86 [==============================] - 1s 13ms/step - loss: 0.2197 - acc: 0.9415 - val_loss: 1.7003 - val_acc: 0.5395\n",
      "Epoch 9/15\n",
      "86/86 [==============================] - 1s 13ms/step - loss: 0.1540 - acc: 0.9649 - val_loss: 1.8149 - val_acc: 0.5263\n",
      "Epoch 10/15\n",
      "86/86 [==============================] - 1s 13ms/step - loss: 0.1379 - acc: 0.9635 - val_loss: 1.9027 - val_acc: 0.5439\n",
      "Epoch 11/15\n",
      "86/86 [==============================] - 1s 13ms/step - loss: 0.1306 - acc: 0.9664 - val_loss: 2.0725 - val_acc: 0.5307\n",
      "Epoch 12/15\n",
      "86/86 [==============================] - 1s 13ms/step - loss: 0.1668 - acc: 0.9591 - val_loss: 1.7796 - val_acc: 0.5570\n",
      "Epoch 13/15\n",
      "86/86 [==============================] - 1s 13ms/step - loss: 0.1213 - acc: 0.9715 - val_loss: 1.8145 - val_acc: 0.5724\n",
      "Epoch 14/15\n",
      "86/86 [==============================] - 1s 13ms/step - loss: 0.0955 - acc: 0.9803 - val_loss: 1.9580 - val_acc: 0.5768\n",
      "Epoch 15/15\n",
      "86/86 [==============================] - 1s 13ms/step - loss: 0.1102 - acc: 0.9751 - val_loss: 2.1052 - val_acc: 0.5307\n"
     ]
    },
    {
     "data": {
      "text/plain": [
       "<keras.callbacks.History at 0x7f2f9c284ca0>"
      ]
     },
     "execution_count": 12,
     "metadata": {},
     "output_type": "execute_result"
    }
   ],
   "source": [
    "callback_list = [ModelCheckpoint(filepath='./res/T_model_LSTM_bert.tf', monitor='val_loss', save_best_only=True, save_freq='epoch')]\n",
    "\n",
    "model.fit(x=np.asarray(bert_embs['train']), y=np.asarray(label['train']), batch_size=16, epochs=15, \n",
    "            validation_data=[np.asarray(bert_embs['valid']), np.asarray(label['valid'])],\n",
    "            callbacks=callback_list)"
   ]
  },
  {
   "cell_type": "code",
   "execution_count": 72,
   "id": "72461d30-3da4-4f3a-8342-8ed9e3d2c617",
   "metadata": {},
   "outputs": [
    {
     "name": "stdout",
     "output_type": "stream",
     "text": [
      "15/15 [==============================] - 0s 6ms/step\n",
      "              precision    recall  f1-score   support\n",
      "\n",
      "         Neg     0.6347    0.8548    0.7285       248\n",
      "         Pos     0.5082    0.4429    0.4733       140\n",
      "         Neu     1.0000    0.0145    0.0286        69\n",
      "\n",
      "    accuracy                         0.6018       457\n",
      "   macro avg     0.7143    0.4374    0.4101       457\n",
      "weighted avg     0.6511    0.6018    0.5446       457\n",
      "\n",
      "[[212  36   0]\n",
      " [ 78  62   0]\n",
      " [ 44  24   1]]\n"
     ]
    }
   ],
   "source": [
    "model = tf.keras.models.load_model('./res/T_model_LSTM_bert.tf')\n",
    "pred = model.predict(np.asarray(bert_embs['test']))\n",
    "predicted_test_labels = pred.argmax(axis=1)\n",
    "numeric_test_labels = np.array(label['test'])\n",
    "            \n",
    "eval_res = classification_report(numeric_test_labels, predicted_test_labels, \n",
    "                                    target_names = ['Neg', 'Pos', 'Neu'], \n",
    "                                    digits=4, output_dict=False)\n",
    "\n",
    "print(eval_res)\n",
    "\n",
    "cm = confusion_matrix(y_true=numeric_test_labels.tolist(), y_pred=predicted_test_labels.tolist())\n",
    "print(cm)"
   ]
  },
  {
   "cell_type": "markdown",
   "id": "5a8e7a1d-2e7b-49bc-a12a-7f35a5e98411",
   "metadata": {},
   "source": [
    "# Model 2"
   ]
  },
  {
   "cell_type": "code",
   "execution_count": 15,
   "id": "18f4ed32-e2b3-462f-8e8a-9b7a9ffd8a1f",
   "metadata": {},
   "outputs": [
    {
     "name": "stdout",
     "output_type": "stream",
     "text": [
      "Model: \"model_4\"\n",
      "_________________________________________________________________\n",
      " Layer (type)                Output Shape              Param #   \n",
      "=================================================================\n",
      " input_5 (InputLayer)        [(None, 36, 100)]         0         \n",
      "                                                                 \n",
      " bidirectional (Bidirectiona  (None, 128)              84480     \n",
      " l)                                                              \n",
      "                                                                 \n",
      " dense_4 (Dense)             (None, 3)                 387       \n",
      "                                                                 \n",
      "=================================================================\n",
      "Total params: 84,867\n",
      "Trainable params: 84,867\n",
      "Non-trainable params: 0\n",
      "_________________________________________________________________\n"
     ]
    }
   ],
   "source": [
    "x = Input((36,100))\n",
    "h = Bidirectional(LSTM(64, return_sequences=False, return_state=False))(x)\n",
    "res = Dense(3, 'softmax')(h)\n",
    "\n",
    "model = Model(inputs=x, outputs=res)\n",
    "model.compile(optimizer='Adam', loss=tf.keras.losses.SparseCategoricalCrossentropy(), metrics='acc')\n",
    "model.summary()"
   ]
  },
  {
   "cell_type": "code",
   "execution_count": 16,
   "id": "c00ae869-8b4b-4581-bb82-02a53665b4d6",
   "metadata": {
    "scrolled": true,
    "tags": []
   },
   "outputs": [
    {
     "name": "stdout",
     "output_type": "stream",
     "text": [
      "Epoch 1/15\n",
      "83/86 [===========================>..] - ETA: 0s - loss: 0.9877 - acc: 0.5377"
     ]
    },
    {
     "name": "stderr",
     "output_type": "stream",
     "text": [
      "WARNING:absl:Found untraced functions such as lstm_cell_5_layer_call_fn, lstm_cell_5_layer_call_and_return_conditional_losses, lstm_cell_6_layer_call_fn, lstm_cell_6_layer_call_and_return_conditional_losses while saving (showing 4 of 4). These functions will not be directly callable after loading.\n"
     ]
    },
    {
     "name": "stdout",
     "output_type": "stream",
     "text": [
      "INFO:tensorflow:Assets written to: ./res/T_model_BLSTM_wav2vec.tf/assets\n"
     ]
    },
    {
     "name": "stderr",
     "output_type": "stream",
     "text": [
      "INFO:tensorflow:Assets written to: ./res/T_model_BLSTM_wav2vec.tf/assets\n"
     ]
    },
    {
     "name": "stdout",
     "output_type": "stream",
     "text": [
      "86/86 [==============================] - 8s 77ms/step - loss: 0.9901 - acc: 0.5373 - val_loss: 0.9854 - val_acc: 0.5439\n",
      "Epoch 2/15\n",
      "86/86 [==============================] - 1s 11ms/step - loss: 0.9702 - acc: 0.5417 - val_loss: 0.9729 - val_acc: 0.5439\n",
      "Epoch 3/15\n",
      "86/86 [==============================] - 1s 11ms/step - loss: 0.9650 - acc: 0.5439 - val_loss: 0.9768 - val_acc: 0.5417\n",
      "Epoch 4/15\n",
      "86/86 [==============================] - 1s 11ms/step - loss: 0.9585 - acc: 0.5439 - val_loss: 0.9734 - val_acc: 0.5395\n",
      "Epoch 5/15\n",
      "85/86 [============================>.] - ETA: 0s - loss: 0.9554 - acc: 0.5515"
     ]
    },
    {
     "name": "stderr",
     "output_type": "stream",
     "text": [
      "WARNING:absl:Found untraced functions such as lstm_cell_5_layer_call_fn, lstm_cell_5_layer_call_and_return_conditional_losses, lstm_cell_6_layer_call_fn, lstm_cell_6_layer_call_and_return_conditional_losses while saving (showing 4 of 4). These functions will not be directly callable after loading.\n"
     ]
    },
    {
     "name": "stdout",
     "output_type": "stream",
     "text": [
      "INFO:tensorflow:Assets written to: ./res/T_model_BLSTM_wav2vec.tf/assets\n"
     ]
    },
    {
     "name": "stderr",
     "output_type": "stream",
     "text": [
      "INFO:tensorflow:Assets written to: ./res/T_model_BLSTM_wav2vec.tf/assets\n"
     ]
    },
    {
     "name": "stdout",
     "output_type": "stream",
     "text": [
      "86/86 [==============================] - 6s 74ms/step - loss: 0.9558 - acc: 0.5512 - val_loss: 0.9738 - val_acc: 0.5526\n",
      "Epoch 6/15\n",
      "86/86 [==============================] - 1s 11ms/step - loss: 0.9543 - acc: 0.5417 - val_loss: 0.9796 - val_acc: 0.5461\n",
      "Epoch 7/15\n",
      "86/86 [==============================] - 1s 11ms/step - loss: 0.9577 - acc: 0.5556 - val_loss: 0.9818 - val_acc: 0.5439\n",
      "Epoch 8/15\n",
      "86/86 [==============================] - 1s 11ms/step - loss: 0.9488 - acc: 0.5497 - val_loss: 0.9711 - val_acc: 0.5482\n",
      "Epoch 9/15\n",
      "86/86 [==============================] - 1s 11ms/step - loss: 0.9428 - acc: 0.5534 - val_loss: 0.9655 - val_acc: 0.5373\n",
      "Epoch 10/15\n",
      "86/86 [==============================] - 1s 11ms/step - loss: 0.9473 - acc: 0.5534 - val_loss: 0.9673 - val_acc: 0.5417\n",
      "Epoch 11/15\n",
      "86/86 [==============================] - 1s 11ms/step - loss: 0.9447 - acc: 0.5556 - val_loss: 0.9676 - val_acc: 0.5461\n",
      "Epoch 12/15\n",
      "86/86 [==============================] - 1s 11ms/step - loss: 0.9392 - acc: 0.5607 - val_loss: 0.9680 - val_acc: 0.5461\n",
      "Epoch 13/15\n",
      "86/86 [==============================] - 1s 11ms/step - loss: 0.9360 - acc: 0.5599 - val_loss: 0.9735 - val_acc: 0.5504\n",
      "Epoch 14/15\n",
      "86/86 [==============================] - 1s 11ms/step - loss: 0.9304 - acc: 0.5629 - val_loss: 0.9716 - val_acc: 0.5461\n",
      "Epoch 15/15\n",
      "86/86 [==============================] - 1s 11ms/step - loss: 0.9393 - acc: 0.5577 - val_loss: 0.9754 - val_acc: 0.5307\n"
     ]
    },
    {
     "data": {
      "text/plain": [
       "<keras.callbacks.History at 0x7f2f3c4cb730>"
      ]
     },
     "execution_count": 16,
     "metadata": {},
     "output_type": "execute_result"
    }
   ],
   "source": [
    "callback_list = [ModelCheckpoint(filepath='./res/T_model_BLSTM_wav2vec.tf', monitor='val_loss', save_best_only=True, save_freq='epoch')]\n",
    "\n",
    "model.fit(x=np.asarray(w2v_embs['train']), y=np.asarray(label['train']), batch_size=16, epochs=15, \n",
    "            validation_data=[np.asarray(w2v_embs['valid']), np.asarray(label['valid'])],\n",
    "            callbacks=callback_list)"
   ]
  },
  {
   "cell_type": "code",
   "execution_count": 71,
   "id": "e0d9c00a-62fa-49e2-b022-68eb3ec6f06a",
   "metadata": {},
   "outputs": [
    {
     "name": "stdout",
     "output_type": "stream",
     "text": [
      "15/15 [==============================] - 0s 5ms/step\n",
      "              precision    recall  f1-score   support\n",
      "\n",
      "         Neg     0.5510    0.9798    0.7054       248\n",
      "         Pos     0.4375    0.0500    0.0897       140\n",
      "         Neu     0.0000    0.0000    0.0000        69\n",
      "\n",
      "    accuracy                         0.5470       457\n",
      "   macro avg     0.3295    0.3433    0.2650       457\n",
      "weighted avg     0.4330    0.5470    0.4103       457\n",
      "\n",
      "[[243   5   0]\n",
      " [133   7   0]\n",
      " [ 65   4   0]]\n"
     ]
    },
    {
     "name": "stderr",
     "output_type": "stream",
     "text": [
      "/home/chason/anaconda3/envs/deepeye/lib/python3.10/site-packages/sklearn/metrics/_classification.py:1327: UndefinedMetricWarning: Precision and F-score are ill-defined and being set to 0.0 in labels with no predicted samples. Use `zero_division` parameter to control this behavior.\n",
      "  _warn_prf(average, modifier, msg_start, len(result))\n",
      "/home/chason/anaconda3/envs/deepeye/lib/python3.10/site-packages/sklearn/metrics/_classification.py:1327: UndefinedMetricWarning: Precision and F-score are ill-defined and being set to 0.0 in labels with no predicted samples. Use `zero_division` parameter to control this behavior.\n",
      "  _warn_prf(average, modifier, msg_start, len(result))\n",
      "/home/chason/anaconda3/envs/deepeye/lib/python3.10/site-packages/sklearn/metrics/_classification.py:1327: UndefinedMetricWarning: Precision and F-score are ill-defined and being set to 0.0 in labels with no predicted samples. Use `zero_division` parameter to control this behavior.\n",
      "  _warn_prf(average, modifier, msg_start, len(result))\n"
     ]
    }
   ],
   "source": [
    "model = tf.keras.models.load_model('./res/T_model_BLSTM_wav2vec.tf')\n",
    "pred = model.predict(np.asarray(w2v_embs['test']))\n",
    "predicted_test_labels = pred.argmax(axis=1)\n",
    "numeric_test_labels = np.array(label['test'])\n",
    "            \n",
    "eval_res = classification_report(numeric_test_labels, predicted_test_labels, \n",
    "                                    target_names = ['Neg', 'Pos', 'Neu'], \n",
    "                                    digits=4, output_dict=False)\n",
    "\n",
    "print(eval_res)\n",
    "\n",
    "cm = confusion_matrix(y_true=numeric_test_labels.tolist(), y_pred=predicted_test_labels.tolist())\n",
    "print(cm)"
   ]
  },
  {
   "cell_type": "code",
   "execution_count": 18,
   "id": "1d48b60d-f26c-4976-8824-b5668758decc",
   "metadata": {},
   "outputs": [
    {
     "name": "stdout",
     "output_type": "stream",
     "text": [
      "Model: \"model_5\"\n",
      "_________________________________________________________________\n",
      " Layer (type)                Output Shape              Param #   \n",
      "=================================================================\n",
      " input_6 (InputLayer)        [(None, 36, 768)]         0         \n",
      "                                                                 \n",
      " bidirectional_1 (Bidirectio  (None, 128)              426496    \n",
      " nal)                                                            \n",
      "                                                                 \n",
      " dense_5 (Dense)             (None, 3)                 387       \n",
      "                                                                 \n",
      "=================================================================\n",
      "Total params: 426,883\n",
      "Trainable params: 426,883\n",
      "Non-trainable params: 0\n",
      "_________________________________________________________________\n"
     ]
    }
   ],
   "source": [
    "x = Input((36,768))\n",
    "h = Bidirectional(LSTM(64, return_sequences=False, return_state=False))(x)\n",
    "res = Dense(3, 'softmax')(h)\n",
    "\n",
    "model = Model(inputs=x, outputs=res)\n",
    "model.compile(optimizer='Adam', loss=tf.keras.losses.SparseCategoricalCrossentropy(), metrics='acc')\n",
    "model.summary()"
   ]
  },
  {
   "cell_type": "code",
   "execution_count": 19,
   "id": "7e00e9e9-618d-4744-951a-6e6ca17d7a17",
   "metadata": {
    "scrolled": true,
    "tags": []
   },
   "outputs": [
    {
     "name": "stdout",
     "output_type": "stream",
     "text": [
      "Epoch 1/15\n"
     ]
    },
    {
     "name": "stderr",
     "output_type": "stream",
     "text": [
      "2022-09-24 16:43:02.547892: W tensorflow/core/framework/cpu_allocator_impl.cc:82] Allocation of 151289856 exceeds 10% of free system memory.\n"
     ]
    },
    {
     "name": "stdout",
     "output_type": "stream",
     "text": [
      "85/86 [============================>.] - ETA: 0s - loss: 0.9724 - acc: 0.5331"
     ]
    },
    {
     "name": "stderr",
     "output_type": "stream",
     "text": [
      "WARNING:absl:Found untraced functions such as lstm_cell_8_layer_call_fn, lstm_cell_8_layer_call_and_return_conditional_losses, lstm_cell_9_layer_call_fn, lstm_cell_9_layer_call_and_return_conditional_losses while saving (showing 4 of 4). These functions will not be directly callable after loading.\n"
     ]
    },
    {
     "name": "stdout",
     "output_type": "stream",
     "text": [
      "INFO:tensorflow:Assets written to: ./res/T_model_BLSTM_bert.tf/assets\n"
     ]
    },
    {
     "name": "stderr",
     "output_type": "stream",
     "text": [
      "INFO:tensorflow:Assets written to: ./res/T_model_BLSTM_bert.tf/assets\n"
     ]
    },
    {
     "name": "stdout",
     "output_type": "stream",
     "text": [
      "86/86 [==============================] - 9s 85ms/step - loss: 0.9722 - acc: 0.5336 - val_loss: 0.9352 - val_acc: 0.6031\n",
      "Epoch 2/15\n",
      "86/86 [==============================] - 1s 15ms/step - loss: 0.7744 - acc: 0.6871 - val_loss: 0.9537 - val_acc: 0.5855\n",
      "Epoch 3/15\n",
      "86/86 [==============================] - 1s 15ms/step - loss: 0.5481 - acc: 0.7924 - val_loss: 0.9633 - val_acc: 0.5811\n",
      "Epoch 4/15\n",
      "86/86 [==============================] - 1s 15ms/step - loss: 0.3064 - acc: 0.8999 - val_loss: 1.2066 - val_acc: 0.5658\n",
      "Epoch 5/15\n",
      "86/86 [==============================] - 1s 15ms/step - loss: 0.1259 - acc: 0.9664 - val_loss: 1.5463 - val_acc: 0.5373\n",
      "Epoch 6/15\n",
      "86/86 [==============================] - 1s 15ms/step - loss: 0.0581 - acc: 0.9890 - val_loss: 1.7986 - val_acc: 0.5592\n",
      "Epoch 7/15\n",
      "86/86 [==============================] - 1s 15ms/step - loss: 0.0167 - acc: 0.9963 - val_loss: 2.0143 - val_acc: 0.5877\n",
      "Epoch 8/15\n",
      "86/86 [==============================] - 1s 15ms/step - loss: 0.0055 - acc: 0.9993 - val_loss: 2.2087 - val_acc: 0.5702\n",
      "Epoch 9/15\n",
      "86/86 [==============================] - 1s 15ms/step - loss: 0.0026 - acc: 1.0000 - val_loss: 2.3207 - val_acc: 0.5614\n",
      "Epoch 10/15\n",
      "86/86 [==============================] - 1s 15ms/step - loss: 0.0017 - acc: 1.0000 - val_loss: 2.4095 - val_acc: 0.5680\n",
      "Epoch 11/15\n",
      "86/86 [==============================] - 1s 15ms/step - loss: 0.0012 - acc: 1.0000 - val_loss: 2.4838 - val_acc: 0.5702\n",
      "Epoch 12/15\n",
      "86/86 [==============================] - 1s 15ms/step - loss: 8.9978e-04 - acc: 1.0000 - val_loss: 2.5572 - val_acc: 0.5592\n",
      "Epoch 13/15\n",
      "86/86 [==============================] - 1s 15ms/step - loss: 6.8928e-04 - acc: 1.0000 - val_loss: 2.6149 - val_acc: 0.5658\n",
      "Epoch 14/15\n",
      "86/86 [==============================] - 1s 15ms/step - loss: 5.5391e-04 - acc: 1.0000 - val_loss: 2.6728 - val_acc: 0.5614\n",
      "Epoch 15/15\n",
      "86/86 [==============================] - 1s 15ms/step - loss: 4.5056e-04 - acc: 1.0000 - val_loss: 2.7194 - val_acc: 0.5636\n"
     ]
    },
    {
     "data": {
      "text/plain": [
       "<keras.callbacks.History at 0x7f2ed053a6e0>"
      ]
     },
     "execution_count": 19,
     "metadata": {},
     "output_type": "execute_result"
    }
   ],
   "source": [
    "callback_list = [ModelCheckpoint(filepath='./res/T_model_BLSTM_bert.tf', monitor='val_loss', save_best_only=True, save_freq='epoch')]\n",
    "\n",
    "model.fit(x=np.asarray(bert_embs['train']), y=np.asarray(label['train']), batch_size=16, epochs=15, \n",
    "            validation_data=[np.asarray(bert_embs['valid']), np.asarray(label['valid'])],\n",
    "            callbacks=callback_list)"
   ]
  },
  {
   "cell_type": "code",
   "execution_count": 70,
   "id": "523dadfa-0f51-4ede-9faa-d4ad9a6f33ca",
   "metadata": {},
   "outputs": [
    {
     "name": "stdout",
     "output_type": "stream",
     "text": [
      "15/15 [==============================] - 0s 7ms/step\n",
      "              precision    recall  f1-score   support\n",
      "\n",
      "         Neg     0.6224    0.8306    0.7116       248\n",
      "         Pos     0.4918    0.4286    0.4580       140\n",
      "         Neu     0.2500    0.0145    0.0274        69\n",
      "\n",
      "    accuracy                         0.5842       457\n",
      "   macro avg     0.4547    0.4246    0.3990       457\n",
      "weighted avg     0.5261    0.5842    0.5306       457\n",
      "\n",
      "[[206  40   2]\n",
      " [ 79  60   1]\n",
      " [ 46  22   1]]\n"
     ]
    }
   ],
   "source": [
    "model = tf.keras.models.load_model('./res/T_model_BLSTM_bert.tf')\n",
    "pred = model.predict(np.asarray(bert_embs['test']))\n",
    "predicted_test_labels = pred.argmax(axis=1)\n",
    "numeric_test_labels = np.array(label['test'])\n",
    "            \n",
    "eval_res = classification_report(numeric_test_labels, predicted_test_labels, \n",
    "                                    target_names = ['Neg', 'Pos', 'Neu'], \n",
    "                                    digits=4, output_dict=False)\n",
    "\n",
    "print(eval_res)\n",
    "\n",
    "cm = confusion_matrix(y_true=numeric_test_labels.tolist(), y_pred=predicted_test_labels.tolist())\n",
    "print(cm)"
   ]
  },
  {
   "cell_type": "markdown",
   "id": "7b4718b2-728c-42c4-94ba-09235033685c",
   "metadata": {},
   "source": [
    "# Model 3"
   ]
  },
  {
   "cell_type": "code",
   "execution_count": 36,
   "id": "98be6e8b-82d7-424a-958b-718059c2eedd",
   "metadata": {},
   "outputs": [
    {
     "name": "stdout",
     "output_type": "stream",
     "text": [
      "Model: \"model_10\"\n",
      "__________________________________________________________________________________________________\n",
      " Layer (type)                   Output Shape         Param #     Connected to                     \n",
      "==================================================================================================\n",
      " input_11 (InputLayer)          [(None, 36, 100)]    0           []                               \n",
      "                                                                                                  \n",
      " attention (Attention)          (None, 36, 100)      0           ['input_11[0][0]',               \n",
      "                                                                  'input_11[0][0]']               \n",
      "                                                                                                  \n",
      " bidirectional_6 (Bidirectional  (None, 128)         84480       ['attention[0][0]']              \n",
      " )                                                                                                \n",
      "                                                                                                  \n",
      " dense_22 (Dense)               (None, 3)            387         ['bidirectional_6[0][0]']        \n",
      "                                                                                                  \n",
      "==================================================================================================\n",
      "Total params: 84,867\n",
      "Trainable params: 84,867\n",
      "Non-trainable params: 0\n",
      "__________________________________________________________________________________________________\n"
     ]
    }
   ],
   "source": [
    "x = Input((36,100))\n",
    "h = Attention()([x, x])\n",
    "h = Bidirectional(LSTM(64, return_sequences=False, return_state=False))(h)\n",
    "\n",
    "res = Dense(3, 'softmax')(h)\n",
    "\n",
    "model = Model(inputs=x, outputs=res)\n",
    "model.compile(optimizer='Adam', loss=tf.keras.losses.SparseCategoricalCrossentropy(), metrics='acc')\n",
    "model.summary()"
   ]
  },
  {
   "cell_type": "code",
   "execution_count": 37,
   "id": "4c47ab89-2ecc-4d77-a808-f669d6bad608",
   "metadata": {
    "scrolled": true,
    "tags": []
   },
   "outputs": [
    {
     "name": "stdout",
     "output_type": "stream",
     "text": [
      "Epoch 1/15\n",
      "82/86 [===========================>..] - ETA: 0s - loss: 0.9928 - acc: 0.5320"
     ]
    },
    {
     "name": "stderr",
     "output_type": "stream",
     "text": [
      "WARNING:absl:Found untraced functions such as lstm_cell_23_layer_call_fn, lstm_cell_23_layer_call_and_return_conditional_losses, lstm_cell_24_layer_call_fn, lstm_cell_24_layer_call_and_return_conditional_losses while saving (showing 4 of 4). These functions will not be directly callable after loading.\n"
     ]
    },
    {
     "name": "stdout",
     "output_type": "stream",
     "text": [
      "INFO:tensorflow:Assets written to: ./res/T_model_AttBLSTM_wav2vec.tf/assets\n"
     ]
    },
    {
     "name": "stderr",
     "output_type": "stream",
     "text": [
      "INFO:tensorflow:Assets written to: ./res/T_model_AttBLSTM_wav2vec.tf/assets\n"
     ]
    },
    {
     "name": "stdout",
     "output_type": "stream",
     "text": [
      "86/86 [==============================] - 8s 74ms/step - loss: 0.9911 - acc: 0.5329 - val_loss: 0.9851 - val_acc: 0.5439\n",
      "Epoch 2/15\n",
      "83/86 [===========================>..] - ETA: 0s - loss: 0.9733 - acc: 0.5392"
     ]
    },
    {
     "name": "stderr",
     "output_type": "stream",
     "text": [
      "WARNING:absl:Found untraced functions such as lstm_cell_23_layer_call_fn, lstm_cell_23_layer_call_and_return_conditional_losses, lstm_cell_24_layer_call_fn, lstm_cell_24_layer_call_and_return_conditional_losses while saving (showing 4 of 4). These functions will not be directly callable after loading.\n"
     ]
    },
    {
     "name": "stdout",
     "output_type": "stream",
     "text": [
      "INFO:tensorflow:Assets written to: ./res/T_model_AttBLSTM_wav2vec.tf/assets\n"
     ]
    },
    {
     "name": "stderr",
     "output_type": "stream",
     "text": [
      "INFO:tensorflow:Assets written to: ./res/T_model_AttBLSTM_wav2vec.tf/assets\n"
     ]
    },
    {
     "name": "stdout",
     "output_type": "stream",
     "text": [
      "86/86 [==============================] - 7s 81ms/step - loss: 0.9702 - acc: 0.5395 - val_loss: 0.9743 - val_acc: 0.5504\n",
      "Epoch 3/15\n",
      "86/86 [==============================] - 1s 12ms/step - loss: 0.9601 - acc: 0.5490 - val_loss: 0.9743 - val_acc: 0.5461\n",
      "Epoch 4/15\n",
      "86/86 [==============================] - ETA: 0s - loss: 0.9584 - acc: 0.5497"
     ]
    },
    {
     "name": "stderr",
     "output_type": "stream",
     "text": [
      "WARNING:absl:Found untraced functions such as lstm_cell_23_layer_call_fn, lstm_cell_23_layer_call_and_return_conditional_losses, lstm_cell_24_layer_call_fn, lstm_cell_24_layer_call_and_return_conditional_losses while saving (showing 4 of 4). These functions will not be directly callable after loading.\n"
     ]
    },
    {
     "name": "stdout",
     "output_type": "stream",
     "text": [
      "INFO:tensorflow:Assets written to: ./res/T_model_AttBLSTM_wav2vec.tf/assets\n"
     ]
    },
    {
     "name": "stderr",
     "output_type": "stream",
     "text": [
      "INFO:tensorflow:Assets written to: ./res/T_model_AttBLSTM_wav2vec.tf/assets\n"
     ]
    },
    {
     "name": "stdout",
     "output_type": "stream",
     "text": [
      "86/86 [==============================] - 7s 77ms/step - loss: 0.9584 - acc: 0.5497 - val_loss: 0.9711 - val_acc: 0.5526\n",
      "Epoch 5/15\n",
      "86/86 [==============================] - 1s 12ms/step - loss: 0.9577 - acc: 0.5585 - val_loss: 0.9736 - val_acc: 0.5263\n",
      "Epoch 6/15\n",
      "86/86 [==============================] - 1s 12ms/step - loss: 0.9518 - acc: 0.5534 - val_loss: 0.9765 - val_acc: 0.5329\n",
      "Epoch 7/15\n",
      "86/86 [==============================] - 1s 12ms/step - loss: 0.9514 - acc: 0.5482 - val_loss: 0.9672 - val_acc: 0.5461\n",
      "Epoch 8/15\n",
      "86/86 [==============================] - 1s 12ms/step - loss: 0.9474 - acc: 0.5526 - val_loss: 0.9746 - val_acc: 0.5526\n",
      "Epoch 9/15\n",
      "86/86 [==============================] - 1s 12ms/step - loss: 0.9522 - acc: 0.5461 - val_loss: 0.9689 - val_acc: 0.5329\n",
      "Epoch 10/15\n",
      "86/86 [==============================] - 1s 12ms/step - loss: 0.9462 - acc: 0.5512 - val_loss: 0.9833 - val_acc: 0.5219\n",
      "Epoch 11/15\n",
      "86/86 [==============================] - 1s 12ms/step - loss: 0.9505 - acc: 0.5570 - val_loss: 0.9666 - val_acc: 0.5482\n",
      "Epoch 12/15\n",
      "86/86 [==============================] - 1s 12ms/step - loss: 0.9445 - acc: 0.5387 - val_loss: 0.9740 - val_acc: 0.5373\n",
      "Epoch 13/15\n",
      "86/86 [==============================] - 1s 12ms/step - loss: 0.9452 - acc: 0.5658 - val_loss: 0.9636 - val_acc: 0.5417\n",
      "Epoch 14/15\n",
      "86/86 [==============================] - 1s 12ms/step - loss: 0.9434 - acc: 0.5556 - val_loss: 0.9658 - val_acc: 0.5241\n",
      "Epoch 15/15\n",
      "86/86 [==============================] - 1s 12ms/step - loss: 0.9437 - acc: 0.5519 - val_loss: 0.9645 - val_acc: 0.5417\n"
     ]
    },
    {
     "data": {
      "text/plain": [
       "<keras.callbacks.History at 0x7f2ee33f3010>"
      ]
     },
     "execution_count": 37,
     "metadata": {},
     "output_type": "execute_result"
    }
   ],
   "source": [
    "callback_list = [ModelCheckpoint(filepath='./res/T_model_AttBLSTM_wav2vec.tf', monitor='val_loss', save_best_only=True, save_freq='epoch')]\n",
    "\n",
    "model.fit(x=np.asarray(w2v_embs['train']), y=np.asarray(label['train']), batch_size=16, epochs=15, \n",
    "            validation_data=[np.asarray(w2v_embs['valid']), np.asarray(label['valid'])],\n",
    "            callbacks=callback_list)"
   ]
  },
  {
   "cell_type": "code",
   "execution_count": 69,
   "id": "ca4489a7-8919-45f7-bc7a-9a864478114b",
   "metadata": {},
   "outputs": [
    {
     "name": "stdout",
     "output_type": "stream",
     "text": [
      "15/15 [==============================] - 0s 6ms/step\n",
      "              precision    recall  f1-score   support\n",
      "\n",
      "         Neg     0.5528    0.9919    0.7100       248\n",
      "         Pos     0.5833    0.0500    0.0921       140\n",
      "         Neu     0.0000    0.0000    0.0000        69\n",
      "\n",
      "    accuracy                         0.5536       457\n",
      "   macro avg     0.3787    0.3473    0.2674       457\n",
      "weighted avg     0.4787    0.5536    0.4135       457\n",
      "\n",
      "[[246   2   0]\n",
      " [133   7   0]\n",
      " [ 66   3   0]]\n"
     ]
    },
    {
     "name": "stderr",
     "output_type": "stream",
     "text": [
      "/home/chason/anaconda3/envs/deepeye/lib/python3.10/site-packages/sklearn/metrics/_classification.py:1327: UndefinedMetricWarning: Precision and F-score are ill-defined and being set to 0.0 in labels with no predicted samples. Use `zero_division` parameter to control this behavior.\n",
      "  _warn_prf(average, modifier, msg_start, len(result))\n",
      "/home/chason/anaconda3/envs/deepeye/lib/python3.10/site-packages/sklearn/metrics/_classification.py:1327: UndefinedMetricWarning: Precision and F-score are ill-defined and being set to 0.0 in labels with no predicted samples. Use `zero_division` parameter to control this behavior.\n",
      "  _warn_prf(average, modifier, msg_start, len(result))\n",
      "/home/chason/anaconda3/envs/deepeye/lib/python3.10/site-packages/sklearn/metrics/_classification.py:1327: UndefinedMetricWarning: Precision and F-score are ill-defined and being set to 0.0 in labels with no predicted samples. Use `zero_division` parameter to control this behavior.\n",
      "  _warn_prf(average, modifier, msg_start, len(result))\n"
     ]
    }
   ],
   "source": [
    "model = tf.keras.models.load_model('./res/T_model_AttBLSTM_wav2vec.tf')\n",
    "pred = model.predict(np.asarray(w2v_embs['test']))\n",
    "predicted_test_labels = pred.argmax(axis=1)\n",
    "numeric_test_labels = np.array(label['test'])\n",
    "            \n",
    "eval_res = classification_report(numeric_test_labels, predicted_test_labels, \n",
    "                                    target_names = ['Neg', 'Pos', 'Neu'], \n",
    "                                    digits=4, output_dict=False)\n",
    "\n",
    "print(eval_res)\n",
    "\n",
    "cm = confusion_matrix(y_true=numeric_test_labels.tolist(), y_pred=predicted_test_labels.tolist())\n",
    "print(cm)"
   ]
  },
  {
   "cell_type": "code",
   "execution_count": 39,
   "id": "b5de0594-0825-4f07-ad95-83ce0e973815",
   "metadata": {},
   "outputs": [
    {
     "name": "stdout",
     "output_type": "stream",
     "text": [
      "Model: \"model_11\"\n",
      "__________________________________________________________________________________________________\n",
      " Layer (type)                   Output Shape         Param #     Connected to                     \n",
      "==================================================================================================\n",
      " input_12 (InputLayer)          [(None, 36, 768)]    0           []                               \n",
      "                                                                                                  \n",
      " attention_1 (Attention)        (None, 36, 768)      0           ['input_12[0][0]',               \n",
      "                                                                  'input_12[0][0]']               \n",
      "                                                                                                  \n",
      " bidirectional_7 (Bidirectional  (None, 128)         426496      ['attention_1[0][0]']            \n",
      " )                                                                                                \n",
      "                                                                                                  \n",
      " dense_23 (Dense)               (None, 3)            387         ['bidirectional_7[0][0]']        \n",
      "                                                                                                  \n",
      "==================================================================================================\n",
      "Total params: 426,883\n",
      "Trainable params: 426,883\n",
      "Non-trainable params: 0\n",
      "__________________________________________________________________________________________________\n"
     ]
    }
   ],
   "source": [
    "x = Input((36,768))\n",
    "h = Attention()([x, x])\n",
    "h = Bidirectional(LSTM(64, return_sequences=False, return_state=False))(h)\n",
    "\n",
    "res = Dense(3, 'softmax')(h)\n",
    "\n",
    "model = Model(inputs=x, outputs=res)\n",
    "model.compile(optimizer='Adam', loss=tf.keras.losses.SparseCategoricalCrossentropy(), metrics='acc')\n",
    "model.summary()"
   ]
  },
  {
   "cell_type": "code",
   "execution_count": 40,
   "id": "188c8612-8b9f-44cf-80ce-f7c75bde6f67",
   "metadata": {
    "scrolled": true,
    "tags": []
   },
   "outputs": [
    {
     "name": "stdout",
     "output_type": "stream",
     "text": [
      "Epoch 1/15\n",
      "85/86 [============================>.] - ETA: 0s - loss: 0.9614 - acc: 0.5632"
     ]
    },
    {
     "name": "stderr",
     "output_type": "stream",
     "text": [
      "WARNING:absl:Found untraced functions such as lstm_cell_26_layer_call_fn, lstm_cell_26_layer_call_and_return_conditional_losses, lstm_cell_27_layer_call_fn, lstm_cell_27_layer_call_and_return_conditional_losses while saving (showing 4 of 4). These functions will not be directly callable after loading.\n"
     ]
    },
    {
     "name": "stdout",
     "output_type": "stream",
     "text": [
      "INFO:tensorflow:Assets written to: ./res/T_model_AttBLSTM_bert.tf/assets\n"
     ]
    },
    {
     "name": "stderr",
     "output_type": "stream",
     "text": [
      "INFO:tensorflow:Assets written to: ./res/T_model_AttBLSTM_bert.tf/assets\n"
     ]
    },
    {
     "name": "stdout",
     "output_type": "stream",
     "text": [
      "86/86 [==============================] - 9s 88ms/step - loss: 0.9628 - acc: 0.5621 - val_loss: 0.9139 - val_acc: 0.5987\n",
      "Epoch 2/15\n",
      "85/86 [============================>.] - ETA: 0s - loss: 0.7875 - acc: 0.6647"
     ]
    },
    {
     "name": "stderr",
     "output_type": "stream",
     "text": [
      "WARNING:absl:Found untraced functions such as lstm_cell_26_layer_call_fn, lstm_cell_26_layer_call_and_return_conditional_losses, lstm_cell_27_layer_call_fn, lstm_cell_27_layer_call_and_return_conditional_losses while saving (showing 4 of 4). These functions will not be directly callable after loading.\n"
     ]
    },
    {
     "name": "stdout",
     "output_type": "stream",
     "text": [
      "INFO:tensorflow:Assets written to: ./res/T_model_AttBLSTM_bert.tf/assets\n"
     ]
    },
    {
     "name": "stderr",
     "output_type": "stream",
     "text": [
      "INFO:tensorflow:Assets written to: ./res/T_model_AttBLSTM_bert.tf/assets\n"
     ]
    },
    {
     "name": "stdout",
     "output_type": "stream",
     "text": [
      "86/86 [==============================] - 6s 74ms/step - loss: 0.7944 - acc: 0.6623 - val_loss: 0.9218 - val_acc: 0.6118\n",
      "Epoch 3/15\n",
      "86/86 [==============================] - 1s 17ms/step - loss: 0.6395 - acc: 0.7522 - val_loss: 0.9119 - val_acc: 0.5789\n",
      "Epoch 4/15\n",
      "86/86 [==============================] - 1s 17ms/step - loss: 0.3986 - acc: 0.8560 - val_loss: 1.1785 - val_acc: 0.5570\n",
      "Epoch 5/15\n",
      "86/86 [==============================] - 1s 17ms/step - loss: 0.1922 - acc: 0.9423 - val_loss: 1.3655 - val_acc: 0.5219\n",
      "Epoch 6/15\n",
      "86/86 [==============================] - 1s 17ms/step - loss: 0.0755 - acc: 0.9832 - val_loss: 1.8252 - val_acc: 0.5461\n",
      "Epoch 7/15\n",
      "86/86 [==============================] - 1s 17ms/step - loss: 0.0449 - acc: 0.9890 - val_loss: 1.9767 - val_acc: 0.5482\n",
      "Epoch 8/15\n",
      "86/86 [==============================] - 1s 17ms/step - loss: 0.0117 - acc: 1.0000 - val_loss: 2.1745 - val_acc: 0.5351\n",
      "Epoch 9/15\n",
      "86/86 [==============================] - 1s 17ms/step - loss: 0.0030 - acc: 1.0000 - val_loss: 2.3097 - val_acc: 0.5285\n",
      "Epoch 10/15\n",
      "86/86 [==============================] - 1s 17ms/step - loss: 0.0017 - acc: 1.0000 - val_loss: 2.3940 - val_acc: 0.5307\n",
      "Epoch 11/15\n",
      "86/86 [==============================] - 1s 17ms/step - loss: 0.0012 - acc: 1.0000 - val_loss: 2.4677 - val_acc: 0.5329\n",
      "Epoch 12/15\n",
      "86/86 [==============================] - 1s 17ms/step - loss: 9.4133e-04 - acc: 1.0000 - val_loss: 2.5342 - val_acc: 0.5351\n",
      "Epoch 13/15\n",
      "86/86 [==============================] - 1s 17ms/step - loss: 7.5563e-04 - acc: 1.0000 - val_loss: 2.5936 - val_acc: 0.5351\n",
      "Epoch 14/15\n",
      "86/86 [==============================] - 1s 17ms/step - loss: 6.1942e-04 - acc: 1.0000 - val_loss: 2.6447 - val_acc: 0.5329\n",
      "Epoch 15/15\n",
      "86/86 [==============================] - 1s 17ms/step - loss: 5.2267e-04 - acc: 1.0000 - val_loss: 2.6897 - val_acc: 0.5307\n"
     ]
    },
    {
     "data": {
      "text/plain": [
       "<keras.callbacks.History at 0x7f2e35612620>"
      ]
     },
     "execution_count": 40,
     "metadata": {},
     "output_type": "execute_result"
    }
   ],
   "source": [
    "callback_list = [ModelCheckpoint(filepath='./res/T_model_AttBLSTM_bert.tf', monitor='val_loss', save_best_only=True, save_freq='epoch')]\n",
    "\n",
    "model.fit(x=np.asarray(bert_embs['train']), y=np.asarray(label['train']), batch_size=16, epochs=15, \n",
    "            validation_data=[np.asarray(bert_embs['valid']), np.asarray(label['valid'])],\n",
    "            callbacks=callback_list)"
   ]
  },
  {
   "cell_type": "code",
   "execution_count": 68,
   "id": "0ba6d282-195a-4672-97d2-6f9f8cffe5ae",
   "metadata": {},
   "outputs": [
    {
     "name": "stdout",
     "output_type": "stream",
     "text": [
      "15/15 [==============================] - 0s 10ms/step\n",
      "              precision    recall  f1-score   support\n",
      "\n",
      "         Neg     0.6353    0.8710    0.7347       248\n",
      "         Pos     0.5726    0.4786    0.5214       140\n",
      "         Neu     0.0000    0.0000    0.0000        69\n",
      "\n",
      "    accuracy                         0.6193       457\n",
      "   macro avg     0.4026    0.4498    0.4187       457\n",
      "weighted avg     0.5202    0.6193    0.5584       457\n",
      "\n",
      "[[216  32   0]\n",
      " [ 73  67   0]\n",
      " [ 51  18   0]]\n"
     ]
    },
    {
     "name": "stderr",
     "output_type": "stream",
     "text": [
      "/home/chason/anaconda3/envs/deepeye/lib/python3.10/site-packages/sklearn/metrics/_classification.py:1327: UndefinedMetricWarning: Precision and F-score are ill-defined and being set to 0.0 in labels with no predicted samples. Use `zero_division` parameter to control this behavior.\n",
      "  _warn_prf(average, modifier, msg_start, len(result))\n",
      "/home/chason/anaconda3/envs/deepeye/lib/python3.10/site-packages/sklearn/metrics/_classification.py:1327: UndefinedMetricWarning: Precision and F-score are ill-defined and being set to 0.0 in labels with no predicted samples. Use `zero_division` parameter to control this behavior.\n",
      "  _warn_prf(average, modifier, msg_start, len(result))\n",
      "/home/chason/anaconda3/envs/deepeye/lib/python3.10/site-packages/sklearn/metrics/_classification.py:1327: UndefinedMetricWarning: Precision and F-score are ill-defined and being set to 0.0 in labels with no predicted samples. Use `zero_division` parameter to control this behavior.\n",
      "  _warn_prf(average, modifier, msg_start, len(result))\n"
     ]
    }
   ],
   "source": [
    "model = tf.keras.models.load_model('./res/T_model_AttBLSTM_bert.tf')\n",
    "pred = model.predict(np.asarray(bert_embs['test']))\n",
    "predicted_test_labels = pred.argmax(axis=1)\n",
    "numeric_test_labels = np.array(label['test'])\n",
    "            \n",
    "eval_res = classification_report(numeric_test_labels, predicted_test_labels, \n",
    "                                    target_names = ['Neg', 'Pos', 'Neu'], \n",
    "                                    digits=4, output_dict=False)\n",
    "\n",
    "print(eval_res)\n",
    "\n",
    "cm = confusion_matrix(y_true=numeric_test_labels.tolist(), y_pred=predicted_test_labels.tolist())\n",
    "print(cm)"
   ]
  },
  {
   "cell_type": "markdown",
   "id": "85f118f1-8aa2-45ed-935a-917075166732",
   "metadata": {},
   "source": [
    "# Model 4"
   ]
  },
  {
   "cell_type": "code",
   "execution_count": 51,
   "id": "f462956a-0156-4570-ab2a-bdaf979d44fb",
   "metadata": {},
   "outputs": [
    {
     "name": "stdout",
     "output_type": "stream",
     "text": [
      "Model: \"model_16\"\n",
      "__________________________________________________________________________________________________\n",
      " Layer (type)                   Output Shape         Param #     Connected to                     \n",
      "==================================================================================================\n",
      " input_17 (InputLayer)          [(None, 36, 100)]    0           []                               \n",
      "                                                                                                  \n",
      " conv1d_6 (Conv1D)              (None, 34, 64)       19264       ['input_17[0][0]']               \n",
      "                                                                                                  \n",
      " conv1d_7 (Conv1D)              (None, 34, 64)       19264       ['input_17[0][0]']               \n",
      "                                                                                                  \n",
      " attention_6 (Attention)        (None, 34, 64)       0           ['conv1d_6[0][0]',               \n",
      "                                                                  'conv1d_7[0][0]']               \n",
      "                                                                                                  \n",
      " global_average_pooling1d_6 (Gl  (None, 64)          0           ['conv1d_6[0][0]']               \n",
      " obalAveragePooling1D)                                                                            \n",
      "                                                                                                  \n",
      " global_average_pooling1d_7 (Gl  (None, 64)          0           ['attention_6[0][0]']            \n",
      " obalAveragePooling1D)                                                                            \n",
      "                                                                                                  \n",
      " concatenate_3 (Concatenate)    (None, 128)          0           ['global_average_pooling1d_6[0][0\n",
      "                                                                 ]',                              \n",
      "                                                                  'global_average_pooling1d_7[0][0\n",
      "                                                                 ]']                              \n",
      "                                                                                                  \n",
      " dense_27 (Dense)               (None, 3)            387         ['concatenate_3[0][0]']          \n",
      "                                                                                                  \n",
      "==================================================================================================\n",
      "Total params: 38,915\n",
      "Trainable params: 38,915\n",
      "Non-trainable params: 0\n",
      "__________________________________________________________________________________________________\n"
     ]
    }
   ],
   "source": [
    "x = Input((36,100))\n",
    "q = Conv1D(64, 3, 1)(x)\n",
    "v = Conv1D(64, 3, 1)(x)\n",
    "qv_attention = Attention()([q, v])\n",
    "\n",
    "q = GlobalAveragePooling1D()(q)\n",
    "qv_attention = GlobalAveragePooling1D()(qv_attention)\n",
    "h = Concatenate()([q, qv_attention])\n",
    "# h = Bidirectional(LSTM(64, return_sequences=False, return_state=False))(h)\n",
    "res = Dense(3, 'softmax')(h)\n",
    "\n",
    "model = Model(inputs=x, outputs=res)\n",
    "model.compile(optimizer='Adam', loss=tf.keras.losses.SparseCategoricalCrossentropy(), metrics='acc')\n",
    "model.summary()"
   ]
  },
  {
   "cell_type": "code",
   "execution_count": 52,
   "id": "e340c3ab-fc4b-4b6f-b7ea-05e24c05b3fb",
   "metadata": {
    "scrolled": true,
    "tags": []
   },
   "outputs": [
    {
     "name": "stdout",
     "output_type": "stream",
     "text": [
      "Epoch 1/15\n",
      "78/86 [==========================>...] - ETA: 0s - loss: 0.9959 - acc: 0.5296"
     ]
    },
    {
     "name": "stderr",
     "output_type": "stream",
     "text": [
      "WARNING:absl:Found untraced functions such as _jit_compiled_convolution_op, _jit_compiled_convolution_op while saving (showing 2 of 2). These functions will not be directly callable after loading.\n"
     ]
    },
    {
     "name": "stdout",
     "output_type": "stream",
     "text": [
      "INFO:tensorflow:Assets written to: ./res/T_model_AttCNN_wav2vec.tf/assets\n"
     ]
    },
    {
     "name": "stderr",
     "output_type": "stream",
     "text": [
      "INFO:tensorflow:Assets written to: ./res/T_model_AttCNN_wav2vec.tf/assets\n"
     ]
    },
    {
     "name": "stdout",
     "output_type": "stream",
     "text": [
      "86/86 [==============================] - 1s 9ms/step - loss: 0.9931 - acc: 0.5358 - val_loss: 0.9916 - val_acc: 0.5439\n",
      "Epoch 2/15\n",
      "86/86 [==============================] - 0s 3ms/step - loss: 0.9751 - acc: 0.5461 - val_loss: 0.9862 - val_acc: 0.5329\n",
      "Epoch 3/15\n",
      "82/86 [===========================>..] - ETA: 0s - loss: 0.9704 - acc: 0.5366"
     ]
    },
    {
     "name": "stderr",
     "output_type": "stream",
     "text": [
      "WARNING:absl:Found untraced functions such as _jit_compiled_convolution_op, _jit_compiled_convolution_op while saving (showing 2 of 2). These functions will not be directly callable after loading.\n"
     ]
    },
    {
     "name": "stdout",
     "output_type": "stream",
     "text": [
      "INFO:tensorflow:Assets written to: ./res/T_model_AttCNN_wav2vec.tf/assets\n"
     ]
    },
    {
     "name": "stderr",
     "output_type": "stream",
     "text": [
      "INFO:tensorflow:Assets written to: ./res/T_model_AttCNN_wav2vec.tf/assets\n"
     ]
    },
    {
     "name": "stdout",
     "output_type": "stream",
     "text": [
      "86/86 [==============================] - 1s 7ms/step - loss: 0.9721 - acc: 0.5395 - val_loss: 0.9729 - val_acc: 0.5504\n",
      "Epoch 4/15\n",
      "86/86 [==============================] - 0s 3ms/step - loss: 0.9590 - acc: 0.5475 - val_loss: 0.9758 - val_acc: 0.5461\n",
      "Epoch 5/15\n",
      "86/86 [==============================] - 0s 3ms/step - loss: 0.9588 - acc: 0.5534 - val_loss: 0.9761 - val_acc: 0.5461\n",
      "Epoch 6/15\n",
      "86/86 [==============================] - ETA: 0s - loss: 0.9562 - acc: 0.5468"
     ]
    },
    {
     "name": "stderr",
     "output_type": "stream",
     "text": [
      "WARNING:absl:Found untraced functions such as _jit_compiled_convolution_op, _jit_compiled_convolution_op while saving (showing 2 of 2). These functions will not be directly callable after loading.\n"
     ]
    },
    {
     "name": "stdout",
     "output_type": "stream",
     "text": [
      "INFO:tensorflow:Assets written to: ./res/T_model_AttCNN_wav2vec.tf/assets\n"
     ]
    },
    {
     "name": "stderr",
     "output_type": "stream",
     "text": [
      "INFO:tensorflow:Assets written to: ./res/T_model_AttCNN_wav2vec.tf/assets\n"
     ]
    },
    {
     "name": "stdout",
     "output_type": "stream",
     "text": [
      "86/86 [==============================] - 1s 7ms/step - loss: 0.9562 - acc: 0.5468 - val_loss: 0.9753 - val_acc: 0.5526\n",
      "Epoch 7/15\n",
      "86/86 [==============================] - 0s 3ms/step - loss: 0.9626 - acc: 0.5461 - val_loss: 0.9704 - val_acc: 0.5504\n",
      "Epoch 8/15\n",
      "86/86 [==============================] - 0s 3ms/step - loss: 0.9507 - acc: 0.5504 - val_loss: 0.9760 - val_acc: 0.5417\n",
      "Epoch 9/15\n",
      "86/86 [==============================] - 0s 3ms/step - loss: 0.9598 - acc: 0.5446 - val_loss: 0.9722 - val_acc: 0.5307\n",
      "Epoch 10/15\n",
      "80/86 [==========================>...] - ETA: 0s - loss: 0.9533 - acc: 0.5539"
     ]
    },
    {
     "name": "stderr",
     "output_type": "stream",
     "text": [
      "WARNING:absl:Found untraced functions such as _jit_compiled_convolution_op, _jit_compiled_convolution_op while saving (showing 2 of 2). These functions will not be directly callable after loading.\n"
     ]
    },
    {
     "name": "stdout",
     "output_type": "stream",
     "text": [
      "INFO:tensorflow:Assets written to: ./res/T_model_AttCNN_wav2vec.tf/assets\n"
     ]
    },
    {
     "name": "stderr",
     "output_type": "stream",
     "text": [
      "INFO:tensorflow:Assets written to: ./res/T_model_AttCNN_wav2vec.tf/assets\n"
     ]
    },
    {
     "name": "stdout",
     "output_type": "stream",
     "text": [
      "86/86 [==============================] - 1s 7ms/step - loss: 0.9527 - acc: 0.5519 - val_loss: 0.9769 - val_acc: 0.5548\n",
      "Epoch 11/15\n",
      "86/86 [==============================] - 0s 3ms/step - loss: 0.9518 - acc: 0.5475 - val_loss: 0.9955 - val_acc: 0.5439\n",
      "Epoch 12/15\n",
      "86/86 [==============================] - 0s 3ms/step - loss: 0.9568 - acc: 0.5461 - val_loss: 0.9724 - val_acc: 0.5373\n",
      "Epoch 13/15\n",
      "86/86 [==============================] - 0s 3ms/step - loss: 0.9541 - acc: 0.5461 - val_loss: 0.9749 - val_acc: 0.5504\n",
      "Epoch 14/15\n",
      "86/86 [==============================] - 0s 3ms/step - loss: 0.9519 - acc: 0.5519 - val_loss: 0.9777 - val_acc: 0.5373\n",
      "Epoch 15/15\n",
      "86/86 [==============================] - 0s 3ms/step - loss: 0.9485 - acc: 0.5541 - val_loss: 0.9730 - val_acc: 0.5241\n"
     ]
    },
    {
     "data": {
      "text/plain": [
       "<keras.callbacks.History at 0x7f2e4596d7e0>"
      ]
     },
     "execution_count": 52,
     "metadata": {},
     "output_type": "execute_result"
    }
   ],
   "source": [
    "callback_list = [ModelCheckpoint(filepath='./res/T_model_AttCNN_wav2vec.tf', monitor='val_loss', save_best_only=True, save_freq='epoch')]\n",
    "\n",
    "model.fit(x=np.asarray(w2v_embs['train']), y=np.asarray(label['train']), batch_size=16, epochs=15, \n",
    "            validation_data=[np.asarray(w2v_embs['valid']), np.asarray(label['valid'])],\n",
    "            callbacks=callback_list)"
   ]
  },
  {
   "cell_type": "code",
   "execution_count": 67,
   "id": "64883b7e-a325-4564-ac02-745cd310e04e",
   "metadata": {},
   "outputs": [
    {
     "name": "stdout",
     "output_type": "stream",
     "text": [
      "15/15 [==============================] - 0s 2ms/step\n",
      "              precision    recall  f1-score   support\n",
      "\n",
      "         Neg     0.5573    0.9798    0.7105       248\n",
      "         Pos     0.4762    0.0714    0.1242       140\n",
      "         Neu     0.0000    0.0000    0.0000        69\n",
      "\n",
      "    accuracy                         0.5536       457\n",
      "   macro avg     0.3445    0.3504    0.2782       457\n",
      "weighted avg     0.4483    0.5536    0.4236       457\n",
      "\n",
      "[[243   5   0]\n",
      " [130  10   0]\n",
      " [ 63   6   0]]\n"
     ]
    },
    {
     "name": "stderr",
     "output_type": "stream",
     "text": [
      "/home/chason/anaconda3/envs/deepeye/lib/python3.10/site-packages/sklearn/metrics/_classification.py:1327: UndefinedMetricWarning: Precision and F-score are ill-defined and being set to 0.0 in labels with no predicted samples. Use `zero_division` parameter to control this behavior.\n",
      "  _warn_prf(average, modifier, msg_start, len(result))\n",
      "/home/chason/anaconda3/envs/deepeye/lib/python3.10/site-packages/sklearn/metrics/_classification.py:1327: UndefinedMetricWarning: Precision and F-score are ill-defined and being set to 0.0 in labels with no predicted samples. Use `zero_division` parameter to control this behavior.\n",
      "  _warn_prf(average, modifier, msg_start, len(result))\n",
      "/home/chason/anaconda3/envs/deepeye/lib/python3.10/site-packages/sklearn/metrics/_classification.py:1327: UndefinedMetricWarning: Precision and F-score are ill-defined and being set to 0.0 in labels with no predicted samples. Use `zero_division` parameter to control this behavior.\n",
      "  _warn_prf(average, modifier, msg_start, len(result))\n"
     ]
    }
   ],
   "source": [
    "model = tf.keras.models.load_model('./res/T_model_AttCNN_wav2vec.tf')\n",
    "pred = model.predict(np.asarray(w2v_embs['test']))\n",
    "predicted_test_labels = pred.argmax(axis=1)\n",
    "numeric_test_labels = np.array(label['test'])\n",
    "            \n",
    "eval_res = classification_report(numeric_test_labels, predicted_test_labels, \n",
    "                                    target_names = ['Neg', 'Pos', 'Neu'], \n",
    "                                    digits=4, output_dict=False)\n",
    "\n",
    "print(eval_res)\n",
    "\n",
    "cm = confusion_matrix(y_true=numeric_test_labels.tolist(), y_pred=predicted_test_labels.tolist())\n",
    "print(cm)"
   ]
  },
  {
   "cell_type": "code",
   "execution_count": 59,
   "id": "16d5fd01-d36d-41d3-8cbf-da1dfacfe1b0",
   "metadata": {},
   "outputs": [
    {
     "name": "stdout",
     "output_type": "stream",
     "text": [
      "Model: \"model_18\"\n",
      "__________________________________________________________________________________________________\n",
      " Layer (type)                   Output Shape         Param #     Connected to                     \n",
      "==================================================================================================\n",
      " input_19 (InputLayer)          [(None, 36, 768)]    0           []                               \n",
      "                                                                                                  \n",
      " conv1d_10 (Conv1D)             (None, 34, 64)       147520      ['input_19[0][0]']               \n",
      "                                                                                                  \n",
      " conv1d_11 (Conv1D)             (None, 34, 64)       147520      ['input_19[0][0]']               \n",
      "                                                                                                  \n",
      " attention_8 (Attention)        (None, 34, 64)       0           ['conv1d_10[0][0]',              \n",
      "                                                                  'conv1d_11[0][0]']              \n",
      "                                                                                                  \n",
      " global_average_pooling1d_10 (G  (None, 64)          0           ['conv1d_10[0][0]']              \n",
      " lobalAveragePooling1D)                                                                           \n",
      "                                                                                                  \n",
      " global_average_pooling1d_11 (G  (None, 64)          0           ['attention_8[0][0]']            \n",
      " lobalAveragePooling1D)                                                                           \n",
      "                                                                                                  \n",
      " concatenate_5 (Concatenate)    (None, 128)          0           ['global_average_pooling1d_10[0][\n",
      "                                                                 0]',                             \n",
      "                                                                  'global_average_pooling1d_11[0][\n",
      "                                                                 0]']                             \n",
      "                                                                                                  \n",
      " dense_29 (Dense)               (None, 3)            387         ['concatenate_5[0][0]']          \n",
      "                                                                                                  \n",
      "==================================================================================================\n",
      "Total params: 295,427\n",
      "Trainable params: 295,427\n",
      "Non-trainable params: 0\n",
      "__________________________________________________________________________________________________\n"
     ]
    }
   ],
   "source": [
    "x = Input((36,768))\n",
    "q = Conv1D(64, 3, 1)(x)\n",
    "v = Conv1D(64, 3, 1)(x)\n",
    "qv_attention = Attention()([q, v])\n",
    "\n",
    "q = GlobalAveragePooling1D()(q)\n",
    "qv_attention = GlobalAveragePooling1D()(qv_attention)\n",
    "h = Concatenate()([q, qv_attention])\n",
    "# h = Bidirectional(LSTM(64, return_sequences=False, return_state=False))(h)\n",
    "res = Dense(3, 'softmax')(h)\n",
    "\n",
    "model = Model(inputs=x, outputs=res)\n",
    "model.compile(optimizer='Adam', loss=tf.keras.losses.SparseCategoricalCrossentropy(), metrics='acc')\n",
    "model.summary()"
   ]
  },
  {
   "cell_type": "code",
   "execution_count": 60,
   "id": "cb799163-f36f-49af-b814-a8cf5b2e2e0e",
   "metadata": {
    "scrolled": true,
    "tags": []
   },
   "outputs": [
    {
     "name": "stdout",
     "output_type": "stream",
     "text": [
      "Epoch 1/15\n",
      "80/86 [==========================>...] - ETA: 0s - loss: 0.9926 - acc: 0.5469"
     ]
    },
    {
     "name": "stderr",
     "output_type": "stream",
     "text": [
      "WARNING:absl:Found untraced functions such as _jit_compiled_convolution_op, _jit_compiled_convolution_op while saving (showing 2 of 2). These functions will not be directly callable after loading.\n"
     ]
    },
    {
     "name": "stdout",
     "output_type": "stream",
     "text": [
      "INFO:tensorflow:Assets written to: ./res/T_model_AttCNN_bert.tf/assets\n"
     ]
    },
    {
     "name": "stderr",
     "output_type": "stream",
     "text": [
      "INFO:tensorflow:Assets written to: ./res/T_model_AttCNN_bert.tf/assets\n"
     ]
    },
    {
     "name": "stdout",
     "output_type": "stream",
     "text": [
      "86/86 [==============================] - 1s 12ms/step - loss: 0.9936 - acc: 0.5475 - val_loss: 0.9988 - val_acc: 0.5461\n",
      "Epoch 2/15\n",
      "81/86 [===========================>..] - ETA: 0s - loss: 0.7780 - acc: 0.6759"
     ]
    },
    {
     "name": "stderr",
     "output_type": "stream",
     "text": [
      "WARNING:absl:Found untraced functions such as _jit_compiled_convolution_op, _jit_compiled_convolution_op while saving (showing 2 of 2). These functions will not be directly callable after loading.\n"
     ]
    },
    {
     "name": "stdout",
     "output_type": "stream",
     "text": [
      "INFO:tensorflow:Assets written to: ./res/T_model_AttCNN_bert.tf/assets\n"
     ]
    },
    {
     "name": "stderr",
     "output_type": "stream",
     "text": [
      "INFO:tensorflow:Assets written to: ./res/T_model_AttCNN_bert.tf/assets\n"
     ]
    },
    {
     "name": "stdout",
     "output_type": "stream",
     "text": [
      "86/86 [==============================] - 1s 11ms/step - loss: 0.7824 - acc: 0.6718 - val_loss: 0.9467 - val_acc: 0.6118\n",
      "Epoch 3/15\n",
      "86/86 [==============================] - 1s 6ms/step - loss: 0.6810 - acc: 0.7156 - val_loss: 1.0312 - val_acc: 0.5943\n",
      "Epoch 4/15\n",
      "86/86 [==============================] - 1s 6ms/step - loss: 0.6401 - acc: 0.7485 - val_loss: 1.0886 - val_acc: 0.5702\n",
      "Epoch 5/15\n",
      "86/86 [==============================] - 1s 6ms/step - loss: 0.5357 - acc: 0.7851 - val_loss: 1.1622 - val_acc: 0.5855\n",
      "Epoch 6/15\n",
      "86/86 [==============================] - 1s 6ms/step - loss: 0.4773 - acc: 0.8158 - val_loss: 1.3372 - val_acc: 0.5877\n",
      "Epoch 7/15\n",
      "86/86 [==============================] - 1s 6ms/step - loss: 0.4022 - acc: 0.8392 - val_loss: 1.6286 - val_acc: 0.5789\n",
      "Epoch 8/15\n",
      "86/86 [==============================] - 1s 6ms/step - loss: 0.3361 - acc: 0.8757 - val_loss: 1.5721 - val_acc: 0.5548\n",
      "Epoch 9/15\n",
      "86/86 [==============================] - 1s 6ms/step - loss: 0.2618 - acc: 0.9101 - val_loss: 1.7594 - val_acc: 0.5570\n",
      "Epoch 10/15\n",
      "86/86 [==============================] - 1s 6ms/step - loss: 0.2077 - acc: 0.9254 - val_loss: 1.9532 - val_acc: 0.5526\n",
      "Epoch 11/15\n",
      "86/86 [==============================] - 1s 6ms/step - loss: 0.1961 - acc: 0.9320 - val_loss: 2.1381 - val_acc: 0.5263\n",
      "Epoch 12/15\n",
      "86/86 [==============================] - 1s 6ms/step - loss: 0.1604 - acc: 0.9452 - val_loss: 2.3253 - val_acc: 0.5241\n",
      "Epoch 13/15\n",
      "86/86 [==============================] - 1s 6ms/step - loss: 0.2500 - acc: 0.9057 - val_loss: 2.2443 - val_acc: 0.5548\n",
      "Epoch 14/15\n",
      "86/86 [==============================] - 1s 6ms/step - loss: 0.1728 - acc: 0.9401 - val_loss: 2.5768 - val_acc: 0.5219\n",
      "Epoch 15/15\n",
      "86/86 [==============================] - 1s 6ms/step - loss: 0.1248 - acc: 0.9561 - val_loss: 2.5617 - val_acc: 0.5680\n"
     ]
    },
    {
     "data": {
      "text/plain": [
       "<keras.callbacks.History at 0x7f2e3473a050>"
      ]
     },
     "execution_count": 60,
     "metadata": {},
     "output_type": "execute_result"
    }
   ],
   "source": [
    "callback_list = [ModelCheckpoint(filepath='./res/T_model_AttCNN_bert.tf', monitor='val_loss', save_best_only=True, save_freq='epoch')]\n",
    "\n",
    "model.fit(x=np.asarray(bert_embs['train']), y=np.asarray(label['train']), batch_size=16, epochs=15, \n",
    "            validation_data=[np.asarray(bert_embs['valid']), np.asarray(label['valid'])],\n",
    "            callbacks=callback_list)"
   ]
  },
  {
   "cell_type": "code",
   "execution_count": 66,
   "id": "9c857625-8c38-4ff2-a958-af92ef729926",
   "metadata": {},
   "outputs": [
    {
     "name": "stdout",
     "output_type": "stream",
     "text": [
      "15/15 [==============================] - 0s 3ms/step\n",
      "              precision    recall  f1-score   support\n",
      "\n",
      "         Neg     0.6506    0.8710    0.7448       248\n",
      "         Pos     0.5743    0.4143    0.4813       140\n",
      "         Neu     0.2917    0.1014    0.1505        69\n",
      "\n",
      "    accuracy                         0.6149       457\n",
      "   macro avg     0.5055    0.4622    0.4589       457\n",
      "weighted avg     0.5730    0.6149    0.5744       457\n",
      "\n",
      "[[216  26   6]\n",
      " [ 71  58  11]\n",
      " [ 45  17   7]]\n"
     ]
    }
   ],
   "source": [
    "model = tf.keras.models.load_model('./res/T_model_AttCNN_bert.tf')\n",
    "pred = model.predict(np.asarray(bert_embs['test']))\n",
    "predicted_test_labels = pred.argmax(axis=1)\n",
    "numeric_test_labels = np.array(label['test'])\n",
    "            \n",
    "eval_res = classification_report(numeric_test_labels, predicted_test_labels, \n",
    "                                    target_names = ['Neg', 'Pos', 'Neu'], \n",
    "                                    digits=4, output_dict=False)\n",
    "\n",
    "print(eval_res)\n",
    "\n",
    "cm = confusion_matrix(y_true=numeric_test_labels.tolist(), y_pred=predicted_test_labels.tolist())\n",
    "print(cm)"
   ]
  },
  {
   "cell_type": "code",
   "execution_count": null,
   "id": "7efd29ee-363b-4c04-9649-3c96386f0ffe",
   "metadata": {},
   "outputs": [],
   "source": []
  }
 ],
 "metadata": {
  "kernelspec": {
   "display_name": "Python 3 (ipykernel)",
   "language": "python",
   "name": "python3"
  },
  "language_info": {
   "codemirror_mode": {
    "name": "ipython",
    "version": 3
   },
   "file_extension": ".py",
   "mimetype": "text/x-python",
   "name": "python",
   "nbconvert_exporter": "python",
   "pygments_lexer": "ipython3",
   "version": "3.10.4"
  }
 },
 "nbformat": 4,
 "nbformat_minor": 5
}
